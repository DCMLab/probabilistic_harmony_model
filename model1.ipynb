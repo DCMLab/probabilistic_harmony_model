{
 "cells": [
  {
   "cell_type": "code",
   "execution_count": 91,
   "metadata": {},
   "outputs": [],
   "source": [
    "import torch\n",
    "import pyro\n",
    "from pyro.distributions import *\n",
    "from collections import Counter\n",
    "import pyro.infer\n",
    "import pyro.optim\n",
    "pyro.enable_validation(True)\n",
    "import matplotlib.pyplot as plt\n",
    "import tqdm\n",
    "\n",
    "import numpy as np\n",
    "import pandas as pd"
   ]
  },
  {
   "cell_type": "markdown",
   "metadata": {},
   "source": [
    "# A Cognitive Model or Harmonic Types\n",
    "\n",
    "## Model\n",
    "\n",
    "A chord consists of a number of notes,\n",
    "which are either generated as stable chord tones or as ornaments.\n",
    "We model this process by distinguishing (for each chord type)\n",
    "a distribution of chord tones and a distribution of ornaments.\n",
    "For each generated note, a coin is flipped as to whether the tone is generated as a chord tone or ornament.\n",
    "The pitch is then drawn from the corresponding distribution.\n",
    "Since we don't always know the type of a note, we flip another coin to decide whether the type is observed or not (in which case `unknown` is emitted for both ornaments and chordtones).\n",
    "\n",
    "Priors:\n",
    "- choose $\\vec\\chi \\sim \\text{Dirichlet}(0.5, n_\\text{harmonies})$\n",
    "- choose $\\theta \\sim \\text{Beta}(1,1)$\n",
    "- choose $\\lambda \\sim \\text{Gamma}(3,1)$\n",
    "- for each chord type $i$\n",
    "  - choose $\\vec\\phi_{ct}^{(i)} \\sim \\text{Dirichlet}(0.5, n_\\text{pitches})$\n",
    "  - choose $\\vec\\phi_{or}^{(i)} \\sim \\text{Dirichlet}(0.5, n_\\text{pitches})$\n",
    "\n",
    "Generating a single chord (long version):\n",
    "- choose $h \\sim \\text{Categorical}(\\vec\\chi)$\n",
    "- choose $n \\sim \\text{Poisson}(\\lambda) + 1$\n",
    "- for each note $i \\in 1, \\ldots, n$:\n",
    "  - choose $t_i \\sim \\text{Bernoulli}(\\theta)$\n",
    "  - choose $p_i \\sim \\begin{cases}\n",
    "                       \\text{Categorical}(\\vec\\phi_{ct}^{(h)}) & \\text{if } t_i = 1\\\\\n",
    "                       \\text{Categorical}(\\vec\\phi_{or}^{(h)}) & \\text{if } t_i = 0\n",
    "                     \\end{cases}$\n",
    "  - choose $o_i \\sim \\text{Bernoulli}(p_\\text{obs})$\n",
    "  - choose $ot_i = \\begin{cases}\n",
    "                     \\text{'chordtone'} & \\text{if } o_i = 1 \\wedge p_i = 1\\\\\n",
    "                     \\text{'ornament'} & \\text{if } o_i = 1 \\wedge p_i = 0\\\\\n",
    "                     \\text{'unknown'} & \\text{if } o_i = 0\\\\\n",
    "                   \\end{cases}$\n",
    "- count $(p_i,ot_i)$ pairs\n",
    "\n",
    "Generating a single chord (compact version)\n",
    "- choose $h \\sim \\text{Catecorical}(\\vec\\chi)$\n",
    "- choose $n \\sim \\text{Poisson}(\\lambda) + 1$\n",
    "- choose $n_{p,ot} \\sim \\text{Multinomial}(n, \\vec\\nu),$ where\n",
    "  - $\\nu_{ct} = p_\\text{obs} \\cdot \\theta \\cdot \\vec\\phi_{ct}^{(h)}$\n",
    "  - $\\nu_{or} = p_\\text{obs} \\cdot (1-\\theta) \\cdot \\vec\\phi_{or}^{(o)}$\n",
    "  - $\\nu_{uk} = (1-p_\\text{obs}) \\cdot \\left( \\theta \\vec\\phi_{ct}^{(h)} + (1-\\theta) \\vec\\phi_{or}^{(h)} \\right)$\n",
    "  - $\\nu = (\\nu_{ct}, \\nu_{or}, \\nu_{uk})$"
   ]
  },
  {
   "cell_type": "code",
   "execution_count": 74,
   "metadata": {},
   "outputs": [],
   "source": [
    "#nharmonies = 10\n",
    "npcs = 4*7+1 # around C: Cbb to C## on LoF\n",
    "\n",
    "#@pyro.infer.config_enumerate\n",
    "def chord_model(npcs, nharmonies, nchords, pobserve=0.5):\n",
    "    # parameters priors:\n",
    "    # distribution of the harmonies\n",
    "    p_harmony = pyro.sample('p_harmony', Dirichlet(0.5 * torch.ones(nharmonies)))\n",
    "    # distribution of ornament probability\n",
    "    p_is_chordtone = pyro.sample('p_is_chordtone', Beta(1, 1))\n",
    "    # distribution of notes in the harmonies\n",
    "    with pyro.plate('harmonies', nharmonies):\n",
    "        # distribution of notes per note type\n",
    "        p_chordtones = pyro.sample('p_chordtones', Dirichlet(0.5 * torch.ones(npcs)))\n",
    "        p_ornaments  = pyro.sample('p_ornaments', Dirichlet(0.5 * torch.ones(npcs)))\n",
    "        # we build a big categorical out of the chordtones and ornaments,\n",
    "        # including notes of unknown type (marginalizing over the categories)\n",
    "        p_ct = p_is_chordtone       * p_chordtones\n",
    "        p_or = (1 - p_is_chordtone) * p_ornaments\n",
    "        p_unobserved = p_ct + p_or\n",
    "        p_tones = torch.cat([pobserve * p_ct, pobserve * p_or, (1-pobserve) * p_unobserved], dim=1)\n",
    "    # distribution of note rate in chords\n",
    "    rate_notes = pyro.sample('rate_notes', Gamma(3,1))\n",
    "    \n",
    "    # sampling the data:\n",
    "    chords = list()\n",
    "    for c in pyro.plate('data', nchords):\n",
    "        # pick a harmony\n",
    "        h = pyro.sample('h_{}'.format(c), Categorical(p_harmony))\n",
    "        # pick a number of notes\n",
    "        nnotes = 1 + int(pyro.sample('n_{}'.format(c), Poisson(rate_notes)))\n",
    "        # sample chordtones\n",
    "        chordtones = pyro.sample('chord_{}'.format(c), Multinomial(nnotes, p_tones[h]))\n",
    "        chords.append({'h': h, 'n': nnotes,\n",
    "                       'counts': chordtones.reshape((npcs,3))})\n",
    "    return chords"
   ]
  },
  {
   "cell_type": "code",
   "execution_count": 81,
   "metadata": {},
   "outputs": [
    {
     "data": {
      "text/plain": [
       "[{'h': tensor(0),\n",
       "  'n': 3,\n",
       "  'counts': tensor([[0., 0., 0.],\n",
       "          [0., 0., 0.],\n",
       "          [0., 0., 0.],\n",
       "          [0., 1., 0.],\n",
       "          [0., 0., 0.],\n",
       "          [0., 0., 0.],\n",
       "          [0., 0., 0.],\n",
       "          [0., 0., 0.],\n",
       "          [0., 0., 0.],\n",
       "          [0., 0., 0.],\n",
       "          [0., 0., 0.],\n",
       "          [0., 0., 0.],\n",
       "          [0., 0., 0.],\n",
       "          [0., 0., 1.],\n",
       "          [0., 0., 0.],\n",
       "          [0., 0., 0.],\n",
       "          [0., 0., 0.],\n",
       "          [0., 0., 0.],\n",
       "          [0., 0., 0.],\n",
       "          [0., 0., 0.],\n",
       "          [0., 1., 0.],\n",
       "          [0., 0., 0.],\n",
       "          [0., 0., 0.],\n",
       "          [0., 0., 0.],\n",
       "          [0., 0., 0.],\n",
       "          [0., 0., 0.],\n",
       "          [0., 0., 0.],\n",
       "          [0., 0., 0.],\n",
       "          [0., 0., 0.]])},\n",
       " {'h': tensor(0),\n",
       "  'n': 5,\n",
       "  'counts': tensor([[0., 0., 0.],\n",
       "          [0., 0., 0.],\n",
       "          [0., 0., 0.],\n",
       "          [0., 0., 0.],\n",
       "          [0., 0., 0.],\n",
       "          [0., 0., 0.],\n",
       "          [0., 0., 0.],\n",
       "          [0., 0., 0.],\n",
       "          [0., 0., 0.],\n",
       "          [0., 0., 0.],\n",
       "          [1., 0., 1.],\n",
       "          [0., 0., 0.],\n",
       "          [0., 0., 0.],\n",
       "          [0., 0., 0.],\n",
       "          [0., 0., 0.],\n",
       "          [0., 0., 0.],\n",
       "          [0., 1., 0.],\n",
       "          [0., 0., 0.],\n",
       "          [0., 0., 0.],\n",
       "          [0., 0., 0.],\n",
       "          [0., 0., 0.],\n",
       "          [0., 0., 1.],\n",
       "          [0., 0., 0.],\n",
       "          [1., 0., 0.],\n",
       "          [0., 0., 0.],\n",
       "          [0., 0., 0.],\n",
       "          [0., 0., 0.],\n",
       "          [0., 0., 0.],\n",
       "          [0., 0., 0.]])},\n",
       " {'h': tensor(1),\n",
       "  'n': 6,\n",
       "  'counts': tensor([[0., 0., 0.],\n",
       "          [0., 0., 0.],\n",
       "          [0., 0., 0.],\n",
       "          [0., 0., 0.],\n",
       "          [0., 0., 0.],\n",
       "          [0., 0., 0.],\n",
       "          [0., 0., 0.],\n",
       "          [0., 0., 0.],\n",
       "          [0., 0., 0.],\n",
       "          [0., 0., 0.],\n",
       "          [0., 0., 0.],\n",
       "          [0., 0., 0.],\n",
       "          [0., 0., 0.],\n",
       "          [0., 0., 0.],\n",
       "          [0., 0., 1.],\n",
       "          [0., 0., 0.],\n",
       "          [0., 0., 0.],\n",
       "          [0., 0., 0.],\n",
       "          [0., 0., 0.],\n",
       "          [0., 0., 1.],\n",
       "          [0., 0., 0.],\n",
       "          [0., 0., 1.],\n",
       "          [0., 1., 0.],\n",
       "          [0., 0., 0.],\n",
       "          [1., 0., 0.],\n",
       "          [1., 0., 0.],\n",
       "          [0., 0., 0.],\n",
       "          [0., 0., 0.],\n",
       "          [0., 0., 0.]])},\n",
       " {'h': tensor(0),\n",
       "  'n': 3,\n",
       "  'counts': tensor([[0., 0., 0.],\n",
       "          [0., 0., 0.],\n",
       "          [0., 0., 0.],\n",
       "          [0., 0., 0.],\n",
       "          [0., 0., 0.],\n",
       "          [0., 0., 0.],\n",
       "          [0., 0., 0.],\n",
       "          [0., 0., 0.],\n",
       "          [0., 0., 0.],\n",
       "          [0., 0., 0.],\n",
       "          [0., 0., 0.],\n",
       "          [0., 0., 0.],\n",
       "          [1., 0., 0.],\n",
       "          [0., 0., 0.],\n",
       "          [0., 0., 0.],\n",
       "          [0., 0., 0.],\n",
       "          [0., 0., 0.],\n",
       "          [0., 0., 1.],\n",
       "          [0., 0., 0.],\n",
       "          [0., 0., 0.],\n",
       "          [0., 0., 0.],\n",
       "          [0., 0., 1.],\n",
       "          [0., 0., 0.],\n",
       "          [0., 0., 0.],\n",
       "          [0., 0., 0.],\n",
       "          [0., 0., 0.],\n",
       "          [0., 0., 0.],\n",
       "          [0., 0., 0.],\n",
       "          [0., 0., 0.]])}]"
      ]
     },
     "execution_count": 81,
     "metadata": {},
     "output_type": "execute_result"
    }
   ],
   "source": [
    "chord_model(npcs, 3, 4)"
   ]
  },
  {
   "cell_type": "markdown",
   "metadata": {},
   "source": [
    "## Guide\n",
    "\n",
    "A simple guide that assumes the latent variables to be distributed independently."
   ]
  },
  {
   "cell_type": "code",
   "execution_count": 78,
   "metadata": {},
   "outputs": [],
   "source": [
    "def chord_guide(npcs, nharmonies, nchords, pobserve=0.5):\n",
    "    # posterior of p_harmony\n",
    "    params_p_harmony = pyro.param('params_p_harmony', 0.5 * torch.ones(nharmonies),\n",
    "                                  constraint=constraints.positive)\n",
    "    pyro.sample('p_harmony', Dirichlet(params_p_harmony))\n",
    "    # posteriors of notes dists in harmonies\n",
    "    with pyro.plate('harmonies', nharmonies):\n",
    "        params_p_chordtones = pyro.param('params_p_chordtones', 0.5 * torch.ones(npcs),\n",
    "                                         constraint=constraints.positive)\n",
    "        pyro.sample('p_chordtones', Dirichlet(params_p_chordtones))\n",
    "        params_p_ornaments = pyro.param('params_p_ornaments', 0.5 * torch.ones(npcs),\n",
    "                                         constraint=constraints.positive)\n",
    "        pyro.sample('p_ornaments', Dirichlet(params_p_ornaments))\n",
    "    # posterior of note rate\n",
    "    alpha_rate_notes = pyro.param('alpha_rate_notes', torch.tensor(3.),\n",
    "                                  constraint=constraints.positive)\n",
    "    beta_rate_notes = pyro.param('beta_rate_notes', torch.tensor(1.),\n",
    "                                 constraint=constraints.positive)\n",
    "    rate_notes = pyro.sample('rate_notes', Gamma(alpha_rate_notes, beta_rate_notes))\n",
    "    # posterior of ornament probability\n",
    "    alpha_p_ict = pyro.param('alpha_p_ict', torch.tensor(1.), constraint=constraints.positive)\n",
    "    beta_p_ict = pyro.param('beta_p_ict', torch.tensor(1.), constraint=constraints.positive)\n",
    "    pyro.sample('p_is_chordtone', Beta(alpha_p_ict, beta_p_ict))"
   ]
  },
  {
   "cell_type": "markdown",
   "metadata": {},
   "source": [
    "## Data and Conditioning"
   ]
  },
  {
   "cell_type": "code",
   "execution_count": 82,
   "metadata": {},
   "outputs": [],
   "source": [
    "def chord_tensor(notes):\n",
    "    notetype = {'chordtone': 0, 'ornament': 1, 'unknown': 2}\n",
    "    chord = torch.zeros((npcs, 3))\n",
    "    for (pitch, t) in notes:\n",
    "        chord[pitch%npcs, notetype[t]] += 1\n",
    "    return chord\n",
    "\n",
    "def annot_data_obs(chords):\n",
    "    obs = {}\n",
    "    for (i, chord) in enumerate(chords):\n",
    "        obs[\"h_{}\".format(i)] = torch.tensor(chord[\"label\"])\n",
    "        obs[\"n_{}\".format(i)] = torch.tensor(len(chord[\"notes\"]) - 1.)\n",
    "        obs[\"chord_{}\".format(i)] = chord_tensor(chord[\"notes\"]).flatten()\n",
    "    return obs"
   ]
  },
  {
   "cell_type": "code",
   "execution_count": 83,
   "metadata": {
    "scrolled": true
   },
   "outputs": [
    {
     "data": {
      "text/plain": [
       "{'h_0': tensor(0),\n",
       " 'n_0': tensor(3.),\n",
       " 'chord_0': tensor([1., 0., 0., 1., 0., 0., 0., 0., 0., 0., 0., 0., 1., 1., 0., 0., 0., 0.,\n",
       "         0., 0., 0., 0., 0., 0., 0., 0., 0., 0., 0., 0., 0., 0., 0., 0., 0., 0.,\n",
       "         0., 0., 0., 0., 0., 0., 0., 0., 0., 0., 0., 0., 0., 0., 0., 0., 0., 0.,\n",
       "         0., 0., 0., 0., 0., 0., 0., 0., 0., 0., 0., 0., 0., 0., 0., 0., 0., 0.,\n",
       "         0., 0., 0., 0., 0., 0., 0., 0., 0., 0., 0., 0., 0., 0., 0.]),\n",
       " 'h_1': tensor(1),\n",
       " 'n_1': tensor(3.),\n",
       " 'chord_1': tensor([1., 0., 0., 1., 0., 0., 0., 0., 0., 0., 0., 0., 0., 0., 0., 0., 0., 0.,\n",
       "         0., 0., 0., 0., 0., 0., 0., 0., 0., 0., 0., 0., 0., 0., 0., 0., 0., 0.,\n",
       "         0., 0., 0., 0., 0., 0., 0., 0., 0., 0., 0., 0., 0., 0., 0., 0., 0., 0.,\n",
       "         0., 0., 0., 0., 0., 0., 0., 0., 0., 0., 0., 0., 0., 0., 0., 0., 0., 0.,\n",
       "         0., 0., 0., 0., 0., 0., 1., 0., 0., 0., 0., 1., 0., 0., 0.])}"
      ]
     },
     "execution_count": 83,
     "metadata": {},
     "output_type": "execute_result"
    }
   ],
   "source": [
    "example_chords = [\n",
    "    {'label': 0, 'notes': [(0,'chordtone'), (4,'chordtone'), (1,'chordtone'), (4,'ornament')]},\n",
    "    {'label': 1, 'notes': [(0,'chordtone'), (-3,'chordtone'), (1,'chordtone'), (-2,'unknown')]}\n",
    "]\n",
    "example_obs = annot_data_obs(example_chords)\n",
    "example_obs"
   ]
  },
  {
   "cell_type": "code",
   "execution_count": 84,
   "metadata": {},
   "outputs": [],
   "source": [
    "conditioned_model = pyro.condition(chord_model, data=example_obs)"
   ]
  },
  {
   "cell_type": "markdown",
   "metadata": {},
   "source": [
    "## Inference"
   ]
  },
  {
   "cell_type": "code",
   "execution_count": 88,
   "metadata": {},
   "outputs": [
    {
     "name": "stderr",
     "output_type": "stream",
     "text": [
      "100%|██████████| 5000/5000 [00:44<00:00, 113.51it/s]\n"
     ]
    },
    {
     "data": {
      "image/png": "[encoded data removed]",
      "text/plain": [
       "<Figure size 432x288 with 1 Axes>"
      ]
     },
     "metadata": {
      "needs_background": "light"
     },
     "output_type": "display_data"
    }
   ],
   "source": [
    "# optimize the parameters of the guide\n",
    "pyro.clear_param_store()\n",
    "svi = pyro.infer.SVI(model=conditioned_model,\n",
    "                     guide=chord_guide,\n",
    "                     optim=pyro.optim.Adam({\"lr\": 0.005, \"betas\": (0.95, 0.999)}),\n",
    "                     loss=pyro.infer.Trace_ELBO())\n",
    "\n",
    "losses = []\n",
    "chord_guide(npcs, 3, 2) # collect params\n",
    "param_values = {name:[] for name in ['alpha_rate_notes', 'beta_rate_notes', 'alpha_p_ict', 'beta_p_ict']}\n",
    "\n",
    "nsteps = 5000\n",
    "for i in tqdm.trange(nsteps):\n",
    "    losses.append(svi.step(npcs, 3, 2))\n",
    "    for (name, value) in pyro.get_param_store().items():\n",
    "        if name in param_values:\n",
    "            param_values[name].append(value.item())\n",
    "\n",
    "plt.plot(losses)\n",
    "plt.xlabel(\"step\")\n",
    "plt.ylabel(\"loss\")\n",
    "plt.show()"
   ]
  },
  {
   "cell_type": "code",
   "execution_count": 90,
   "metadata": {},
   "outputs": [
    {
     "data": {
      "text/plain": [
       "<matplotlib.axes._subplots.AxesSubplot at 0x7f52a8a68fd0>"
      ]
     },
     "execution_count": 90,
     "metadata": {},
     "output_type": "execute_result"
    },
    {
     "data": {
      "image/png": "[encoded data removed]",
      "text/plain": [
       "<Figure size 432x288 with 1 Axes>"
      ]
     },
     "metadata": {
      "needs_background": "light"
     },
     "output_type": "display_data"
    }
   ],
   "source": [
    "df = pd.DataFrame(param_values)\n",
    "df.plot()"
   ]
  },
  {
   "cell_type": "code",
   "execution_count": 89,
   "metadata": {},
   "outputs": [
    {
     "name": "stdout",
     "output_type": "stream",
     "text": [
      "params_p_harmony :\t tensor([1.5144, 1.4922, 0.5056], grad_fn=<AddBackward0>)\n",
      "params_p_chordtones :\t tensor([1.1966, 0.4910, 0.4985, 1.1620, 0.5134, 0.4885, 0.4955, 0.5230, 0.5013,\n",
      "        0.4776, 0.5141, 0.5090, 0.8194, 0.8614, 0.4922, 0.4898, 0.5079, 0.4980,\n",
      "        0.4923, 0.4879, 0.7601, 0.4544, 0.5185, 0.4993, 0.4959, 0.6885, 0.5110,\n",
      "        0.4861, 0.5117], grad_fn=<AddBackward0>)\n",
      "params_p_ornaments :\t tensor([0.4967, 0.4804, 0.5002, 0.5123, 0.5225, 0.4949, 0.4794, 0.4979, 0.4639,\n",
      "        0.5259, 0.4917, 0.4992, 0.4747, 0.4856, 0.4949, 0.4794, 0.5030, 0.4902,\n",
      "        0.4605, 0.5066, 0.5483, 0.4818, 0.4838, 0.5184, 0.5082, 0.5169, 0.4800,\n",
      "        0.5118, 0.5171], grad_fn=<AddBackward0>)\n",
      "alpha_rate_notes :\t tensor(7.5852, grad_fn=<AddBackward0>)\n",
      "beta_rate_notes :\t tensor(2.5182, grad_fn=<AddBackward0>)\n",
      "alpha_p_ict :\t tensor(6.5894, grad_fn=<AddBackward0>)\n",
      "beta_p_ict :\t tensor(1.0893, grad_fn=<AddBackward0>)\n"
     ]
    }
   ],
   "source": [
    "# show optimized parameters:\n",
    "for (name, value) in pyro.get_param_store().items():\n",
    "    print(name, \":\\t\", value)"
   ]
  },
  {
   "cell_type": "code",
   "execution_count": 122,
   "metadata": {},
   "outputs": [
    {
     "data": {
      "image/png": "[encoded data removed]",
      "text/plain": [
       "<Figure size 432x288 with 1 Axes>"
      ]
     },
     "metadata": {
      "needs_background": "light"
     },
     "output_type": "display_data"
    },
    {
     "data": {
      "image/png": "[encoded data removed]",
      "text/plain": [
       "<Figure size 432x288 with 1 Axes>"
      ]
     },
     "metadata": {
      "needs_background": "light"
     },
     "output_type": "display_data"
    }
   ],
   "source": [
    "# posterior of 'rate_notes'\n",
    "a = pyro.get_param_store().get_param(\"alpha_rate_notes\").item()\n",
    "b = pyro.get_param_store().get_param(\"beta_rate_notes\").item()\n",
    "x = np.linspace(1,10,100)\n",
    "y = np.exp(Gamma(a,b).log_prob(x))\n",
    "plt.plot(x,y)\n",
    "plt.xlabel('rate_notes')\n",
    "plt.show()\n",
    "xrate = torch.linspace(0,10,11)\n",
    "yrate = np.exp(GammaPoisson(a,b).log_prob(xrate))\n",
    "plt.bar(xrate, yrate)\n",
    "plt.xlabel('nnotes (expected)')\n",
    "plt.show()"
   ]
  },
  {
   "cell_type": "code",
   "execution_count": 121,
   "metadata": {},
   "outputs": [
    {
     "data": {
      "image/png": "[encoded data removed]",
      "text/plain": [
       "<Figure size 432x288 with 1 Axes>"
      ]
     },
     "metadata": {
      "needs_background": "light"
     },
     "output_type": "display_data"
    }
   ],
   "source": [
    "# posterior of 'p_is_chordtone'\n",
    "a = pyro.get_param_store().get_param(\"alpha_p_ict\").item()\n",
    "b = pyro.get_param_store().get_param(\"beta_p_ict\").item()\n",
    "x = torch.linspace(0,1,100)\n",
    "y = np.exp(Beta(a,b).log_prob(x))\n",
    "plt.plot(x,y)\n",
    "plt.xlabel(\"p_is_chordtone\")\n",
    "plt.show()"
   ]
  },
  {
   "cell_type": "code",
   "execution_count": null,
   "metadata": {},
   "outputs": [],
   "source": []
  }
 ],
 "metadata": {
  "@webio": {
   "lastCommId": null,
   "lastKernelId": null
  },
  "kernelspec": {
   "display_name": "harmony-model",
   "language": "python",
   "name": "harmony-model"
  },
  "language_info": {
   "codemirror_mode": {
    "name": "ipython",
    "version": 3
   },
   "file_extension": ".py",
   "mimetype": "text/x-python",
   "name": "python",
   "nbconvert_exporter": "python",
   "pygments_lexer": "ipython3",
   "version": "3.8.3"
  }
 },
 "nbformat": 4,
 "nbformat_minor": 2
}
