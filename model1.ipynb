{
 "cells": [
  {
   "cell_type": "code",
   "execution_count": 73,
   "metadata": {},
   "outputs": [],
   "source": [
    "import torch\n",
    "import pyro\n",
    "from pyro.distributions import *\n",
    "from collections import Counter\n",
    "import pyro.infer\n",
    "import pyro.optim\n",
    "pyro.enable_validation(True)\n",
    "import matplotlib.pyplot as plt\n",
    "import tqdm\n",
    "import pandas as pd"
   ]
  },
  {
   "cell_type": "code",
   "execution_count": 74,
   "metadata": {},
   "outputs": [],
   "source": [
    "#nchords = 10\n",
    "npcs = 4*7+1 # around C: Cbb to C## on LoF\n",
    "\n",
    "#@pyro.infer.config_enumerate\n",
    "def chord_model(npcs, nharmonies, nchords, pobserve=0.5):\n",
    "    # parameters priors:\n",
    "    # distribution of the harmonies\n",
    "    p_harmony = pyro.sample('p_harmony', Dirichlet(0.5 * torch.ones(nharmonies)))\n",
    "    # distribution of ornament probability\n",
    "    p_is_chordtone = pyro.sample('p_is_chordtone', Beta(1, 1))\n",
    "    # distribution of notes in the harmonies\n",
    "    with pyro.plate('harmonies', nharmonies):\n",
    "        # distribution of notes per note type\n",
    "        p_chordtones = pyro.sample('p_chordtones', Dirichlet(0.5 * torch.ones(npcs)))\n",
    "        p_ornaments  = pyro.sample('p_ornaments', Dirichlet(0.5 * torch.ones(npcs)))\n",
    "        # we build a big categorical out of the chordtones and ornaments,\n",
    "        # including notes of unknown type (marginalizing over the categories)\n",
    "        p_ct = p_is_chordtone       * p_chordtones\n",
    "        p_or = (1 - p_is_chordtone) * p_ornaments\n",
    "        p_unobserved = p_ct + p_or\n",
    "        p_tones = torch.cat([pobserve * p_ct, pobserve * p_or, (1-pobserve) * p_unobserved], dim=1)\n",
    "    # distribution of note rate in chords\n",
    "    rate_notes = pyro.sample('rate_notes', Gamma(3,1))\n",
    "    \n",
    "    # sampling the data:\n",
    "    chords = list()\n",
    "    for c in pyro.plate('data', nchords):\n",
    "        # pick a harmony\n",
    "        h = pyro.sample('h_{}'.format(c), Categorical(p_harmony))\n",
    "        # pick a number of notes\n",
    "        nnotes = 1 + int(pyro.sample('n_{}'.format(c), Poisson(rate_notes)))\n",
    "        # sample chordtones\n",
    "        chordtones = pyro.sample('chord_{}'.format(c), Multinomial(nnotes, p_tones[h]))\n",
    "        chords.append({'h': h, 'n': nnotes,\n",
    "                       'counts': chordtones.reshape((npcs,3))})\n",
    "    return chords"
   ]
  },
  {
   "cell_type": "code",
   "execution_count": 77,
   "metadata": {},
   "outputs": [
    {
     "name": "stdout",
     "output_type": "stream",
     "text": [
      "_INPUT\n",
      "p_harmony\n",
      "p_is_chordtone\n",
      "harmonies\n",
      "p_chordtones\n",
      "p_ornaments\n",
      "rate_notes\n",
      "data\n",
      "h_0\n",
      "n_0\n",
      "chord_0\n",
      "h_1\n",
      "n_1\n",
      "chord_1\n",
      "h_2\n",
      "n_2\n",
      "chord_2\n",
      "h_3\n",
      "n_3\n",
      "chord_3\n",
      "_RETURN\n"
     ]
    }
   ],
   "source": [
    "tr = pyro.poutine.trace(chord_model).get_trace(npcs,3,4)\n",
    "for (name, val) in tr.nodes.items():\n",
    "    print(name)"
   ]
  },
  {
   "cell_type": "code",
   "execution_count": 78,
   "metadata": {},
   "outputs": [],
   "source": [
    "def chord_guide(npcs, nharmonies, nchords, pobserve=0.5):\n",
    "    # posterior of p_harmony\n",
    "    params_p_harmony = pyro.param('params_p_harmony', 0.5 * torch.ones(nharmonies),\n",
    "                                  constraint=constraints.positive)\n",
    "    pyro.sample('p_harmony', Dirichlet(params_p_harmony))\n",
    "    # posteriors of notes dists in harmonies\n",
    "    with pyro.plate('harmonies', nharmonies):\n",
    "        params_p_chordtones = pyro.param('params_p_chordtones', 0.5 * torch.ones(npcs),\n",
    "                                         constraint=constraints.positive)\n",
    "        pyro.sample('p_chordtones', Dirichlet(params_p_chordtones))\n",
    "        params_p_ornaments = pyro.param('params_p_ornaments', 0.5 * torch.ones(npcs),\n",
    "                                         constraint=constraints.positive)\n",
    "        pyro.sample('p_ornaments', Dirichlet(params_p_ornaments))\n",
    "    # posterior of note rate\n",
    "    alpha_rate_notes = pyro.param('alpha_rate_notes', torch.tensor(3.),\n",
    "                                  constraint=constraints.positive)\n",
    "    beta_rate_notes = pyro.param('beta_rate_notes', torch.tensor(1.),\n",
    "                                 constraint=constraints.positive)\n",
    "    rate_notes = pyro.sample('rate_notes', Gamma(alpha_rate_notes, beta_rate_notes))\n",
    "    # posterior of ornament probability\n",
    "    alpha_p_ict = pyro.param('alpha_p_ict', torch.tensor(1.), constraint=constraints.positive)\n",
    "    beta_p_ict = pyro.param('beta_p_ict', torch.tensor(1.), constraint=constraints.positive)\n",
    "    pyro.sample('p_is_chordtone', Beta(alpha_p_ict, beta_p_ict))"
   ]
  },
  {
   "cell_type": "code",
   "execution_count": 79,
   "metadata": {},
   "outputs": [],
   "source": [
    "pyro.clear_param_store()\n",
    "chord_guide(npcs, 3, 4)"
   ]
  },
  {
   "cell_type": "code",
   "execution_count": 81,
   "metadata": {},
   "outputs": [
    {
     "data": {
      "text/plain": [
       "[{'h': tensor(0),\n",
       "  'n': 3,\n",
       "  'counts': tensor([[0., 0., 0.],\n",
       "          [0., 0., 0.],\n",
       "          [0., 0., 0.],\n",
       "          [0., 1., 0.],\n",
       "          [0., 0., 0.],\n",
       "          [0., 0., 0.],\n",
       "          [0., 0., 0.],\n",
       "          [0., 0., 0.],\n",
       "          [0., 0., 0.],\n",
       "          [0., 0., 0.],\n",
       "          [0., 0., 0.],\n",
       "          [0., 0., 0.],\n",
       "          [0., 0., 0.],\n",
       "          [0., 0., 1.],\n",
       "          [0., 0., 0.],\n",
       "          [0., 0., 0.],\n",
       "          [0., 0., 0.],\n",
       "          [0., 0., 0.],\n",
       "          [0., 0., 0.],\n",
       "          [0., 0., 0.],\n",
       "          [0., 1., 0.],\n",
       "          [0., 0., 0.],\n",
       "          [0., 0., 0.],\n",
       "          [0., 0., 0.],\n",
       "          [0., 0., 0.],\n",
       "          [0., 0., 0.],\n",
       "          [0., 0., 0.],\n",
       "          [0., 0., 0.],\n",
       "          [0., 0., 0.]])},\n",
       " {'h': tensor(0),\n",
       "  'n': 5,\n",
       "  'counts': tensor([[0., 0., 0.],\n",
       "          [0., 0., 0.],\n",
       "          [0., 0., 0.],\n",
       "          [0., 0., 0.],\n",
       "          [0., 0., 0.],\n",
       "          [0., 0., 0.],\n",
       "          [0., 0., 0.],\n",
       "          [0., 0., 0.],\n",
       "          [0., 0., 0.],\n",
       "          [0., 0., 0.],\n",
       "          [1., 0., 1.],\n",
       "          [0., 0., 0.],\n",
       "          [0., 0., 0.],\n",
       "          [0., 0., 0.],\n",
       "          [0., 0., 0.],\n",
       "          [0., 0., 0.],\n",
       "          [0., 1., 0.],\n",
       "          [0., 0., 0.],\n",
       "          [0., 0., 0.],\n",
       "          [0., 0., 0.],\n",
       "          [0., 0., 0.],\n",
       "          [0., 0., 1.],\n",
       "          [0., 0., 0.],\n",
       "          [1., 0., 0.],\n",
       "          [0., 0., 0.],\n",
       "          [0., 0., 0.],\n",
       "          [0., 0., 0.],\n",
       "          [0., 0., 0.],\n",
       "          [0., 0., 0.]])},\n",
       " {'h': tensor(1),\n",
       "  'n': 6,\n",
       "  'counts': tensor([[0., 0., 0.],\n",
       "          [0., 0., 0.],\n",
       "          [0., 0., 0.],\n",
       "          [0., 0., 0.],\n",
       "          [0., 0., 0.],\n",
       "          [0., 0., 0.],\n",
       "          [0., 0., 0.],\n",
       "          [0., 0., 0.],\n",
       "          [0., 0., 0.],\n",
       "          [0., 0., 0.],\n",
       "          [0., 0., 0.],\n",
       "          [0., 0., 0.],\n",
       "          [0., 0., 0.],\n",
       "          [0., 0., 0.],\n",
       "          [0., 0., 1.],\n",
       "          [0., 0., 0.],\n",
       "          [0., 0., 0.],\n",
       "          [0., 0., 0.],\n",
       "          [0., 0., 0.],\n",
       "          [0., 0., 1.],\n",
       "          [0., 0., 0.],\n",
       "          [0., 0., 1.],\n",
       "          [0., 1., 0.],\n",
       "          [0., 0., 0.],\n",
       "          [1., 0., 0.],\n",
       "          [1., 0., 0.],\n",
       "          [0., 0., 0.],\n",
       "          [0., 0., 0.],\n",
       "          [0., 0., 0.]])},\n",
       " {'h': tensor(0),\n",
       "  'n': 3,\n",
       "  'counts': tensor([[0., 0., 0.],\n",
       "          [0., 0., 0.],\n",
       "          [0., 0., 0.],\n",
       "          [0., 0., 0.],\n",
       "          [0., 0., 0.],\n",
       "          [0., 0., 0.],\n",
       "          [0., 0., 0.],\n",
       "          [0., 0., 0.],\n",
       "          [0., 0., 0.],\n",
       "          [0., 0., 0.],\n",
       "          [0., 0., 0.],\n",
       "          [0., 0., 0.],\n",
       "          [1., 0., 0.],\n",
       "          [0., 0., 0.],\n",
       "          [0., 0., 0.],\n",
       "          [0., 0., 0.],\n",
       "          [0., 0., 0.],\n",
       "          [0., 0., 1.],\n",
       "          [0., 0., 0.],\n",
       "          [0., 0., 0.],\n",
       "          [0., 0., 0.],\n",
       "          [0., 0., 1.],\n",
       "          [0., 0., 0.],\n",
       "          [0., 0., 0.],\n",
       "          [0., 0., 0.],\n",
       "          [0., 0., 0.],\n",
       "          [0., 0., 0.],\n",
       "          [0., 0., 0.],\n",
       "          [0., 0., 0.]])}]"
      ]
     },
     "execution_count": 81,
     "metadata": {},
     "output_type": "execute_result"
    }
   ],
   "source": [
    "chord_model(npcs, 3, 4)"
   ]
  },
  {
   "cell_type": "code",
   "execution_count": 82,
   "metadata": {},
   "outputs": [],
   "source": [
    "def chord_tensor(notes):\n",
    "    notetype = {'chordtone': 0, 'ornament': 1, 'unknown': 2}\n",
    "    chord = torch.zeros((npcs, 3))\n",
    "    for (pitch, t) in notes:\n",
    "        chord[pitch%npcs, notetype[t]] += 1\n",
    "    return chord\n",
    "\n",
    "def annot_data_obs(chords):\n",
    "    obs = {}\n",
    "    for (i, chord) in enumerate(chords):\n",
    "        obs[\"h_{}\".format(i)] = torch.tensor(chord[\"label\"])\n",
    "        obs[\"n_{}\".format(i)] = torch.tensor(len(chord[\"notes\"]) - 1.)\n",
    "        obs[\"chord_{}\".format(i)] = chord_tensor(chord[\"notes\"]).flatten()\n",
    "    return obs"
   ]
  },
  {
   "cell_type": "code",
   "execution_count": 83,
   "metadata": {
    "scrolled": true
   },
   "outputs": [
    {
     "data": {
      "text/plain": [
       "{'h_0': tensor(0),\n",
       " 'n_0': tensor(3.),\n",
       " 'chord_0': tensor([1., 0., 0., 1., 0., 0., 0., 0., 0., 0., 0., 0., 1., 1., 0., 0., 0., 0.,\n",
       "         0., 0., 0., 0., 0., 0., 0., 0., 0., 0., 0., 0., 0., 0., 0., 0., 0., 0.,\n",
       "         0., 0., 0., 0., 0., 0., 0., 0., 0., 0., 0., 0., 0., 0., 0., 0., 0., 0.,\n",
       "         0., 0., 0., 0., 0., 0., 0., 0., 0., 0., 0., 0., 0., 0., 0., 0., 0., 0.,\n",
       "         0., 0., 0., 0., 0., 0., 0., 0., 0., 0., 0., 0., 0., 0., 0.]),\n",
       " 'h_1': tensor(1),\n",
       " 'n_1': tensor(3.),\n",
       " 'chord_1': tensor([1., 0., 0., 1., 0., 0., 0., 0., 0., 0., 0., 0., 0., 0., 0., 0., 0., 0.,\n",
       "         0., 0., 0., 0., 0., 0., 0., 0., 0., 0., 0., 0., 0., 0., 0., 0., 0., 0.,\n",
       "         0., 0., 0., 0., 0., 0., 0., 0., 0., 0., 0., 0., 0., 0., 0., 0., 0., 0.,\n",
       "         0., 0., 0., 0., 0., 0., 0., 0., 0., 0., 0., 0., 0., 0., 0., 0., 0., 0.,\n",
       "         0., 0., 0., 0., 0., 0., 1., 0., 0., 0., 0., 1., 0., 0., 0.])}"
      ]
     },
     "execution_count": 83,
     "metadata": {},
     "output_type": "execute_result"
    }
   ],
   "source": [
    "example_chords = [\n",
    "    {'label': 0, 'notes': [(0,'chordtone'), (4,'chordtone'), (1,'chordtone'), (4,'ornament')]},\n",
    "    {'label': 1, 'notes': [(0,'chordtone'), (-3,'chordtone'), (1,'chordtone'), (-2,'unknown')]}\n",
    "]\n",
    "example_obs = annot_data_obs(example_chords)\n",
    "example_obs"
   ]
  },
  {
   "cell_type": "code",
   "execution_count": 84,
   "metadata": {},
   "outputs": [],
   "source": [
    "conditioned_model = pyro.condition(chord_model, data=example_obs)"
   ]
  },
  {
   "cell_type": "code",
   "execution_count": 88,
   "metadata": {},
   "outputs": [
    {
     "name": "stderr",
     "output_type": "stream",
     "text": [
      "100%|██████████| 5000/5000 [00:44<00:00, 113.51it/s]\n"
     ]
    },
    {
     "data": {
      "image/png": "[encoded data removed]",
      "text/plain": [
       "<Figure size 432x288 with 1 Axes>"
      ]
     },
     "metadata": {
      "needs_background": "light"
     },
     "output_type": "display_data"
    }
   ],
   "source": [
    "# inference\n",
    "pyro.clear_param_store()\n",
    "svi = pyro.infer.SVI(model=conditioned_model,\n",
    "                     guide=chord_guide,\n",
    "                     optim=pyro.optim.Adam({\"lr\": 0.005, \"betas\": (0.95, 0.999)}),\n",
    "                     loss=pyro.infer.Trace_ELBO())\n",
    "\n",
    "losses = []\n",
    "chord_guide(npcs, 3, 2) # collect params\n",
    "param_values = {name:[] for name in ['alpha_rate_notes', 'beta_rate_notes', 'alpha_p_ict', 'beta_p_ict']}\n",
    "\n",
    "nsteps = 5000\n",
    "for i in tqdm.trange(nsteps):\n",
    "    losses.append(svi.step(npcs, 3, 2))\n",
    "    for (name, value) in pyro.get_param_store().items():\n",
    "        if name in param_values:\n",
    "            param_values[name].append(value.item())\n",
    "\n",
    "plt.plot(losses)\n",
    "plt.xlabel(\"step\")\n",
    "plt.ylabel(\"loss\")\n",
    "plt.show()"
   ]
  },
  {
   "cell_type": "code",
   "execution_count": 90,
   "metadata": {},
   "outputs": [
    {
     "data": {
      "text/plain": [
       "<matplotlib.axes._subplots.AxesSubplot at 0x7f52a8a68fd0>"
      ]
     },
     "execution_count": 90,
     "metadata": {},
     "output_type": "execute_result"
    },
    {
     "data": {
      "image/png": "[encoded data removed]",
      "text/plain": [
       "<Figure size 432x288 with 1 Axes>"
      ]
     },
     "metadata": {
      "needs_background": "light"
     },
     "output_type": "display_data"
    }
   ],
   "source": [
    "df = pd.DataFrame(param_values)\n",
    "df.plot()"
   ]
  },
  {
   "cell_type": "code",
   "execution_count": 89,
   "metadata": {},
   "outputs": [
    {
     "name": "stdout",
     "output_type": "stream",
     "text": [
      "params_p_harmony :\t tensor([1.5144, 1.4922, 0.5056], grad_fn=<AddBackward0>)\n",
      "params_p_chordtones :\t tensor([1.1966, 0.4910, 0.4985, 1.1620, 0.5134, 0.4885, 0.4955, 0.5230, 0.5013,\n",
      "        0.4776, 0.5141, 0.5090, 0.8194, 0.8614, 0.4922, 0.4898, 0.5079, 0.4980,\n",
      "        0.4923, 0.4879, 0.7601, 0.4544, 0.5185, 0.4993, 0.4959, 0.6885, 0.5110,\n",
      "        0.4861, 0.5117], grad_fn=<AddBackward0>)\n",
      "params_p_ornaments :\t tensor([0.4967, 0.4804, 0.5002, 0.5123, 0.5225, 0.4949, 0.4794, 0.4979, 0.4639,\n",
      "        0.5259, 0.4917, 0.4992, 0.4747, 0.4856, 0.4949, 0.4794, 0.5030, 0.4902,\n",
      "        0.4605, 0.5066, 0.5483, 0.4818, 0.4838, 0.5184, 0.5082, 0.5169, 0.4800,\n",
      "        0.5118, 0.5171], grad_fn=<AddBackward0>)\n",
      "alpha_rate_notes :\t tensor(7.5852, grad_fn=<AddBackward0>)\n",
      "beta_rate_notes :\t tensor(2.5182, grad_fn=<AddBackward0>)\n",
      "alpha_p_ict :\t tensor(6.5894, grad_fn=<AddBackward0>)\n",
      "beta_p_ict :\t tensor(1.0893, grad_fn=<AddBackward0>)\n"
     ]
    }
   ],
   "source": [
    "# show optimized parameters:\n",
    "for (name, value) in pyro.get_param_store().items():\n",
    "    print(name, \":\\t\", value)"
   ]
  },
  {
   "cell_type": "code",
   "execution_count": null,
   "metadata": {},
   "outputs": [],
   "source": []
  }
 ],
 "metadata": {
  "kernelspec": {
   "display_name": "harmony-model",
   "language": "python",
   "name": "harmony-model"
  },
  "language_info": {
   "codemirror_mode": {
    "name": "ipython",
    "version": 3
   },
   "file_extension": ".py",
   "mimetype": "text/x-python",
   "name": "python",
   "nbconvert_exporter": "python",
   "pygments_lexer": "ipython3",
   "version": "3.8.3"
  }
 },
 "nbformat": 4,
 "nbformat_minor": 2
}
