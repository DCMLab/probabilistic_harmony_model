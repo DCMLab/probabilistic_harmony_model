{
 "cells": [
  {
   "cell_type": "code",
   "execution_count": 37,
   "metadata": {},
   "outputs": [],
   "source": [
    "import torch\n",
    "import pyro\n",
    "from pyro.distributions import *\n",
    "from collections import Counter\n",
    "import pyro.infer\n",
    "import pyro.optim\n",
    "pyro.enable_validation(True)\n",
    "import matplotlib.pyplot as plt\n",
    "import tqdm"
   ]
  },
  {
   "cell_type": "code",
   "execution_count": 39,
   "metadata": {},
   "outputs": [],
   "source": [
    "#nchords = 10\n",
    "npcs = 4*7+1 # around C: Cbb to C## on LoF\n",
    "\n",
    "#@pyro.infer.config_enumerate\n",
    "def chord_model(npcs, nharmonies, nchords, pobserve=0.5):\n",
    "    # parameters priors:\n",
    "    # distribution of the harmonies\n",
    "    p_harmony = pyro.sample('p_harmony', Dirichlet(0.5 * torch.ones(nharmonies)))\n",
    "    # distribution of ornament probability\n",
    "    p_is_chordtone = pyro.sample('p_is_chordtone', Beta(1, 1))\n",
    "    # distribution of notes in the harmonies\n",
    "    with pyro.plate('harmonies', nharmonies):\n",
    "        p_chordtones = pyro.sample('p_chordtones', Dirichlet(0.5 * torch.ones(npcs)))\n",
    "        p_ornaments  = pyro.sample('p_ornaments', Dirichlet(0.5 * torch.ones(npcs)))\n",
    "        p_ct = p_is_chordtone       * p_chordtones\n",
    "        p_or = (1 - p_is_chordtone) * p_ornaments\n",
    "        p_unobserved = p_ct + p_or\n",
    "        p_tones = torch.cat([pobserve * p_ct, pobserve * p_or, (1-pobserve) * p_unobserved], dim=1)\n",
    "    # distribution of note rate in chords\n",
    "    rate_notes = pyro.sample('rate_notes', Gamma(3,1))\n",
    "    \n",
    "    # sampling the data:\n",
    "    chords = list()\n",
    "    for c in pyro.plate('data', nchords):\n",
    "        # pick a harmony\n",
    "        h = pyro.sample('h_{}'.format(c), Categorical(p_harmony))\n",
    "        # pick a number of notes\n",
    "        nnotes = 1 + int(pyro.sample('n_{}'.format(c), Poisson(rate_notes)))\n",
    "        # collect the notes\n",
    "        #notes = torch.zeros((npcs, 3))\n",
    "        # determine number of observed vs unobserved notes\n",
    "#         nobserved = int(pyro.sample('nobs_{}'.format(c), Binomial(nnotes, pobserve)))\n",
    "#         nunobserved = nnotes - nobserved\n",
    "#         # determine number of observed chordtones vs observed ornaments\n",
    "#         nchordtones = int(pyro.sample('nct_{}'.format(c), Binomial(nobserved, p_is_chordtone)))\n",
    "#         nornaments = nobserved - nchordtones\n",
    "#         print(\"nchordtones = \", nchordtones)\n",
    "#         print(\"nornaments  = \", nornaments)\n",
    "#         print(\"nunobserved = \", nunobserved)\n",
    "        # sample chordtones\n",
    "        chordtones = pyro.sample('chord_{}'.format(c), Multinomial(nnotes, p_tones[h]))\n",
    "#         for i in pyro.plate('notes_{}'.format(c), nnotes):\n",
    "#             # pick a note type\n",
    "#             t = pyro.sample('t_{}_{}'.format(c,i), Bernoulli(p_is_chordtone))\n",
    "#             # pick a pitch from the distribution corresponding to the note type\n",
    "#             ps = p_chordtones if t.item() == 1. else p_ornaments\n",
    "#             pitch = pyro.sample('pitch_{}_{}'.format(c,i), Categorical(ps[h]))\n",
    "#             # decide if the type is observed or not\n",
    "#             observe_type = pyro.sample('observe_type_{}_{}'.format(c,i), Bernoulli(pobserve))\n",
    "#             ot = int(t.item()) if observe_type.item() == 1. else 2\n",
    "#             # add pitch and type to chord\n",
    "#             notes[pitch.item(), ot] += 1\n",
    "        # observe the chord\n",
    "        #counts = pyro.deterministic('chord_{}'.format(c), notes)\n",
    "        chords.append({'h': h, 'n': nnotes,\n",
    "                       'counts': chordtones.reshape((npcs,3))})\n",
    "    return chords"
   ]
  },
  {
   "cell_type": "code",
   "execution_count": 40,
   "metadata": {},
   "outputs": [
    {
     "name": "stdout",
     "output_type": "stream",
     "text": [
      "_INPUT\n",
      "p_harmony\n",
      "p_is_chordtone\n",
      "harmonies\n",
      "p_chordtones\n",
      "p_ornaments\n",
      "rate_notes\n",
      "data\n",
      "h_0\n",
      "n_0\n",
      "chord_0\n",
      "h_1\n",
      "n_1\n",
      "chord_1\n",
      "h_2\n",
      "n_2\n",
      "chord_2\n",
      "h_3\n",
      "n_3\n",
      "chord_3\n",
      "h_4\n",
      "n_4\n",
      "chord_4\n",
      "_RETURN\n"
     ]
    }
   ],
   "source": [
    "tr = pyro.poutine.trace(chord_model).get_trace(npcs,3,5)\n",
    "for (name, val) in tr.nodes.items():\n",
    "    print(name)"
   ]
  },
  {
   "cell_type": "code",
   "execution_count": 41,
   "metadata": {},
   "outputs": [],
   "source": [
    "def chord_guide(npcs, nharmonies, nchords, pobserve=0.5):\n",
    "    # posterior of p_harmony\n",
    "    params_p_harmony = pyro.param('params_p_harmony', 0.5 * torch.ones(nharmonies),\n",
    "                                  constraint=constraints.positive)\n",
    "    pyro.sample('p_harmony', Dirichlet(params_p_harmony))\n",
    "    # posteriors of notes dists in harmonies\n",
    "    with pyro.plate('harmonies', nharmonies):\n",
    "        params_p_chordtones = pyro.param('params_p_chordtones', 0.5 * torch.ones(npcs),\n",
    "                                         constraint=constraints.positive)\n",
    "        pyro.sample('p_chordtones', Dirichlet(params_p_chordtones))\n",
    "        params_p_ornaments = pyro.param('params_p_ornaments', 0.5 * torch.ones(npcs),\n",
    "                                         constraint=constraints.positive)\n",
    "        pyro.sample('p_ornaments', Dirichlet(params_p_ornaments))\n",
    "    # posterior of note rate\n",
    "    alpha_rate_notes = pyro.param('alpha_rate_notes', torch.tensor(3.),\n",
    "                                  constraint=constraints.positive)\n",
    "    beta_rate_notes = pyro.param('beta_rate_notes', torch.tensor(1.),\n",
    "                                 constraint=constraints.positive)\n",
    "    rate_notes = pyro.sample('rate_notes', Gamma(alpha_rate_notes, beta_rate_notes))\n",
    "    # posterior of ornament probability\n",
    "    alpha_p_ict = pyro.param('alpha_p_ict', torch.tensor(1.), constraint=constraints.positive)\n",
    "    beta_p_ict = pyro.param('beta_p_ict', torch.tensor(1.), constraint=constraints.positive)\n",
    "    pyro.sample('p_is_chordtone', Beta(alpha_p_ict, beta_p_ict))\n",
    "    # data points\n",
    "#     for c in pyro.plate('data', nchords):\n",
    "#         # posterior of chosen harmony\n",
    "#         params_h = pyro.param('params_h_{}'.format(c), torch.ones(nharmonies)/nharmonies,\n",
    "#                               constraint=constraints.simplex)\n",
    "#         pyro.sample('h_{}'.format(c), Categorical(params_h))\n",
    "#         # the number of notes is usually observed, but it doesn't need to be\n",
    "#         params_nnotes = pyro.param('params_n_{}'.format(c), torch.tensor(3.))\n",
    "#         nnotes = int(pyro.sample('n_{}'.format(c), Poisson(rate_notes))) + 1\n",
    "#         # posterior of chord-tones (also usually observed)\n",
    "#         params_tones = pyro.param('params_tones_{}'.format(c), torch.ones(3*npcs))\n",
    "#         chord_tones = pyro.sample('chord_{}'.format(c), Multinomial(nnotes, params_tones))\n",
    "#         for i in pyro.plate('notes_{}'.format(c), nnotes):\n",
    "#             # posterior of each note type\n",
    "#             p_t = pyro.param('p_t_{}_{}'.format(c,i), torch.tensor(0.5), constraint=constraints.simplex)\n",
    "#             pyro.sample('t_{}_{}'.format(c,i), Bernoulli(p_t))\n",
    "#             # posterior of each pitch\n",
    "#             params_pitch = pyro.param('params_pitch_{}_{}'.format(c,i), torch.ones(npcs), constraint=constraints.simplex)\n",
    "#             pitch = pyro.sample('pitch_{}_{}'.format(c,i), Categorical(params_pitch))\n",
    "#             # posterior of each observation coin\n",
    "#             p_obs = pyro.param('p_obs_{}_{}'.format(c,i), torch.tensor(0.5), constraint=constraints.simplex)\n",
    "#             pyro.sample('observe_type_{}_{}'.format(c,i), Bernoulli(p_obs))"
   ]
  },
  {
   "cell_type": "code",
   "execution_count": 42,
   "metadata": {},
   "outputs": [],
   "source": [
    "pyro.clear_param_store()\n",
    "chord_guide(npcs, 3, 5)"
   ]
  },
  {
   "cell_type": "code",
   "execution_count": 43,
   "metadata": {},
   "outputs": [
    {
     "data": {
      "text/plain": [
       "[{'h': tensor(0),\n",
       "  'n': 2,\n",
       "  'counts': tensor([[0., 0., 0.],\n",
       "          [0., 0., 0.],\n",
       "          [0., 0., 0.],\n",
       "          [0., 0., 0.],\n",
       "          [0., 0., 0.],\n",
       "          [0., 0., 0.],\n",
       "          [0., 0., 0.],\n",
       "          [0., 0., 0.],\n",
       "          [0., 0., 0.],\n",
       "          [0., 0., 0.],\n",
       "          [0., 0., 0.],\n",
       "          [0., 0., 0.],\n",
       "          [0., 0., 0.],\n",
       "          [2., 0., 0.],\n",
       "          [0., 0., 0.],\n",
       "          [0., 0., 0.],\n",
       "          [0., 0., 0.],\n",
       "          [0., 0., 0.],\n",
       "          [0., 0., 0.],\n",
       "          [0., 0., 0.],\n",
       "          [0., 0., 0.],\n",
       "          [0., 0., 0.],\n",
       "          [0., 0., 0.],\n",
       "          [0., 0., 0.],\n",
       "          [0., 0., 0.],\n",
       "          [0., 0., 0.],\n",
       "          [0., 0., 0.],\n",
       "          [0., 0., 0.],\n",
       "          [0., 0., 0.]])},\n",
       " {'h': tensor(2),\n",
       "  'n': 1,\n",
       "  'counts': tensor([[0., 0., 0.],\n",
       "          [0., 0., 1.],\n",
       "          [0., 0., 0.],\n",
       "          [0., 0., 0.],\n",
       "          [0., 0., 0.],\n",
       "          [0., 0., 0.],\n",
       "          [0., 0., 0.],\n",
       "          [0., 0., 0.],\n",
       "          [0., 0., 0.],\n",
       "          [0., 0., 0.],\n",
       "          [0., 0., 0.],\n",
       "          [0., 0., 0.],\n",
       "          [0., 0., 0.],\n",
       "          [0., 0., 0.],\n",
       "          [0., 0., 0.],\n",
       "          [0., 0., 0.],\n",
       "          [0., 0., 0.],\n",
       "          [0., 0., 0.],\n",
       "          [0., 0., 0.],\n",
       "          [0., 0., 0.],\n",
       "          [0., 0., 0.],\n",
       "          [0., 0., 0.],\n",
       "          [0., 0., 0.],\n",
       "          [0., 0., 0.],\n",
       "          [0., 0., 0.],\n",
       "          [0., 0., 0.],\n",
       "          [0., 0., 0.],\n",
       "          [0., 0., 0.],\n",
       "          [0., 0., 0.]])},\n",
       " {'h': tensor(2),\n",
       "  'n': 4,\n",
       "  'counts': tensor([[0., 0., 0.],\n",
       "          [0., 1., 0.],\n",
       "          [0., 0., 0.],\n",
       "          [0., 0., 0.],\n",
       "          [0., 0., 0.],\n",
       "          [0., 0., 0.],\n",
       "          [0., 0., 0.],\n",
       "          [0., 0., 0.],\n",
       "          [0., 0., 0.],\n",
       "          [0., 0., 0.],\n",
       "          [0., 0., 0.],\n",
       "          [0., 0., 0.],\n",
       "          [0., 0., 0.],\n",
       "          [0., 0., 0.],\n",
       "          [0., 0., 0.],\n",
       "          [0., 0., 0.],\n",
       "          [0., 0., 0.],\n",
       "          [0., 0., 0.],\n",
       "          [1., 0., 0.],\n",
       "          [0., 0., 0.],\n",
       "          [0., 0., 0.],\n",
       "          [0., 1., 0.],\n",
       "          [0., 0., 0.],\n",
       "          [0., 0., 0.],\n",
       "          [0., 0., 0.],\n",
       "          [0., 0., 0.],\n",
       "          [0., 1., 0.],\n",
       "          [0., 0., 0.],\n",
       "          [0., 0., 0.]])},\n",
       " {'h': tensor(2),\n",
       "  'n': 1,\n",
       "  'counts': tensor([[0., 0., 0.],\n",
       "          [0., 0., 0.],\n",
       "          [0., 0., 0.],\n",
       "          [0., 0., 0.],\n",
       "          [0., 0., 1.],\n",
       "          [0., 0., 0.],\n",
       "          [0., 0., 0.],\n",
       "          [0., 0., 0.],\n",
       "          [0., 0., 0.],\n",
       "          [0., 0., 0.],\n",
       "          [0., 0., 0.],\n",
       "          [0., 0., 0.],\n",
       "          [0., 0., 0.],\n",
       "          [0., 0., 0.],\n",
       "          [0., 0., 0.],\n",
       "          [0., 0., 0.],\n",
       "          [0., 0., 0.],\n",
       "          [0., 0., 0.],\n",
       "          [0., 0., 0.],\n",
       "          [0., 0., 0.],\n",
       "          [0., 0., 0.],\n",
       "          [0., 0., 0.],\n",
       "          [0., 0., 0.],\n",
       "          [0., 0., 0.],\n",
       "          [0., 0., 0.],\n",
       "          [0., 0., 0.],\n",
       "          [0., 0., 0.],\n",
       "          [0., 0., 0.],\n",
       "          [0., 0., 0.]])},\n",
       " {'h': tensor(0),\n",
       "  'n': 2,\n",
       "  'counts': tensor([[0., 0., 0.],\n",
       "          [0., 0., 0.],\n",
       "          [0., 0., 0.],\n",
       "          [0., 0., 0.],\n",
       "          [0., 0., 0.],\n",
       "          [0., 0., 0.],\n",
       "          [0., 0., 0.],\n",
       "          [0., 0., 0.],\n",
       "          [0., 0., 0.],\n",
       "          [0., 0., 0.],\n",
       "          [0., 0., 0.],\n",
       "          [0., 0., 0.],\n",
       "          [0., 0., 0.],\n",
       "          [0., 0., 0.],\n",
       "          [0., 0., 0.],\n",
       "          [0., 0., 0.],\n",
       "          [0., 0., 0.],\n",
       "          [0., 0., 0.],\n",
       "          [0., 0., 1.],\n",
       "          [0., 0., 0.],\n",
       "          [0., 0., 0.],\n",
       "          [0., 0., 0.],\n",
       "          [0., 0., 0.],\n",
       "          [0., 0., 0.],\n",
       "          [0., 0., 0.],\n",
       "          [0., 0., 0.],\n",
       "          [0., 0., 0.],\n",
       "          [1., 0., 0.],\n",
       "          [0., 0., 0.]])}]"
      ]
     },
     "execution_count": 43,
     "metadata": {},
     "output_type": "execute_result"
    }
   ],
   "source": [
    "chord_model(npcs, 3, 5)"
   ]
  },
  {
   "cell_type": "code",
   "execution_count": 44,
   "metadata": {},
   "outputs": [],
   "source": [
    "def chord_tensor(notes):\n",
    "    notetype = {'chordtone': 0, 'ornament': 1, 'unknown': 2}\n",
    "    chord = torch.zeros((npcs, 3))\n",
    "    for (pitch, t) in notes:\n",
    "        chord[pitch%npcs, notetype[t]] += 1\n",
    "    return chord\n",
    "\n",
    "def annot_data_obs(chords):\n",
    "    obs = {}\n",
    "    for (i, chord) in enumerate(chords):\n",
    "        obs[\"h_{}\".format(i)] = torch.tensor(chord[\"label\"])\n",
    "        obs[\"n_{}\".format(i)] = torch.tensor(len(chord[\"notes\"]) - 1.)\n",
    "        obs[\"chord_{}\".format(i)] = chord_tensor(chord[\"notes\"]).flatten()\n",
    "    return obs"
   ]
  },
  {
   "cell_type": "code",
   "execution_count": 45,
   "metadata": {
    "scrolled": true
   },
   "outputs": [
    {
     "data": {
      "text/plain": [
       "{'h_0': tensor(0),\n",
       " 'n_0': tensor(3.),\n",
       " 'chord_0': tensor([1., 0., 0., 1., 0., 0., 0., 0., 0., 0., 0., 0., 1., 1., 0., 0., 0., 0.,\n",
       "         0., 0., 0., 0., 0., 0., 0., 0., 0., 0., 0., 0., 0., 0., 0., 0., 0., 0.,\n",
       "         0., 0., 0., 0., 0., 0., 0., 0., 0., 0., 0., 0., 0., 0., 0., 0., 0., 0.,\n",
       "         0., 0., 0., 0., 0., 0., 0., 0., 0., 0., 0., 0., 0., 0., 0., 0., 0., 0.,\n",
       "         0., 0., 0., 0., 0., 0., 0., 0., 0., 0., 0., 0., 0., 0., 0.]),\n",
       " 'h_1': tensor(1),\n",
       " 'n_1': tensor(3.),\n",
       " 'chord_1': tensor([1., 0., 0., 1., 0., 0., 0., 0., 0., 0., 0., 0., 0., 0., 0., 0., 0., 0.,\n",
       "         0., 0., 0., 0., 0., 0., 0., 0., 0., 0., 0., 0., 0., 0., 0., 0., 0., 0.,\n",
       "         0., 0., 0., 0., 0., 0., 0., 0., 0., 0., 0., 0., 0., 0., 0., 0., 0., 0.,\n",
       "         0., 0., 0., 0., 0., 0., 0., 0., 0., 0., 0., 0., 0., 0., 0., 0., 0., 0.,\n",
       "         0., 0., 0., 0., 0., 0., 1., 0., 0., 0., 0., 1., 0., 0., 0.])}"
      ]
     },
     "execution_count": 45,
     "metadata": {},
     "output_type": "execute_result"
    }
   ],
   "source": [
    "example_chords = [\n",
    "    {'label': 0, 'notes': [(0,'chordtone'), (4,'chordtone'), (1,'chordtone'), (4,'ornament')]},\n",
    "    {'label': 1, 'notes': [(0,'chordtone'), (-3,'chordtone'), (1,'chordtone'), (-2,'unknown')]}\n",
    "]\n",
    "example_obs = annot_data_obs(example_chords)\n",
    "example_obs"
   ]
  },
  {
   "cell_type": "code",
   "execution_count": 46,
   "metadata": {},
   "outputs": [],
   "source": [
    "conditioned_model = pyro.condition(chord_model, data=example_obs)"
   ]
  },
  {
   "cell_type": "code",
   "execution_count": 47,
   "metadata": {},
   "outputs": [],
   "source": [
    "conditioned_guide = pyro.condition(chord_guide, data=example_obs)"
   ]
  },
  {
   "cell_type": "code",
   "execution_count": 50,
   "metadata": {},
   "outputs": [
    {
     "name": "stderr",
     "output_type": "stream",
     "text": [
      "100%|██████████| 5000/5000 [00:52<00:00, 95.13it/s]\n"
     ]
    },
    {
     "data": {
      "text/plain": [
       "Text(0, 0.5, 'loss')"
      ]
     },
     "execution_count": 50,
     "metadata": {},
     "output_type": "execute_result"
    },
    {
     "data": {
      "image/png": "[encoded data removed]",
      "text/plain": [
       "<Figure size 432x288 with 1 Axes>"
      ]
     },
     "metadata": {
      "needs_background": "light"
     },
     "output_type": "display_data"
    }
   ],
   "source": [
    "# inference\n",
    "pyro.clear_param_store()\n",
    "svi = pyro.infer.SVI(model=conditioned_model,\n",
    "                     guide=chord_guide,\n",
    "                     optim=pyro.optim.Adam({\"lr\": 0.005, \"betas\": (0.95, 0.999)}),\n",
    "                     loss=pyro.infer.TraceEnum_ELBO())\n",
    "\n",
    "losses = []\n",
    "nsteps = 5000\n",
    "for i in tqdm.trange(nsteps):\n",
    "    #st = pyro.get_param_store()\n",
    "    #print(st.match(\".*rate_notes\"))\n",
    "    #try:\n",
    "    losses.append(svi.step(npcs, 3, 2))\n",
    "    #except:\n",
    "    #    for item in pyro.get_param_store().items():\n",
    "    #        print(item)\n",
    "    #    break\n",
    "\n",
    "plt.plot(losses)\n",
    "plt.xlabel(\"step\")\n",
    "plt.ylabel(\"loss\")"
   ]
  },
  {
   "cell_type": "code",
   "execution_count": 121,
   "metadata": {},
   "outputs": [
    {
     "data": {
      "text/plain": [
       "tensor(-inf)"
      ]
     },
     "execution_count": 121,
     "metadata": {},
     "output_type": "execute_result"
    }
   ],
   "source": [
    "torch.log(torch.tensor(0.))"
   ]
  },
  {
   "cell_type": "code",
   "execution_count": 160,
   "metadata": {},
   "outputs": [
    {
     "ename": "AttributeError",
     "evalue": "'Tensor' object has no attribute 'to_event'",
     "output_type": "error",
     "traceback": [
      "\u001b[0;31m---------------------------------------------------------------------------\u001b[0m",
      "\u001b[0;31mAttributeError\u001b[0m                            Traceback (most recent call last)",
      "\u001b[0;32m<ipython-input-160-3b9e1830547f>\u001b[0m in \u001b[0;36m<module>\u001b[0;34m\u001b[0m\n\u001b[0;32m----> 1\u001b[0;31m \u001b[0mMultinomial\u001b[0m\u001b[0;34m(\u001b[0m\u001b[0;36m1\u001b[0m\u001b[0;34m,\u001b[0m \u001b[0mtorch\u001b[0m\u001b[0;34m.\u001b[0m\u001b[0mones\u001b[0m\u001b[0;34m(\u001b[0m\u001b[0;34m(\u001b[0m\u001b[0;36m3\u001b[0m\u001b[0;34m,\u001b[0m\u001b[0;36m2\u001b[0m\u001b[0;34m)\u001b[0m\u001b[0;34m)\u001b[0m\u001b[0;34m.\u001b[0m\u001b[0mto_event\u001b[0m\u001b[0;34m(\u001b[0m\u001b[0;36m1\u001b[0m\u001b[0;34m)\u001b[0m\u001b[0;34m)\u001b[0m\u001b[0;34m.\u001b[0m\u001b[0msample\u001b[0m\u001b[0;34m(\u001b[0m\u001b[0;34m)\u001b[0m\u001b[0;34m\u001b[0m\u001b[0;34m\u001b[0m\u001b[0m\n\u001b[0m",
      "\u001b[0;31mAttributeError\u001b[0m: 'Tensor' object has no attribute 'to_event'"
     ]
    }
   ],
   "source": [
    "Multinomial(1, torch.ones((3,2))).sample()"
   ]
  },
  {
   "cell_type": "markdown",
   "metadata": {},
   "source": [
    "?torch.cat"
   ]
  },
  {
   "cell_type": "code",
   "execution_count": 161,
   "metadata": {},
   "outputs": [],
   "source": [
    "? torch.cat"
   ]
  },
  {
   "cell_type": "code",
   "execution_count": null,
   "metadata": {},
   "outputs": [],
   "source": []
  }
 ],
 "metadata": {
  "kernelspec": {
   "display_name": "harmony-model",
   "language": "python",
   "name": "harmony-model"
  },
  "language_info": {
   "codemirror_mode": {
    "name": "ipython",
    "version": 3
   },
   "file_extension": ".py",
   "mimetype": "text/x-python",
   "name": "python",
   "nbconvert_exporter": "python",
   "pygments_lexer": "ipython3",
   "version": "3.8.3"
  }
 },
 "nbformat": 4,
 "nbformat_minor": 2
}
