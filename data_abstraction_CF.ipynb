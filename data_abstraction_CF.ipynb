{
 "cells": [
  {
   "cell_type": "code",
   "execution_count": 2,
   "metadata": {},
   "outputs": [],
   "source": [
    "from music21 import *\n",
    "import glob\n",
    "import sys"
   ]
  },
  {
   "cell_type": "markdown",
   "metadata": {},
   "source": [
    "----"
   ]
  },
  {
   "cell_type": "markdown",
   "metadata": {},
   "source": [
    "## Harmonies as Modes - Data extraction"
   ]
  },
  {
   "cell_type": "markdown",
   "metadata": {},
   "source": [
    "Authors: Sebastian Klaßmann, Christoph Finkensiep\n",
    "July 21$^{st}$, 2020  "
   ]
  },
  {
   "cell_type": "markdown",
   "metadata": {},
   "source": [
    "---"
   ]
  },
  {
   "cell_type": "markdown",
   "metadata": {},
   "source": [
    "**Wishlist for data abstraction:**\n",
    "\n",
    "- [X] parse harmonies of a given piece given by annotation and identify which notes belong to a given chord based on onset.\n",
    "- [ ] chord vocabulary - start from basic tetrads, aka. chord types\n",
    "- [X] list of tuples of (pitch classes, note types)\n",
    "- [ ] pitch encoding based on line of fifths\n",
    "- [ ] consider neighboring notes for classification as embellishments\n",
    "- [X] helper function that corrects chord offsets\n",
    "- [ ] syncopated notes are still treated in a strange fashion. i.e.: the code so far does not consider a syncopated note that is a clear anticipation of a chord on the next beat as belonging to that chord."
   ]
  },
  {
   "cell_type": "markdown",
   "metadata": {},
   "source": [
    "**Summary so far:**\n",
    "* current pitch class rep uses 12 pc, need conversion to TPC (line of fifth)\n",
    "    * this closely ties in with the representation of chord symbol root notes\n",
    "* still need a way to convert chord symbols to chord types via dict\n",
    "* currently, NPC are stored for encountered melody notes\n",
    "* currently, function only differentiates between ct and unknown $\\rightarrow$ discuss"
   ]
  },
  {
   "cell_type": "code",
   "execution_count": 3,
   "metadata": {},
   "outputs": [],
   "source": [
    "pc = converter.parse('de_dont_mean.mxl') # can be used for demonstration."
   ]
  },
  {
   "cell_type": "code",
   "execution_count": 4,
   "metadata": {},
   "outputs": [
    {
     "ename": "SubConverterException",
     "evalue": "To create PNG files directly from MusicXML you need to download MuseScore and put a link to it in your .music21rc via Environment.",
     "output_type": "error",
     "traceback": [
      "\u001b[0;31m---------------------------------------------------------------------------\u001b[0m",
      "\u001b[0;31mSubConverterException\u001b[0m                     Traceback (most recent call last)",
      "\u001b[0;32m<ipython-input-4-e6e952c48f40>\u001b[0m in \u001b[0;36m<module>\u001b[0;34m\u001b[0m\n\u001b[0;32m----> 1\u001b[0;31m \u001b[0mpc\u001b[0m\u001b[0;34m.\u001b[0m\u001b[0mshow\u001b[0m\u001b[0;34m(\u001b[0m\u001b[0;34m)\u001b[0m\u001b[0;34m\u001b[0m\u001b[0;34m\u001b[0m\u001b[0m\n\u001b[0m",
      "\u001b[0;32m~/.local/lib/python3.8/site-packages/music21/stream/__init__.py\u001b[0m in \u001b[0;36mshow\u001b[0;34m(self, *args, **kwargs)\u001b[0m\n\u001b[1;32m    257\u001b[0m         \u001b[0;32mif\u001b[0m \u001b[0mself\u001b[0m\u001b[0;34m.\u001b[0m\u001b[0misSorted\u001b[0m \u001b[0;32mis\u001b[0m \u001b[0;32mFalse\u001b[0m \u001b[0;32mand\u001b[0m \u001b[0mself\u001b[0m\u001b[0;34m.\u001b[0m\u001b[0mautoSort\u001b[0m\u001b[0;34m:\u001b[0m\u001b[0;34m\u001b[0m\u001b[0;34m\u001b[0m\u001b[0m\n\u001b[1;32m    258\u001b[0m             \u001b[0mself\u001b[0m\u001b[0;34m.\u001b[0m\u001b[0msort\u001b[0m\u001b[0;34m(\u001b[0m\u001b[0;34m)\u001b[0m\u001b[0;34m\u001b[0m\u001b[0;34m\u001b[0m\u001b[0m\n\u001b[0;32m--> 259\u001b[0;31m         \u001b[0;32mreturn\u001b[0m \u001b[0msuper\u001b[0m\u001b[0;34m(\u001b[0m\u001b[0;34m)\u001b[0m\u001b[0;34m.\u001b[0m\u001b[0mshow\u001b[0m\u001b[0;34m(\u001b[0m\u001b[0;34m*\u001b[0m\u001b[0margs\u001b[0m\u001b[0;34m,\u001b[0m \u001b[0;34m**\u001b[0m\u001b[0mkwargs\u001b[0m\u001b[0;34m)\u001b[0m\u001b[0;34m\u001b[0m\u001b[0;34m\u001b[0m\u001b[0m\n\u001b[0m\u001b[1;32m    260\u001b[0m \u001b[0;34m\u001b[0m\u001b[0m\n\u001b[1;32m    261\u001b[0m     \u001b[0;31m# --------------------------------------------------------------------------\u001b[0m\u001b[0;34m\u001b[0m\u001b[0;34m\u001b[0m\u001b[0;34m\u001b[0m\u001b[0m\n",
      "\u001b[0;32m~/.local/lib/python3.8/site-packages/music21/base.py\u001b[0m in \u001b[0;36mshow\u001b[0;34m(self, fmt, app, **keywords)\u001b[0m\n\u001b[1;32m   2624\u001b[0m         \u001b[0mscClass\u001b[0m \u001b[0;34m=\u001b[0m \u001b[0mcommon\u001b[0m\u001b[0;34m.\u001b[0m\u001b[0mfindSubConverterForFormat\u001b[0m\u001b[0;34m(\u001b[0m\u001b[0mregularizedConverterFormat\u001b[0m\u001b[0;34m)\u001b[0m\u001b[0;34m\u001b[0m\u001b[0;34m\u001b[0m\u001b[0m\n\u001b[1;32m   2625\u001b[0m         \u001b[0mformatWriter\u001b[0m \u001b[0;34m=\u001b[0m \u001b[0mscClass\u001b[0m\u001b[0;34m(\u001b[0m\u001b[0;34m)\u001b[0m\u001b[0;34m\u001b[0m\u001b[0;34m\u001b[0m\u001b[0m\n\u001b[0;32m-> 2626\u001b[0;31m         return formatWriter.show(self,\n\u001b[0m\u001b[1;32m   2627\u001b[0m                                  \u001b[0mregularizedConverterFormat\u001b[0m\u001b[0;34m,\u001b[0m\u001b[0;34m\u001b[0m\u001b[0;34m\u001b[0m\u001b[0m\n\u001b[1;32m   2628\u001b[0m                                  \u001b[0mapp\u001b[0m\u001b[0;34m=\u001b[0m\u001b[0mapp\u001b[0m\u001b[0;34m,\u001b[0m\u001b[0;34m\u001b[0m\u001b[0;34m\u001b[0m\u001b[0m\n",
      "\u001b[0;32m~/.local/lib/python3.8/site-packages/music21/converter/subConverters.py\u001b[0m in \u001b[0;36mshow\u001b[0;34m(self, obj, fmt, app, subformats, **keywords)\u001b[0m\n\u001b[1;32m    357\u001b[0m \u001b[0;34m\u001b[0m\u001b[0m\n\u001b[1;32m    358\u001b[0m             \u001b[0;32mfor\u001b[0m \u001b[0ms\u001b[0m \u001b[0;32min\u001b[0m \u001b[0mscores\u001b[0m\u001b[0;34m:\u001b[0m\u001b[0;34m\u001b[0m\u001b[0;34m\u001b[0m\u001b[0m\n\u001b[0;32m--> 359\u001b[0;31m                 fp = helperSubConverter.write(s, helperFormat,\n\u001b[0m\u001b[1;32m    360\u001b[0m                                               subformats=helperSubformats, **keywords)\n\u001b[1;32m    361\u001b[0m \u001b[0;34m\u001b[0m\u001b[0m\n",
      "\u001b[0;32m~/.local/lib/python3.8/site-packages/music21/converter/subConverters.py\u001b[0m in \u001b[0;36mwrite\u001b[0;34m(self, obj, fmt, fp, subformats, **keywords)\u001b[0m\n\u001b[1;32m    936\u001b[0m                 \u001b[0;32mand\u001b[0m \u001b[0;34m(\u001b[0m\u001b[0;34m'png'\u001b[0m \u001b[0;32min\u001b[0m \u001b[0msubformats\u001b[0m \u001b[0;32mor\u001b[0m \u001b[0;34m'pdf'\u001b[0m \u001b[0;32min\u001b[0m \u001b[0msubformats\u001b[0m\u001b[0;34m)\u001b[0m\u001b[0;34m\u001b[0m\u001b[0;34m\u001b[0m\u001b[0m\n\u001b[1;32m    937\u001b[0m                 and not str(environLocal['musescoreDirectPNGPath']).startswith('/skip')):\n\u001b[0;32m--> 938\u001b[0;31m             \u001b[0mfp\u001b[0m \u001b[0;34m=\u001b[0m \u001b[0mself\u001b[0m\u001b[0;34m.\u001b[0m\u001b[0mrunThroughMusescore\u001b[0m\u001b[0;34m(\u001b[0m\u001b[0mfp\u001b[0m\u001b[0;34m,\u001b[0m \u001b[0msubformats\u001b[0m\u001b[0;34m,\u001b[0m \u001b[0;34m**\u001b[0m\u001b[0mkeywords\u001b[0m\u001b[0;34m)\u001b[0m\u001b[0;34m\u001b[0m\u001b[0;34m\u001b[0m\u001b[0m\n\u001b[0m\u001b[1;32m    939\u001b[0m \u001b[0;34m\u001b[0m\u001b[0m\n\u001b[1;32m    940\u001b[0m         \u001b[0;32mreturn\u001b[0m \u001b[0mfp\u001b[0m\u001b[0;34m\u001b[0m\u001b[0;34m\u001b[0m\u001b[0m\n",
      "\u001b[0;32m~/.local/lib/python3.8/site-packages/music21/converter/subConverters.py\u001b[0m in \u001b[0;36mrunThroughMusescore\u001b[0;34m(self, fp, subformats, **keywords)\u001b[0m\n\u001b[1;32m    862\u001b[0m         \u001b[0mmusescorePath\u001b[0m \u001b[0;34m=\u001b[0m \u001b[0menvironLocal\u001b[0m\u001b[0;34m[\u001b[0m\u001b[0;34m'musescoreDirectPNGPath'\u001b[0m\u001b[0;34m]\u001b[0m\u001b[0;34m\u001b[0m\u001b[0;34m\u001b[0m\u001b[0m\n\u001b[1;32m    863\u001b[0m         \u001b[0;32mif\u001b[0m \u001b[0;32mnot\u001b[0m \u001b[0mmusescorePath\u001b[0m\u001b[0;34m:\u001b[0m\u001b[0;34m\u001b[0m\u001b[0;34m\u001b[0m\u001b[0m\n\u001b[0;32m--> 864\u001b[0;31m             raise SubConverterException(\n\u001b[0m\u001b[1;32m    865\u001b[0m                 \u001b[0;34m'To create PNG files directly from MusicXML you need to download MuseScore and '\u001b[0m \u001b[0;34m+\u001b[0m\u001b[0;34m\u001b[0m\u001b[0;34m\u001b[0m\u001b[0m\n\u001b[1;32m    866\u001b[0m                 'put a link to it in your .music21rc via Environment.')\n",
      "\u001b[0;31mSubConverterException\u001b[0m: To create PNG files directly from MusicXML you need to download MuseScore and put a link to it in your .music21rc via Environment."
     ]
    }
   ],
   "source": [
    "pc.show()"
   ]
  },
  {
   "cell_type": "code",
   "execution_count": 5,
   "metadata": {},
   "outputs": [],
   "source": [
    "## helper functions:\n",
    "def getabsoffset(musob):\n",
    "    \"\"\"\n",
    "    assumes the passed object \"musob\" to be a music21 object that has a music21.offset property.\n",
    "    will return the absolute offset of musob in relation to the stream it is contained in by calculating\n",
    "    the sum of it's own offset in relation to it's active site and the offset of the activeSite (i.e., of the measure\n",
    "    it is contained in)\n",
    "    \"\"\"\n",
    "    return musob.activeSite.offset + musob.offset\n",
    "\n",
    "def fixhos(offset):\n",
    "    \"\"\"\n",
    "    Assumes chordlist to be a list of lists of harmonies and their absolute offsets filtered from a music21 stream.\n",
    "    returns a list of rhythmically connected offsets that place chords on the beat to avoid labelling errors.\n",
    "    \n",
    "    Still preliminary, as it changes the chord symbol's offset by substracting 0.5 from it.\n",
    "    \"\"\"\n",
    "    return round(offset-sys.float_info.epsilon,0)\n",
    "\n",
    "def chtypecon(harmlist, typedict={}):\n",
    "    \"\"\"\n",
    "    Assumes harmlist to be a list of harmonies yielded by getnotes().\n",
    "    Queries the kind of chord symbol (i.e., chord type) of all chord symbols in harmlist, builds a chord type dictionary for the stream at hand.    \n",
    "    \"\"\"\n",
    "    for harm in harmlist:\n",
    "        typedict = {k:v for (k,v) in zip(chordtypes, range(numchordtypes))}"
   ]
  },
  {
   "cell_type": "code",
   "execution_count": 6,
   "metadata": {},
   "outputs": [],
   "source": [
    "chordex = [] # start from empty list of chords\n",
    "\n",
    "def getharmonies(pc):\n",
    "\n",
    "    \"\"\"\n",
    "    assumes a preprocessed MusicXML or MIDI file to have been passed to music21's converter.parse()\n",
    "    This function will recursively filter the resulting music21.stream.Stream object for notes and chord symbols.\n",
    "    If a chord symbol is found, this function will consider all notes found inside the stream between this and the next\n",
    "    chord symbol to be in relation to the found chord symbol and return a list of harmonies.\n",
    "    One harmony will be encoded as a list containing the harmonic type of the found harmony, as well as tuples containing\n",
    "    the pitch classes of melody notes related to that harmony and their observed note type (chord tone, embellishment, unknown)\n",
    "    \"\"\"  \n",
    "\n",
    "    harmonies = []\n",
    "    # tempch = ['unknown'] # if a note is present before a first chord annotation appears in the score.\n",
    "    for const in pc: # topmost level of nesting, assumes tht at the second level, we are already looking at streams.\n",
    "        if isinstance(const, stream.Stream): # only look at streams inside stream, including parts and measures\n",
    "            for measure in const: # next level of nesting: filter out measure, ignore metadata\n",
    "                if isinstance(measure, stream.Measure): # ignore metadata and instruments:\n",
    "                    for element in measure: # look at elemnts in measures\n",
    "                        if isinstance(element, harmony.ChordSymbol): # check if current element is chord symbol\n",
    "                            harmonies.append((element, fixhos(getabsoffset(element))))\n",
    "    \n",
    "    endofpiece = pc.flat.highestOffset + 1.0\n",
    "    offsets = [onset for (_,onset) in harmonies][1:]# destructuring\n",
    "    offsets.append(endofpiece)\n",
    "    harmonies = [(harmony, onset, offset) for ((harmony, onset),offset) in zip(harmonies, offsets)]\n",
    "    return harmonies"
   ]
  },
  {
   "cell_type": "code",
   "execution_count": 7,
   "metadata": {},
   "outputs": [
    {
     "data": {
      "text/plain": [
       "102.0"
      ]
     },
     "execution_count": 7,
     "metadata": {},
     "output_type": "execute_result"
    }
   ],
   "source": [
    "pc.flat.highestOffset + 1.0"
   ]
  },
  {
   "cell_type": "code",
   "execution_count": 12,
   "metadata": {},
   "outputs": [
    {
     "name": "stdout",
     "output_type": "stream",
     "text": [
      "[(<music21.harmony.ChordSymbol Gm>, 1.0, 9.0), (<music21.harmony.ChordSymbol E-7>, 9.0, 11.0), (<music21.harmony.ChordSymbol D7+>, 11.0, 13.0), (<music21.harmony.ChordSymbol Gm7>, 13.0, 17.0), (<music21.harmony.ChordSymbol C7>, 17.0, 22.0), (<music21.harmony.ChordSymbol Fsus add 7 add 9>, 22.0, 26.0), (<music21.harmony.ChordSymbol B-6>, 26.0, 30.0), (<music21.harmony.ChordSymbol D7+>, 30.0, 37.0), (<music21.harmony.ChordSymbol Fm7>, 37.0, 41.0), (<music21.harmony.ChordSymbol B-7>, 41.0, 45.0), (<music21.harmony.ChordSymbol E-maj7>, 45.0, 53.0), (<music21.harmony.ChordSymbol C7>, 53.0, 61.0), (<music21.harmony.ChordSymbol F7>, 61.0, 65.0), (<music21.harmony.ChordSymbol F9>, 65.0, 68.0), (<music21.harmony.ChordSymbol D7+>, 68.0, 69.0), (<music21.harmony.ChordSymbol Gm>, 69.0, 77.0), (<music21.harmony.ChordSymbol E-7>, 77.0, 79.0), (<music21.harmony.ChordSymbol D7+>, 79.0, 81.0), (<music21.harmony.ChordSymbol Gm7>, 81.0, 85.0), (<music21.harmony.ChordSymbol C7>, 85.0, 90.0), (<music21.harmony.ChordSymbol Fsus add 7 add 9>, 90.0, 94.0), (<music21.harmony.ChordSymbol B-6>, 94.0, 102.0)]\n"
     ]
    }
   ],
   "source": [
    "harm = getharmonies(pc)\n",
    "print(harm)"
   ]
  },
  {
   "cell_type": "code",
   "execution_count": 13,
   "metadata": {},
   "outputs": [
    {
     "data": {
      "text/plain": [
       "<music21.duration.Duration 0.0>"
      ]
     },
     "execution_count": 13,
     "metadata": {},
     "output_type": "execute_result"
    }
   ],
   "source": [
    "# check for root octave encoding:  \n",
    "harm[0][0].duration"
   ]
  },
  {
   "cell_type": "code",
   "execution_count": 19,
   "metadata": {},
   "outputs": [],
   "source": [
    "def getchordtones(harmony):\n",
    "    \"\"\"\n",
    "    assumes harmony to be harmony.ChordSymbol\n",
    "    returns chord tones from harmony\n",
    "    \"\"\"\n",
    "    return [element.pitch.pitchClass for element in harmony]"
   ]
  },
  {
   "cell_type": "code",
   "execution_count": 20,
   "metadata": {},
   "outputs": [],
   "source": [
    "def isneighbour(p1,p2):\n",
    "    return abs(p1-p2)%7 == 2"
   ]
  },
  {
   "cell_type": "code",
   "execution_count": 21,
   "metadata": {},
   "outputs": [],
   "source": [
    "def notetype(pitch, pitches, chordtones):\n",
    "    hasneighbour = any(isneighbour(p, pitch) for p in pitches) # any uses iterator here\n",
    "    \n",
    "    if not hasneighbour: # if there is no identifiable neighbour, tone has to be chord tone\n",
    "        return 'chordtone'\n",
    "    elif not pitch in chordtones and hasneighbour:\n",
    "        return 'ornament'\n",
    "    else:\n",
    "        return 'unknown'"
   ]
  },
  {
   "cell_type": "code",
   "execution_count": 22,
   "metadata": {},
   "outputs": [],
   "source": [
    "def getlabel(harmony):\n",
    "    return harmony.chordKind"
   ]
  },
  {
   "cell_type": "code",
   "execution_count": 32,
   "metadata": {},
   "outputs": [],
   "source": [
    "def spellpc(pitch):\n",
    "    diastemtone = (pitch.diatonicNoteNum - 1 ) % 7\n",
    "    diafifths = (diastemtone * 2 + 1) % 7 - 1\n",
    "    fifths = diafifths + int(pitch.alter) * 7\n",
    "    return fifths"
   ]
  },
  {
   "cell_type": "code",
   "execution_count": 75,
   "metadata": {},
   "outputs": [
    {
     "data": {
      "text/plain": [
       "'chordtone'"
      ]
     },
     "execution_count": 75,
     "metadata": {},
     "output_type": "execute_result"
    }
   ],
   "source": [
    "notetype(4, [1,5,7], [1,5,7])"
   ]
  },
  {
   "cell_type": "code",
   "execution_count": 25,
   "metadata": {},
   "outputs": [],
   "source": [
    "def getnotes(pc):\n",
    "    \n",
    "    \"\"\"\n",
    "    assumes a preprocessed MusicXML or MIDI file to have been passed to music21's converter.parse()\n",
    "    This function will first call \"getharmonies\" on the given stream to work from a list of Chord Symbol Objects\n",
    "    and their absolute offsets. It then iterates over all harmonies and filters the stream for notes at offsets in \n",
    "    relation to these harmonies.\n",
    "    As it does so by iterating over a flattened instance of the given stream, it should also work for polyphonic streams,\n",
    "    given that they contain chord labelling as Chord Symbols.\n",
    "\n",
    "    For now, the last harmony is not processed correctly.\n",
    "    \"\"\" \n",
    "    \n",
    "    harm = getharmonies(pc) # parse chord symbols, calls function getharmonies\n",
    "    harmonies = [] # start from empty list\n",
    "    for currharm, curros, nextos in harm: # iterate over all elements of harm \n",
    "        \n",
    "        if currharm.root() == None:\n",
    "            continue\n",
    "        else:\n",
    "            root = spellpc(currharm.root())\n",
    "        \n",
    "        chordtones = getchordtones(currharm)    \n",
    "        \n",
    "        sIter = pc.flat.getElementsByClass(note.Note).iter # create iterator over stream\n",
    "        offFilter = stream.filters.OffsetFilter(curros, nextos) # filter stream by offset specified by currharm\n",
    "        offIter = sIter.addFilter(offFilter) # add filter to iterator\n",
    "        pitches = [spellpc(el.pitch) for el in offIter if getabsoffset(el) < nextos] \n",
    "        \n",
    "            \n",
    "        notes = [(pitch-root, notetype(pitch, pitches, chordtones)) for pitch in pitches]\n",
    "             \n",
    "        harmonies.append((getlabel(currharm),notes))\n",
    "        \n",
    "    return(harmonies)      "
   ]
  },
  {
   "cell_type": "code",
   "execution_count": 26,
   "metadata": {},
   "outputs": [
    {
     "name": "stdout",
     "output_type": "stream",
     "text": [
      "[('minor', [(0, 'chordtone'), (0, 'chordtone'), (-3, 'chordtone'), (1, 'chordtone'), (0, 'chordtone'), (-3, 'chordtone')]), ('dominant', [(-2, 'chordtone')]), ('augmented-seventh', [(-2, 'unknown'), (-4, 'ornament'), (-1, 'chordtone')]), ('minor-seventh', [(0, 'chordtone')]), ('dominant', [(-2, 'chordtone'), (-2, 'chordtone'), (-2, 'chordtone'), (-2, 'chordtone'), (-2, 'chordtone'), (-2, 'chordtone'), (-2, 'chordtone')]), ('suspended-fourth', [(-1, 'chordtone'), (-1, 'chordtone'), (-1, 'chordtone'), (-1, 'chordtone'), (-1, 'chordtone'), (-1, 'chordtone')]), ('major-sixth', [(0, 'chordtone'), (0, 'chordtone'), (0, 'chordtone'), (0, 'chordtone'), (0, 'chordtone')]), ('augmented-seventh', [(-4, 'ornament'), (-4, 'ornament'), (-2, 'unknown')]), ('minor-seventh', [(1, 'unknown'), (1, 'unknown'), (1, 'unknown'), (-1, 'ornament'), (1, 'unknown')]), ('dominant', [(2, 'ornament'), (0, 'ornament'), (2, 'ornament'), (0, 'ornament')]), ('major-seventh', [(4, 'chordtone'), (4, 'chordtone'), (3, 'chordtone')]), ('dominant', [(0, 'unknown'), (0, 'unknown'), (0, 'unknown'), (0, 'unknown'), (0, 'unknown'), (-2, 'ornament'), (0, 'unknown'), (-2, 'ornament')]), ('dominant', [(0, 'chordtone')]), ('dominant-ninth', [(2, 'chordtone')]), ('augmented-seventh', [(0, 'chordtone')]), ('minor', [(0, 'chordtone'), (0, 'chordtone'), (-3, 'chordtone'), (1, 'chordtone'), (0, 'chordtone'), (-3, 'chordtone')]), ('dominant', [(-2, 'chordtone')]), ('augmented-seventh', [(-2, 'unknown'), (-4, 'ornament'), (-1, 'chordtone')]), ('minor-seventh', [(0, 'chordtone')]), ('dominant', [(-2, 'chordtone'), (-2, 'chordtone'), (-2, 'chordtone'), (-2, 'chordtone'), (-2, 'chordtone'), (-2, 'chordtone'), (-2, 'chordtone')]), ('suspended-fourth', [(-1, 'chordtone'), (-1, 'chordtone'), (-1, 'chordtone'), (-1, 'chordtone'), (-1, 'chordtone'), (-1, 'chordtone')]), ('major-sixth', [(0, 'chordtone'), (0, 'chordtone'), (0, 'chordtone'), (0, 'chordtone'), (0, 'chordtone')])]\n"
     ]
    }
   ],
   "source": [
    "print(getnotes(pc))"
   ]
  },
  {
   "cell_type": "markdown",
   "metadata": {},
   "source": [
    "---"
   ]
  },
  {
   "cell_type": "markdown",
   "metadata": {},
   "source": [
    "## Applying everything to a given corpus"
   ]
  },
  {
   "cell_type": "markdown",
   "metadata": {},
   "source": [
    "* Please note:\n",
    "    * For experimentation purposes, Wikifonia was used. As there might be copyright infringement issues, the corpus will not be pushed to GitHub.\n",
    "    * As of now, the music21 converter (converter.parse()) seems to run into a problem when encountering certain harmony extensions. Therefore, the below cell still terminates at a fixed point and only returns approx. 45000 harmonies."
   ]
  },
  {
   "cell_type": "code",
   "execution_count": 42,
   "metadata": {},
   "outputs": [
    {
     "name": "stdout",
     "output_type": "stream",
     "text": [
      "wikifonia/traditional French carol (early 16th century) - Entre le Boeuf et l'Ane Gris.mxl\n",
      "wikifonia/Bud Powell - Bouncin' with Bud.mxl\n",
      "wikifonia/William Ballet - Greensleeves.mxl\n"
     ]
    },
    {
     "name": "stderr",
     "output_type": "stream",
     "text": [
      "musicxml.xmlToM21: WARNING: Cannot put in an element with a missing voice tag when no previous voice tag was given.  Assuming voice 1... \n",
      "musicxml.xmlToM21: WARNING: Cannot put in an element with a missing voice tag when no previous voice tag was given.  Assuming voice 1... \n",
      "musicxml.xmlToM21: WARNING: Cannot put in an element with a missing voice tag when no previous voice tag was given.  Assuming voice 1... \n"
     ]
    },
    {
     "name": "stdout",
     "output_type": "stream",
     "text": [
      "wikifonia/Charlie Parker - Scrapple From The Apple.mxl\n"
     ]
    },
    {
     "name": "stderr",
     "output_type": "stream",
     "text": [
      "musicxml.xmlToM21: WARNING: Line <bracket> stop without start\n"
     ]
    },
    {
     "name": "stdout",
     "output_type": "stream",
     "text": [
      "wikifonia/Joe Harnell - The Lonely Man.mxl\n",
      "wikifonia/Cole Porter - All Through the Night.mxl\n",
      "wikifonia/Mike Sharpe (Shapiro), Harry Middlebrooks - Spooky.mxl\n",
      "wikifonia/William Cummings, Felix Mendolssohn, Gary Bisaga, Charles Wesley, George Whitfield - Hark the Herald Angels Sing.mxl\n",
      "wikifonia/Antonio Carlos Jobim, Ray Gilbert (English Lyrics) - Dindi.mxl\n",
      "wikifonia/Dot145 - Precession of the Equinoxes.mxl\n"
     ]
    }
   ],
   "source": [
    "allharm = []\n",
    "for file in glob.glob(\"wikifonia/*.mxl\"):\n",
    "    # look for all files with the .mxl extension in our source folder\n",
    "        try:\n",
    "            pc = converter.parse(file)\n",
    "        except:\n",
    "            print(file)\n",
    "            continue\n",
    "        # use music21's converter.parse() to convert them to music21 objects and store them within a stream \"midi\"\n",
    "        \n",
    "        allharm += getnotes(pc)"
   ]
  },
  {
   "cell_type": "code",
   "execution_count": null,
   "metadata": {},
   "outputs": [],
   "source": [
    "#file = \"wikifonia/traditional French carol (early 16th century) - Entre le Boeuf et l'Ane Gris.mxl\"\n",
    "# Music21 bug? end-length -> end-height confusion somehow?\n",
    "#file = \"wikifonia/Bud Powell - Bouncin' with Bud.mxl\"\n",
    "# Altering a non-existing 13 - MXL notates this as \"parentheses-degrees\", musescore parses it well as Gm7(b9)\n",
    "#file= \"wikifonia/William Ballet - Greensleeves.mxl\"\n",
    "# Also a music21 bug? Or missing \"lowest line\"?\n",
    "#file =\"wikifonia/Charlie Parker - Scrapple From The Apple.mxl\"\n",
    "# Altering a \"non-existing\" 9\n",
    "#file = \"wikifonia/Joe Harnell - The Lonely Man.mxl\"\n",
    "# Altering a \"non-existing\" 11\n",
    "#file= \"wikifonia/Cole Porter - All Through the Night.mxl\"\n",
    "# Measure of zero length?\n",
    "#file = \"wikifonia/Mike Sharpe (Shapiro), Harry Middlebrooks - Spooky.mxl\"\n",
    "# PitchException: Cannot make a step out of '''\n",
    "#file = \"wikifonia/William Cummings, Felix Mendolssohn, Gary Bisaga, Charles Wesley, George Whitfield - Hark the Herald Angels Sing.mxl\"\n",
    "# Altering a \"non-existing\" 11\n",
    "#file = \"wikifonia/Antonio Carlos Jobim, Ray Gilbert (English Lyrics) - Dindi.mxl\"\n",
    "# Altering a \"non-existing\" 9\n",
    "#file = \"wikifonia/Dot145 - Precession of the Equinoxes.mxl\"\n",
    "# Altering a \"non-existing\" 9\n",
    "\n",
    "#pc = converter.parse(file)"
   ]
  },
  {
   "cell_type": "code",
   "execution_count": 71,
   "metadata": {},
   "outputs": [
    {
     "name": "stdout",
     "output_type": "stream",
     "text": [
      "266787\n"
     ]
    }
   ],
   "source": [
    "print(len(allharm))"
   ]
  },
  {
   "cell_type": "code",
   "execution_count": 45,
   "metadata": {},
   "outputs": [
    {
     "name": "stdout",
     "output_type": "stream",
     "text": [
      "('major', [(4, 'chordtone'), (1, 'chordtone'), (0, 'chordtone'), (1, 'chordtone')])\n"
     ]
    }
   ],
   "source": [
    "print(allharm[0])"
   ]
  },
  {
   "cell_type": "code",
   "execution_count": 52,
   "metadata": {},
   "outputs": [],
   "source": [
    "import json"
   ]
  },
  {
   "cell_type": "code",
   "execution_count": 53,
   "metadata": {},
   "outputs": [],
   "source": [
    "f = open(\"/tmp/harmonies.json\",\"w\")\n",
    "json.dump(allharm,f)\n",
    "f.close()"
   ]
  },
  {
   "cell_type": "code",
   "execution_count": 69,
   "metadata": {},
   "outputs": [],
   "source": [
    "def dump_allharm(f):\n",
    "    f.write(\"chordid\\tlabel\\tfifth\\ttype\\n\")\n",
    "    ix = 0\n",
    "    for chord in allharm:\n",
    "        for note in chord[1]:\n",
    "            f.write(\"\\t\".join(map(str,[ix,chord[0],note[0],note[1]])) + \"\\n\")\n",
    "        ix+=1"
   ]
  },
  {
   "cell_type": "code",
   "execution_count": 70,
   "metadata": {},
   "outputs": [],
   "source": [
    "f = open(\"/tmp/harmonies.csv\",\"w\")\n",
    "dump_allharm(f)"
   ]
  }
 ],
 "metadata": {
  "kernelspec": {
   "display_name": "Python 3",
   "language": "python",
   "name": "python3"
  },
  "language_info": {
   "codemirror_mode": {
    "name": "ipython",
    "version": 3
   },
   "file_extension": ".py",
   "mimetype": "text/x-python",
   "name": "python",
   "nbconvert_exporter": "python",
   "pygments_lexer": "ipython3",
   "version": "3.8.2"
  }
 },
 "nbformat": 4,
 "nbformat_minor": 4
}
