{
 "cells": [
  {
   "cell_type": "markdown",
   "metadata": {},
   "source": [
    "Options going forward:\n",
    "\n",
    "Play around with the unsupervised model, for example changing the conception of what a chord is, and how we can cluster chords together\n",
    "\n",
    "Modify the supervised model, for example introducing modes and borrowing from other models etc, and that the distributions of ornamentations is mode-dependent. We can for example have some conception of the diatonic, so a mode is a segment of 7 on the line of fifths.\n",
    "\n",
    "We can also introduce that chord tones should not be ornaments, and that modes etc. have an offset on the line of fifths. \n",
    "\n",
    "Christoph has Ideas about this, and we can do this similar to the unknown type.\n",
    "\n",
    "An even more complex model could learn the \"modes\" separately, similar to the unsupervised model, but this is likely to be a complex thing similar to the unsupervised model.\n",
    "\n",
    "We can also try to apply the model in a different context. For example, we can try to combine this with reduction somehow, and iterative slice generation.\n",
    "\n",
    "For next meeting, we will try to come up with individual directions for further research, and maybe also have a document giving the current status of the project."
   ]
  }
 ],
 "metadata": {
  "kernelspec": {
   "display_name": "Python 3",
   "language": "python",
   "name": "python3"
  },
  "language_info": {
   "codemirror_mode": {
    "name": "ipython",
    "version": 3
   },
   "file_extension": ".py",
   "mimetype": "text/x-python",
   "name": "python",
   "nbconvert_exporter": "python",
   "pygments_lexer": "ipython3",
   "version": "3.8.2"
  }
 },
 "nbformat": 4,
 "nbformat_minor": 4
}
