{
 "cells": [
  {
   "cell_type": "code",
   "execution_count": 1,
   "metadata": {},
   "outputs": [],
   "source": [
    "import pandas as pd\n",
    "import numpy as np\n",
    "import mozart_piano_sonatas.utils.feature_matrices as fm\n",
    "from utils import notetype\n",
    "import glob\n",
    "import sys\n",
    "import os.path as path\n",
    "import tqdm\n",
    "from importlib import reload"
   ]
  },
  {
   "cell_type": "code",
   "execution_count": 2,
   "metadata": {},
   "outputs": [],
   "source": [
    "chord_types = {\n",
    "    'M': [0,1,4],\n",
    "    'm': [0,1,-3],\n",
    "    'o': [0,-3,-6],\n",
    "    '+': [0,4,8],\n",
    "    'Mm7': [0,1,4,-2],\n",
    "    'mm7': [0,1,-3,-2],\n",
    "    'MM7': [0,1,4,5],\n",
    "    'mM7': [0,1,-3,5],\n",
    "    '%7': [0,-3,-6,-2],\n",
    "    'o7': [0,-3,-6,-9],\n",
    "    '+7': [0,4,8,-2]\n",
    "}"
   ]
  },
  {
   "cell_type": "code",
   "execution_count": 3,
   "metadata": {},
   "outputs": [],
   "source": [
    "corpus = \"dcml_corpora/annotations/Bach-Suites/\"\n",
    "piece = 'BWV812_01_Allemande'"
   ]
  },
  {
   "cell_type": "code",
   "execution_count": 4,
   "metadata": {},
   "outputs": [],
   "source": [
    "def total_onsets(events, measures):\n",
    "    moffsets = measures.act_dur.values.cumsum()\n",
    "    monsets = moffsets - measures.act_dur.values\n",
    "    mshifts = measures.offset.values\n",
    "    mi = events.mc - 1\n",
    "    return events['onset'] + monsets[mi] - mshifts[mi]"
   ]
  },
  {
   "cell_type": "code",
   "execution_count": 5,
   "metadata": {},
   "outputs": [],
   "source": [
    "def merge_ties(notes):\n",
    "    notes = notes.copy()\n",
    "    beginnings = notes[notes.tied == 1]\n",
    "    continues = notes[notes.tied < 1]\n",
    "    for i in beginnings.index:\n",
    "        on = notes.total_onset[i]\n",
    "        off = notes.total_offset[i]\n",
    "        midi = notes.midi[i]\n",
    "        tpc = notes.tpc[i]\n",
    "        while True:\n",
    "            cont = continues[(continues.total_onset == off) &\n",
    "                             (continues.midi == midi) &\n",
    "                             (continues.tpc == tpc)].first_valid_index()\n",
    "            if cont is None:\n",
    "                break\n",
    "            off = continues.total_offset[cont]\n",
    "            if continues.tied[cont] == -1:\n",
    "                break\n",
    "        notes.at[i, 'total_offset'] = off\n",
    "        notes.at[i, 'duration'] = off - on\n",
    "    return notes[~(notes.tied < 1).fillna(False)]"
   ]
  },
  {
   "cell_type": "code",
   "execution_count": 6,
   "metadata": {},
   "outputs": [],
   "source": [
    "def load_dfs(corpus, piece):\n",
    "    measures = fm.read_tsvs(corpus + 'measures', [piece])\n",
    "    \n",
    "    notes = fm.read_tsvs(corpus + 'notes', [piece])\n",
    "    notes['total_onset'] = total_onsets(notes, measures)\n",
    "    notes['total_offset'] = notes.total_onset.values + notes.duration.values\n",
    "    notes = merge_ties(notes)\n",
    "    max_offset = notes.total_offset.values.max()\n",
    "    \n",
    "    harmonies = fm.read_tsvs(corpus + 'harmonies', [piece])\n",
    "    harmonies['total_onset'] = total_onsets(harmonies, measures)\n",
    "    harmonies['total_offset'] = np.append(harmonies.total_onset.values[1:], max_offset)\n",
    "    \n",
    "    return notes, harmonies"
   ]
  },
  {
   "cell_type": "code",
   "execution_count": 7,
   "metadata": {},
   "outputs": [],
   "source": [
    "def get_chords(notes, harmonies, id_offset=0):\n",
    "    key = fm.name2tpc(harmonies.globalkey[0])\n",
    "    \n",
    "    chordids = np.empty(0, dtype=int)\n",
    "    labels   = np.empty(0, dtype=str)\n",
    "    fifths   = np.empty(0, dtype=int)\n",
    "    types    = np.empty(0, dtype=str)\n",
    "    highest_id = id_offset\n",
    "    \n",
    "    for i, ih in enumerate(harmonies.index):\n",
    "        if harmonies.chord[ih] == '@none':\n",
    "            continue\n",
    "        on = harmonies.total_onset[ih]\n",
    "        off = harmonies.total_offset[ih]\n",
    "        label = harmonies.chord_type[ih]\n",
    "        root = harmonies.root[ih] + key\n",
    "        \n",
    "        inotes = (notes.total_offset > on) & (notes.total_onset < off)\n",
    "        pitches = notes.tpc[inotes].values - root\n",
    "        chord_tones = chord_types[label]\n",
    "        note_types = [notetype(p, pitches, chord_tones) for p in pitches]\n",
    "        chordids = np.append(chordids, np.repeat(i + id_offset, len(pitches)))\n",
    "        labels   = np.append(labels, np.repeat(label, len(pitches)))\n",
    "        fifths   = np.append(fifths, pitches)\n",
    "        types    = np.append(types, note_types)\n",
    "        highest_id = i + id_offset\n",
    "        \n",
    "    chords_df = pd.DataFrame({\n",
    "        'chordid': chordids,\n",
    "        'label': labels,\n",
    "        'fifth': fifths,\n",
    "        'type': types})\n",
    "    return chords_df, highest_id"
   ]
  },
  {
   "cell_type": "code",
   "execution_count": 8,
   "metadata": {},
   "outputs": [],
   "source": [
    "def get_chords_from_piece(folder, file, id_offset=0):\n",
    "    notes, harmonies = load_dfs(folder, file)\n",
    "    return get_chords(notes, harmonies, id_offset)"
   ]
  },
  {
   "cell_type": "code",
   "execution_count": 9,
   "metadata": {},
   "outputs": [
    {
     "name": "stdout",
     "output_type": "stream",
     "text": [
      "max_id=169\n"
     ]
    },
    {
     "data": {
      "text/html": [
       "<div>\n",
       "<style scoped>\n",
       "    .dataframe tbody tr th:only-of-type {\n",
       "        vertical-align: middle;\n",
       "    }\n",
       "\n",
       "    .dataframe tbody tr th {\n",
       "        vertical-align: top;\n",
       "    }\n",
       "\n",
       "    .dataframe thead th {\n",
       "        text-align: right;\n",
       "    }\n",
       "</style>\n",
       "<table border=\"1\" class=\"dataframe\">\n",
       "  <thead>\n",
       "    <tr style=\"text-align: right;\">\n",
       "      <th></th>\n",
       "      <th>chordid</th>\n",
       "      <th>label</th>\n",
       "      <th>fifth</th>\n",
       "      <th>type</th>\n",
       "    </tr>\n",
       "  </thead>\n",
       "  <tbody>\n",
       "    <tr>\n",
       "      <th>0</th>\n",
       "      <td>12</td>\n",
       "      <td>m</td>\n",
       "      <td>0</td>\n",
       "      <td>chordtone</td>\n",
       "    </tr>\n",
       "    <tr>\n",
       "      <th>1</th>\n",
       "      <td>12</td>\n",
       "      <td>m</td>\n",
       "      <td>0</td>\n",
       "      <td>chordtone</td>\n",
       "    </tr>\n",
       "    <tr>\n",
       "      <th>2</th>\n",
       "      <td>12</td>\n",
       "      <td>m</td>\n",
       "      <td>0</td>\n",
       "      <td>chordtone</td>\n",
       "    </tr>\n",
       "    <tr>\n",
       "      <th>3</th>\n",
       "      <td>12</td>\n",
       "      <td>m</td>\n",
       "      <td>1</td>\n",
       "      <td>chordtone</td>\n",
       "    </tr>\n",
       "    <tr>\n",
       "      <th>4</th>\n",
       "      <td>13</td>\n",
       "      <td>m</td>\n",
       "      <td>1</td>\n",
       "      <td>chordtone</td>\n",
       "    </tr>\n",
       "    <tr>\n",
       "      <th>...</th>\n",
       "      <td>...</td>\n",
       "      <td>...</td>\n",
       "      <td>...</td>\n",
       "      <td>...</td>\n",
       "    </tr>\n",
       "    <tr>\n",
       "      <th>719</th>\n",
       "      <td>169</td>\n",
       "      <td>M</td>\n",
       "      <td>0</td>\n",
       "      <td>chordtone</td>\n",
       "    </tr>\n",
       "    <tr>\n",
       "      <th>720</th>\n",
       "      <td>169</td>\n",
       "      <td>M</td>\n",
       "      <td>4</td>\n",
       "      <td>chordtone</td>\n",
       "    </tr>\n",
       "    <tr>\n",
       "      <th>721</th>\n",
       "      <td>169</td>\n",
       "      <td>M</td>\n",
       "      <td>1</td>\n",
       "      <td>chordtone</td>\n",
       "    </tr>\n",
       "    <tr>\n",
       "      <th>722</th>\n",
       "      <td>169</td>\n",
       "      <td>M</td>\n",
       "      <td>0</td>\n",
       "      <td>chordtone</td>\n",
       "    </tr>\n",
       "    <tr>\n",
       "      <th>723</th>\n",
       "      <td>169</td>\n",
       "      <td>M</td>\n",
       "      <td>0</td>\n",
       "      <td>chordtone</td>\n",
       "    </tr>\n",
       "  </tbody>\n",
       "</table>\n",
       "<p>724 rows × 4 columns</p>\n",
       "</div>"
      ],
      "text/plain": [
       "     chordid label  fifth       type\n",
       "0         12     m      0  chordtone\n",
       "1         12     m      0  chordtone\n",
       "2         12     m      0  chordtone\n",
       "3         12     m      1  chordtone\n",
       "4         13     m      1  chordtone\n",
       "..       ...   ...    ...        ...\n",
       "719      169     M      0  chordtone\n",
       "720      169     M      4  chordtone\n",
       "721      169     M      1  chordtone\n",
       "722      169     M      0  chordtone\n",
       "723      169     M      0  chordtone\n",
       "\n",
       "[724 rows x 4 columns]"
      ]
     },
     "execution_count": 9,
     "metadata": {},
     "output_type": "execute_result"
    }
   ],
   "source": [
    "chords, max_id = get_chords_from_piece(corpus, piece, 12)\n",
    "print(f\"{max_id=}\")\n",
    "chords"
   ]
  },
  {
   "cell_type": "code",
   "execution_count": 19,
   "metadata": {},
   "outputs": [],
   "source": [
    "def get_chords_from_files(filelist):\n",
    "    offset = 0\n",
    "    all_chords = None\n",
    "    for folder, file in tqdm.tqdm(filelist):\n",
    "        try:\n",
    "            chords, max_id = get_chords_from_piece(folder, file, offset)\n",
    "            all_chords = chords if (all_chords is None) else all_chords.append(chords)\n",
    "            offset = max_id + 1\n",
    "        except FileNotFoundError:\n",
    "            print(f'file not found for {folder} {file}')\n",
    "            continue\n",
    "        except ValueError:\n",
    "            print(f'ValueError in {folder} {file}')\n",
    "            continue\n",
    "        except:\n",
    "            print(f'failed for unknown reasons: {folder} {file}')\n",
    "            #raise Exception(f\"failed file: {folder} {file}\")\n",
    "    return all_chords.reset_index(drop=True)"
   ]
  },
  {
   "cell_type": "code",
   "execution_count": 20,
   "metadata": {},
   "outputs": [],
   "source": [
    "def get_corpus_pieces(corpus):\n",
    "    dirs = glob.glob(corpus + 'annotations/*/')\n",
    "    files = [(d, path.splitext(path.basename(f))[0])\n",
    "             for d in dirs\n",
    "             for f in glob.glob(d + 'notes/*.tsv')]\n",
    "    return files"
   ]
  },
  {
   "cell_type": "code",
   "execution_count": 21,
   "metadata": {},
   "outputs": [],
   "source": [
    "pieces = get_corpus_pieces('dcml_corpora/')"
   ]
  },
  {
   "cell_type": "code",
   "execution_count": 22,
   "metadata": {},
   "outputs": [
    {
     "name": "stderr",
     "output_type": "stream",
     "text": [
      " 14%|█▍        | 121/845 [08:11<10:48,  1.12it/s]  "
     ]
    },
    {
     "name": "stdout",
     "output_type": "stream",
     "text": [
      "file not found for dcml_corpora/annotations/Couperin-gouts_reunis/ c13n01_unisson\n"
     ]
    },
    {
     "name": "stderr",
     "output_type": "stream",
     "text": [
      " 15%|█▌        | 127/845 [08:13<05:51,  2.04it/s]"
     ]
    },
    {
     "name": "stdout",
     "output_type": "stream",
     "text": [
      "file not found for dcml_corpora/annotations/Couperin-gouts_reunis/ c13n02_air\n"
     ]
    },
    {
     "name": "stderr",
     "output_type": "stream",
     "text": [
      " 16%|█▌        | 131/845 [08:15<03:50,  3.09it/s]"
     ]
    },
    {
     "name": "stdout",
     "output_type": "stream",
     "text": [
      "file not found for dcml_corpora/annotations/Couperin-gouts_reunis/ c12n03_air\n"
     ]
    },
    {
     "name": "stderr",
     "output_type": "stream",
     "text": [
      " 16%|█▌        | 137/845 [08:16<03:18,  3.57it/s]"
     ]
    },
    {
     "name": "stdout",
     "output_type": "stream",
     "text": [
      "file not found for dcml_corpora/annotations/Couperin-gouts_reunis/ c13n04_chaconne\n"
     ]
    },
    {
     "name": "stderr",
     "output_type": "stream",
     "text": [
      " 17%|█▋        | 143/845 [08:22<07:11,  1.63it/s]"
     ]
    },
    {
     "name": "stdout",
     "output_type": "stream",
     "text": [
      "file not found for dcml_corpora/annotations/Couperin-gouts_reunis/ c12n02_badinage\n"
     ]
    },
    {
     "name": "stderr",
     "output_type": "stream",
     "text": [
      " 21%|██        | 176/845 [08:44<06:42,  1.66it/s]"
     ]
    },
    {
     "name": "stdout",
     "output_type": "stream",
     "text": [
      "file not found for dcml_corpora/annotations/Couperin-gouts_reunis/ c13n03_sarabande\n"
     ]
    },
    {
     "name": "stderr",
     "output_type": "stream",
     "text": [
      " 21%|██        | 179/845 [08:45<06:14,  1.78it/s]"
     ]
    },
    {
     "name": "stdout",
     "output_type": "stream",
     "text": [
      "file not found for dcml_corpora/annotations/Couperin-gouts_reunis/ c12n01_pointe\n"
     ]
    },
    {
     "name": "stderr",
     "output_type": "stream",
     "text": [
      " 22%|██▏       | 185/845 [09:05<38:46,  3.53s/it]"
     ]
    },
    {
     "name": "stdout",
     "output_type": "stream",
     "text": [
      "file not found for dcml_corpora/annotations/Ravel/ Ravel_-_Miroirs_II._Oiseaux_tristes\n"
     ]
    },
    {
     "name": "stderr",
     "output_type": "stream",
     "text": [
      "\r",
      " 22%|██▏       | 186/845 [09:05<28:42,  2.61s/it]"
     ]
    },
    {
     "name": "stdout",
     "output_type": "stream",
     "text": [
      "file not found for dcml_corpora/annotations/Ravel/ Ravel_-_Miroirs_I._Noctuelles\n"
     ]
    },
    {
     "name": "stderr",
     "output_type": "stream",
     "text": [
      " 31%|███▏      | 265/845 [12:19<14:07,  1.46s/it]  "
     ]
    },
    {
     "name": "stdout",
     "output_type": "stream",
     "text": [
      "failed for unknown reasons: dcml_corpora/annotations/Chopin-Mazurkas/ BI18op68-2\n"
     ]
    },
    {
     "name": "stderr",
     "output_type": "stream",
     "text": [
      " 48%|████▊     | 402/845 [14:53<17:50,  2.42s/it]"
     ]
    },
    {
     "name": "stdout",
     "output_type": "stream",
     "text": [
      "file not found for dcml_corpora/annotations/Couperin-pièces_livre_I/ l1o05n04_dangereuse_sarabade\n",
      "file not found for dcml_corpora/annotations/Couperin-pièces_livre_I/ l1o05n12_vendangeuses\n",
      "file not found for dcml_corpora/annotations/Couperin-pièces_livre_I/ l1o02n12_diane\n"
     ]
    },
    {
     "name": "stderr",
     "output_type": "stream",
     "text": [
      "\r",
      " 48%|████▊     | 405/845 [14:53<12:30,  1.71s/it]"
     ]
    },
    {
     "name": "stdout",
     "output_type": "stream",
     "text": [
      "file not found for dcml_corpora/annotations/Couperin-pièces_livre_I/ l1o02n13_fanfare_diane\n",
      "file not found for dcml_corpora/annotations/Couperin-pièces_livre_I/ l1o02n06_gavotte\n"
     ]
    },
    {
     "name": "stderr",
     "output_type": "stream",
     "text": [
      " 48%|████▊     | 407/845 [14:54<06:47,  1.08it/s]"
     ]
    },
    {
     "name": "stdout",
     "output_type": "stream",
     "text": [
      "file not found for dcml_corpora/annotations/Couperin-pièces_livre_I/ l1o03n01_tenebreuse\n",
      "file not found for dcml_corpora/annotations/Couperin-pièces_livre_I/ l1o03n02_premiere_courante\n"
     ]
    },
    {
     "name": "stderr",
     "output_type": "stream",
     "text": [
      " 48%|████▊     | 409/845 [14:54<04:08,  1.75it/s]"
     ]
    },
    {
     "name": "stdout",
     "output_type": "stream",
     "text": [
      "file not found for dcml_corpora/annotations/Couperin-pièces_livre_I/ l1o02n14_terpsichore\n",
      "file not found for dcml_corpora/annotations/Couperin-pièces_livre_I/ l1o01n03_seconde_courante\n",
      "file not found for dcml_corpora/annotations/Couperin-pièces_livre_I/ l1o05n07_badine\n"
     ]
    },
    {
     "name": "stderr",
     "output_type": "stream",
     "text": [
      "\r",
      " 49%|████▉     | 412/845 [14:54<03:00,  2.40it/s]"
     ]
    },
    {
     "name": "stdout",
     "output_type": "stream",
     "text": [
      "file not found for dcml_corpora/annotations/Couperin-pièces_livre_I/ l1o02n04_sarabade_prude\n",
      "file not found for dcml_corpora/annotations/Couperin-pièces_livre_I/ l1o01n11_sentiments_sarabade\n"
     ]
    },
    {
     "name": "stderr",
     "output_type": "stream",
     "text": [
      " 49%|████▉     | 414/845 [14:55<02:10,  3.29it/s]"
     ]
    },
    {
     "name": "stdout",
     "output_type": "stream",
     "text": [
      "file not found for dcml_corpora/annotations/Couperin-pièces_livre_I/ l1o02n01_allemande_laborieuse\n",
      "file not found for dcml_corpora/annotations/Couperin-pièces_livre_I/ l1o04n02_bacchanales\n"
     ]
    },
    {
     "name": "stderr",
     "output_type": "stream",
     "text": [
      "\r",
      " 49%|████▉     | 416/845 [14:55<01:40,  4.27it/s]"
     ]
    },
    {
     "name": "stdout",
     "output_type": "stream",
     "text": [
      "file not found for dcml_corpora/annotations/Couperin-pièces_livre_I/ l1o02n22_voluptueuse\n",
      "file not found for dcml_corpora/annotations/Couperin-pièces_livre_I/ l1o05n05_gigue\n",
      "file not found for dcml_corpora/annotations/Couperin-pièces_livre_I/ l1o05n06_tendre_fanchon\n"
     ]
    },
    {
     "name": "stderr",
     "output_type": "stream",
     "text": [
      "\r",
      " 49%|████▉     | 418/845 [14:55<01:21,  5.25it/s]"
     ]
    },
    {
     "name": "stdout",
     "output_type": "stream",
     "text": [
      "file not found for dcml_corpora/annotations/Couperin-pièces_livre_I/ l1o05n02_premiere_courante\n"
     ]
    },
    {
     "name": "stderr",
     "output_type": "stream",
     "text": [
      " 50%|████▉     | 421/845 [14:55<01:11,  5.93it/s]"
     ]
    },
    {
     "name": "stdout",
     "output_type": "stream",
     "text": [
      "file not found for dcml_corpora/annotations/Couperin-pièces_livre_I/ l1o05n01_logiviere_allemande\n",
      "file not found for dcml_corpora/annotations/Couperin-pièces_livre_I/ l1o05n11_villers\n",
      "file not found for dcml_corpora/annotations/Couperin-pièces_livre_I/ l1o03n09_lespgnolette\n"
     ]
    },
    {
     "name": "stderr",
     "output_type": "stream",
     "text": [
      "\r",
      " 50%|█████     | 423/845 [14:56<01:02,  6.77it/s]"
     ]
    },
    {
     "name": "stdout",
     "output_type": "stream",
     "text": [
      "file not found for dcml_corpora/annotations/Couperin-pièces_livre_I/ l1o03n04_lugubre_sarabade\n",
      "file not found for dcml_corpora/annotations/Couperin-pièces_livre_I/ l1o02n05_lantonine\n",
      "file not found for dcml_corpora/annotations/Couperin-pièces_livre_I/ l1o01n12_pastorelle\n"
     ]
    },
    {
     "name": "stderr",
     "output_type": "stream",
     "text": [
      " 51%|█████     | 427/845 [14:56<00:50,  8.33it/s]"
     ]
    },
    {
     "name": "stdout",
     "output_type": "stream",
     "text": [
      "file not found for dcml_corpora/annotations/Couperin-pièces_livre_I/ l1o02n21_flateuse\n",
      "file not found for dcml_corpora/annotations/Couperin-pièces_livre_I/ l1o01n06_gigue\n",
      "file not found for dcml_corpora/annotations/Couperin-pièces_livre_I/ l1o03n11_matelotes_provencales\n",
      "file not found for dcml_corpora/annotations/Couperin-pièces_livre_I/ l1o04n01_marche_gris_vetus\n"
     ]
    },
    {
     "name": "stderr",
     "output_type": "stream",
     "text": [
      "\r",
      " 51%|█████     | 430/845 [14:56<00:43,  9.64it/s]"
     ]
    },
    {
     "name": "stdout",
     "output_type": "stream",
     "text": [
      "file not found for dcml_corpora/annotations/Couperin-pièces_livre_I/ l1o03n06_menuet\n",
      "file not found for dcml_corpora/annotations/Couperin-pièces_livre_I/ l1o02n03_seconde_courante\n",
      "file not found for dcml_corpora/annotations/Couperin-pièces_livre_I/ l1o01n05_gavotte\n"
     ]
    },
    {
     "name": "stderr",
     "output_type": "stream",
     "text": [
      "\r",
      " 51%|█████     | 433/845 [14:56<00:36, 11.22it/s]"
     ]
    },
    {
     "name": "stdout",
     "output_type": "stream",
     "text": [
      "file not found for dcml_corpora/annotations/Couperin-pièces_livre_I/ l1o03n10_regrets\n",
      "file not found for dcml_corpora/annotations/Couperin-pièces_livre_I/ l1o02n07_menuet\n",
      "file not found for dcml_corpora/annotations/Couperin-pièces_livre_I/ l1o02n02_premiere_courante\n"
     ]
    },
    {
     "name": "stderr",
     "output_type": "stream",
     "text": [
      "\r",
      " 51%|█████▏    | 435/845 [14:57<00:38, 10.69it/s]"
     ]
    },
    {
     "name": "stdout",
     "output_type": "stream",
     "text": [
      "file not found for dcml_corpora/annotations/Couperin-pièces_livre_I/ l1o02n09_passe_pied\n"
     ]
    },
    {
     "name": "stderr",
     "output_type": "stream",
     "text": [
      "\r",
      " 52%|█████▏    | 437/845 [14:57<00:44,  9.20it/s]"
     ]
    },
    {
     "name": "stdout",
     "output_type": "stream",
     "text": [
      "file not found for dcml_corpora/annotations/Couperin-pièces_livre_I/ l1o05n03_seconde_courante\n",
      "file not found for dcml_corpora/annotations/Couperin-pièces_livre_I/ l1o01n10_nanete\n",
      "file not found for dcml_corpora/annotations/Couperin-pièces_livre_I/ l1o02n10_rigaudon\n"
     ]
    },
    {
     "name": "stderr",
     "output_type": "stream",
     "text": [
      " 52%|█████▏    | 441/845 [14:57<00:43,  9.23it/s]"
     ]
    },
    {
     "name": "stdout",
     "output_type": "stream",
     "text": [
      "file not found for dcml_corpora/annotations/Couperin-pièces_livre_I/ l1o05n13_agrements\n",
      "file not found for dcml_corpora/annotations/Couperin-pièces_livre_I/ l1o03n03_seconde_courante\n",
      "file not found for dcml_corpora/annotations/Couperin-pièces_livre_I/ l1o03n07_pelerines\n",
      "file not found for dcml_corpora/annotations/Couperin-pièces_livre_I/ l1o01n04_sarabande\n"
     ]
    },
    {
     "name": "stderr",
     "output_type": "stream",
     "text": [
      "\r",
      " 53%|█████▎    | 444/845 [14:57<00:36, 11.00it/s]"
     ]
    },
    {
     "name": "stdout",
     "output_type": "stream",
     "text": [
      "file not found for dcml_corpora/annotations/Couperin-pièces_livre_I/ l1o02n23_papillons\n",
      "file not found for dcml_corpora/annotations/Couperin-pièces_livre_I/ l1o02n17_babet\n",
      "file not found for dcml_corpora/annotations/Couperin-pièces_livre_I/ l1o03n08_laurentines\n"
     ]
    },
    {
     "name": "stderr",
     "output_type": "stream",
     "text": [
      " 53%|█████▎    | 448/845 [14:58<00:38, 10.21it/s]"
     ]
    },
    {
     "name": "stdout",
     "output_type": "stream",
     "text": [
      "file not found for dcml_corpora/annotations/Couperin-pièces_livre_I/ l1o05n14_Ondes\n",
      "file not found for dcml_corpora/annotations/Couperin-pièces_livre_I/ l1o03n13_lutine\n",
      "file not found for dcml_corpora/annotations/Couperin-pièces_livre_I/ l1o01n17_fleurie_nanette\n",
      "file not found for dcml_corpora/annotations/Couperin-pièces_livre_I/ l1o02n19_mimi\n"
     ]
    },
    {
     "name": "stderr",
     "output_type": "stream",
     "text": [
      " 54%|█████▎    | 454/845 [14:58<00:26, 14.73it/s]"
     ]
    },
    {
     "name": "stdout",
     "output_type": "stream",
     "text": [
      "file not found for dcml_corpora/annotations/Couperin-pièces_livre_I/ l1o01n13_nonetes\n",
      "file not found for dcml_corpora/annotations/Couperin-pièces_livre_I/ l1o01n14_bourbonnoise_gavotte\n",
      "file not found for dcml_corpora/annotations/Couperin-pièces_livre_I/ l1o01n18_plaisirs_laye\n",
      "file not found for dcml_corpora/annotations/Couperin-pièces_livre_I/ l1o01n07_menuet\n",
      "file not found for dcml_corpora/annotations/Couperin-pièces_livre_I/ l1o01n15_manon\n",
      "file not found for dcml_corpora/annotations/Couperin-pièces_livre_I/ l1o05n08_bandoline\n"
     ]
    },
    {
     "name": "stderr",
     "output_type": "stream",
     "text": [
      "\r",
      " 54%|█████▍    | 457/845 [14:58<00:27, 14.24it/s]"
     ]
    },
    {
     "name": "stdout",
     "output_type": "stream",
     "text": [
      "file not found for dcml_corpora/annotations/Couperin-pièces_livre_I/ l1o04n03_palentine\n",
      "file not found for dcml_corpora/annotations/Couperin-pièces_livre_I/ l1o05n10_angelique\n",
      "file not found for dcml_corpora/annotations/Couperin-pièces_livre_I/ l1o03n05_gavotte\n"
     ]
    },
    {
     "name": "stderr",
     "output_type": "stream",
     "text": [
      "\r",
      " 54%|█████▍    | 459/845 [14:58<00:25, 15.11it/s]"
     ]
    },
    {
     "name": "stdout",
     "output_type": "stream",
     "text": [
      "file not found for dcml_corpora/annotations/Couperin-pièces_livre_I/ l1o01n02_premiere_courante\n"
     ]
    },
    {
     "name": "stderr",
     "output_type": "stream",
     "text": [
      " 55%|█████▌    | 467/845 [15:30<10:25,  1.66s/it]"
     ]
    },
    {
     "name": "stdout",
     "output_type": "stream",
     "text": [
      "ValueError in dcml_corpora/annotations/Schütz - Kleine geistliche Konzerte/ op08n17swv298_Das_Blut_Jesu_Christi\n"
     ]
    },
    {
     "name": "stderr",
     "output_type": "stream",
     "text": [
      " 64%|██████▍   | 541/845 [17:25<02:42,  1.87it/s]"
     ]
    },
    {
     "name": "stdout",
     "output_type": "stream",
     "text": [
      "ValueError in dcml_corpora/annotations/Bach-Suites/ BWV813_02_Courante\n"
     ]
    },
    {
     "name": "stderr",
     "output_type": "stream",
     "text": [
      " 78%|███████▊  | 660/845 [20:15<04:09,  1.35s/it]"
     ]
    },
    {
     "name": "stdout",
     "output_type": "stream",
     "text": [
      "failed for unknown reasons: dcml_corpora/annotations/Beethoven-Sonatas/ 19-2_GOW\n"
     ]
    },
    {
     "name": "stderr",
     "output_type": "stream",
     "text": [
      "\r",
      " 78%|███████▊  | 661/845 [20:21<07:57,  2.60s/it]"
     ]
    },
    {
     "name": "stdout",
     "output_type": "stream",
     "text": [
      "failed for unknown reasons: dcml_corpora/annotations/Beethoven-Sonatas/ 03-4\n",
      "file not found for dcml_corpora/annotations/Beethoven-Sonatas/ 02-3\n"
     ]
    },
    {
     "name": "stderr",
     "output_type": "stream",
     "text": [
      " 79%|███████▊  | 664/845 [20:21<04:02,  1.34s/it]"
     ]
    },
    {
     "name": "stdout",
     "output_type": "stream",
     "text": [
      "failed for unknown reasons: dcml_corpora/annotations/Beethoven-Sonatas/ 01-4\n",
      "file not found for dcml_corpora/annotations/Beethoven-Sonatas/ 02-2\n"
     ]
    },
    {
     "name": "stderr",
     "output_type": "stream",
     "text": [
      "\r",
      " 79%|███████▊  | 665/845 [20:22<03:07,  1.04s/it]"
     ]
    },
    {
     "name": "stdout",
     "output_type": "stream",
     "text": [
      "failed for unknown reasons: dcml_corpora/annotations/Beethoven-Sonatas/ 19-1_DG\n"
     ]
    },
    {
     "name": "stderr",
     "output_type": "stream",
     "text": [
      " 79%|███████▉  | 668/845 [20:23<02:21,  1.25it/s]"
     ]
    },
    {
     "name": "stdout",
     "output_type": "stream",
     "text": [
      "failed for unknown reasons: dcml_corpora/annotations/Beethoven-Sonatas/ 31-1\n",
      "file not found for dcml_corpora/annotations/Beethoven-Sonatas/ 13-3\n",
      "file not found for dcml_corpora/annotations/Beethoven-Sonatas/ 13-2\n"
     ]
    },
    {
     "name": "stderr",
     "output_type": "stream",
     "text": [
      "\r",
      " 79%|███████▉  | 669/845 [20:23<01:54,  1.53it/s]"
     ]
    },
    {
     "name": "stdout",
     "output_type": "stream",
     "text": [
      "failed for unknown reasons: dcml_corpora/annotations/Beethoven-Sonatas/ 24-2\n"
     ]
    },
    {
     "name": "stderr",
     "output_type": "stream",
     "text": [
      "\r",
      " 79%|███████▉  | 670/845 [20:24<01:50,  1.59it/s]"
     ]
    },
    {
     "name": "stdout",
     "output_type": "stream",
     "text": [
      "failed for unknown reasons: dcml_corpora/annotations/Beethoven-Sonatas/ 17-3\n"
     ]
    },
    {
     "name": "stderr",
     "output_type": "stream",
     "text": [
      "\r",
      " 79%|███████▉  | 671/845 [20:24<01:39,  1.75it/s]"
     ]
    },
    {
     "name": "stdout",
     "output_type": "stream",
     "text": [
      "failed for unknown reasons: dcml_corpora/annotations/Beethoven-Sonatas/ 17-1\n"
     ]
    },
    {
     "name": "stderr",
     "output_type": "stream",
     "text": [
      " 80%|███████▉  | 673/845 [20:26<01:31,  1.89it/s]"
     ]
    },
    {
     "name": "stdout",
     "output_type": "stream",
     "text": [
      "failed for unknown reasons: dcml_corpora/annotations/Beethoven-Sonatas/ 23-1\n",
      "failed for unknown reasons: dcml_corpora/annotations/Beethoven-Sonatas/ 26-3\n"
     ]
    },
    {
     "name": "stderr",
     "output_type": "stream",
     "text": [
      "\r",
      " 80%|███████▉  | 674/845 [20:26<01:31,  1.86it/s]"
     ]
    },
    {
     "name": "stdout",
     "output_type": "stream",
     "text": [
      "failed for unknown reasons: dcml_corpora/annotations/Beethoven-Sonatas/ 30-3\n"
     ]
    },
    {
     "name": "stderr",
     "output_type": "stream",
     "text": [
      "\r",
      " 80%|███████▉  | 675/845 [20:27<02:04,  1.36it/s]"
     ]
    },
    {
     "name": "stdout",
     "output_type": "stream",
     "text": [
      "failed for unknown reasons: dcml_corpora/annotations/Beethoven-Sonatas/ 10-1\n"
     ]
    },
    {
     "name": "stderr",
     "output_type": "stream",
     "text": [
      "\r",
      " 80%|████████  | 676/845 [20:28<02:17,  1.23it/s]"
     ]
    },
    {
     "name": "stdout",
     "output_type": "stream",
     "text": [
      "file not found for dcml_corpora/annotations/Beethoven-Sonatas/ 13-1\n"
     ]
    },
    {
     "name": "stderr",
     "output_type": "stream",
     "text": [
      "\r",
      " 80%|████████  | 678/845 [20:29<01:42,  1.63it/s]"
     ]
    },
    {
     "name": "stdout",
     "output_type": "stream",
     "text": [
      "failed for unknown reasons: dcml_corpora/annotations/Beethoven-Sonatas/ 23-2\n"
     ]
    },
    {
     "name": "stderr",
     "output_type": "stream",
     "text": [
      " 80%|████████  | 680/845 [20:29<01:06,  2.47it/s]"
     ]
    },
    {
     "name": "stdout",
     "output_type": "stream",
     "text": [
      "file not found for dcml_corpora/annotations/Beethoven-Sonatas/ 14-2\n",
      "file not found for dcml_corpora/annotations/Beethoven-Sonatas/ 14-1\n"
     ]
    },
    {
     "name": "stderr",
     "output_type": "stream",
     "text": [
      "\r",
      " 81%|████████  | 681/845 [20:29<01:05,  2.50it/s]"
     ]
    },
    {
     "name": "stdout",
     "output_type": "stream",
     "text": [
      "file not found for dcml_corpora/annotations/Beethoven-Sonatas/ 02-1\n"
     ]
    },
    {
     "name": "stderr",
     "output_type": "stream",
     "text": [
      "\r",
      " 81%|████████  | 682/845 [20:30<00:57,  2.84it/s]"
     ]
    },
    {
     "name": "stdout",
     "output_type": "stream",
     "text": [
      "failed for unknown reasons: dcml_corpora/annotations/Beethoven-Sonatas/ 09-3\n"
     ]
    },
    {
     "name": "stderr",
     "output_type": "stream",
     "text": [
      " 81%|████████  | 684/845 [20:30<00:46,  3.47it/s]"
     ]
    },
    {
     "name": "stdout",
     "output_type": "stream",
     "text": [
      "file not found for dcml_corpora/annotations/Beethoven-Sonatas/ 11-1\n",
      "file not found for dcml_corpora/annotations/Beethoven-Sonatas/ 15-2\n"
     ]
    },
    {
     "name": "stderr",
     "output_type": "stream",
     "text": [
      " 81%|████████▏ | 687/845 [20:37<05:08,  1.95s/it]"
     ]
    },
    {
     "name": "stdout",
     "output_type": "stream",
     "text": [
      "failed for unknown reasons: dcml_corpora/annotations/Beethoven-Sonatas/ 21-1\n"
     ]
    },
    {
     "name": "stderr",
     "output_type": "stream",
     "text": [
      "\r",
      " 81%|████████▏ | 688/845 [20:39<04:49,  1.84s/it]"
     ]
    },
    {
     "name": "stdout",
     "output_type": "stream",
     "text": [
      "file not found for dcml_corpora/annotations/Beethoven-Sonatas/ 15-1\n"
     ]
    },
    {
     "name": "stderr",
     "output_type": "stream",
     "text": [
      "\r",
      " 82%|████████▏ | 689/845 [20:39<03:36,  1.39s/it]"
     ]
    },
    {
     "name": "stdout",
     "output_type": "stream",
     "text": [
      "failed for unknown reasons: dcml_corpora/annotations/Beethoven-Sonatas/ 05-3\n"
     ]
    },
    {
     "name": "stderr",
     "output_type": "stream",
     "text": [
      "\r",
      " 82%|████████▏ | 690/845 [20:42<04:33,  1.76s/it]"
     ]
    },
    {
     "name": "stdout",
     "output_type": "stream",
     "text": [
      "failed for unknown reasons: dcml_corpora/annotations/Beethoven-Sonatas/ 03-1\n"
     ]
    },
    {
     "name": "stderr",
     "output_type": "stream",
     "text": [
      "\r",
      " 82%|████████▏ | 691/845 [20:42<03:29,  1.36s/it]"
     ]
    },
    {
     "name": "stdout",
     "output_type": "stream",
     "text": [
      "file not found for dcml_corpora/annotations/Beethoven-Sonatas/ 11-2\n"
     ]
    },
    {
     "name": "stderr",
     "output_type": "stream",
     "text": [
      "\r",
      " 82%|████████▏ | 692/845 [20:43<03:11,  1.25s/it]"
     ]
    },
    {
     "name": "stdout",
     "output_type": "stream",
     "text": [
      "failed for unknown reasons: dcml_corpora/annotations/Beethoven-Sonatas/ 24-1\n"
     ]
    },
    {
     "name": "stderr",
     "output_type": "stream",
     "text": [
      "\r",
      " 82%|████████▏ | 693/845 [20:43<02:28,  1.03it/s]"
     ]
    },
    {
     "name": "stdout",
     "output_type": "stream",
     "text": [
      "file not found for dcml_corpora/annotations/Beethoven-Sonatas/ 12-4\n"
     ]
    },
    {
     "name": "stderr",
     "output_type": "stream",
     "text": [
      "\r",
      " 82%|████████▏ | 694/845 [20:44<01:53,  1.33it/s]"
     ]
    },
    {
     "name": "stdout",
     "output_type": "stream",
     "text": [
      "file not found for dcml_corpora/annotations/Beethoven-Sonatas/ 04-4\n"
     ]
    },
    {
     "name": "stderr",
     "output_type": "stream",
     "text": [
      "\r",
      " 82%|████████▏ | 695/845 [20:44<01:36,  1.56it/s]"
     ]
    },
    {
     "name": "stdout",
     "output_type": "stream",
     "text": [
      "failed for unknown reasons: dcml_corpora/annotations/Beethoven-Sonatas/ 32-1\n"
     ]
    },
    {
     "name": "stderr",
     "output_type": "stream",
     "text": [
      "\r",
      " 82%|████████▏ | 696/845 [20:44<01:27,  1.71it/s]"
     ]
    },
    {
     "name": "stdout",
     "output_type": "stream",
     "text": [
      "failed for unknown reasons: dcml_corpora/annotations/Beethoven-Sonatas/ 23-3\n"
     ]
    },
    {
     "name": "stderr",
     "output_type": "stream",
     "text": [
      "\r",
      " 82%|████████▏ | 697/845 [20:45<01:41,  1.45it/s]"
     ]
    },
    {
     "name": "stdout",
     "output_type": "stream",
     "text": [
      "failed for unknown reasons: dcml_corpora/annotations/Beethoven-Sonatas/ 16-1\n"
     ]
    },
    {
     "name": "stderr",
     "output_type": "stream",
     "text": [
      "\r",
      " 83%|████████▎ | 698/845 [20:46<01:25,  1.73it/s]"
     ]
    },
    {
     "name": "stdout",
     "output_type": "stream",
     "text": [
      "failed for unknown reasons: dcml_corpora/annotations/Beethoven-Sonatas/ 03-2\n"
     ]
    },
    {
     "name": "stderr",
     "output_type": "stream",
     "text": [
      "\r",
      " 83%|████████▎ | 699/845 [20:47<01:37,  1.50it/s]"
     ]
    },
    {
     "name": "stdout",
     "output_type": "stream",
     "text": [
      "failed for unknown reasons: dcml_corpora/annotations/Beethoven-Sonatas/ 07-4\n"
     ]
    },
    {
     "name": "stderr",
     "output_type": "stream",
     "text": [
      "\r",
      " 83%|████████▎ | 700/845 [20:47<01:31,  1.58it/s]"
     ]
    },
    {
     "name": "stdout",
     "output_type": "stream",
     "text": [
      "file not found for dcml_corpora/annotations/Beethoven-Sonatas/ 14-3\n",
      "file not found for dcml_corpora/annotations/Beethoven-Sonatas/ 12-2\n"
     ]
    },
    {
     "name": "stderr",
     "output_type": "stream",
     "text": [
      "\r",
      " 83%|████████▎ | 702/845 [20:51<02:26,  1.02s/it]"
     ]
    },
    {
     "name": "stdout",
     "output_type": "stream",
     "text": [
      "failed for unknown reasons: dcml_corpora/annotations/Beethoven-Sonatas/ 31-3\n"
     ]
    },
    {
     "name": "stderr",
     "output_type": "stream",
     "text": [
      "\r",
      " 83%|████████▎ | 703/845 [20:52<02:23,  1.01s/it]"
     ]
    },
    {
     "name": "stdout",
     "output_type": "stream",
     "text": [
      "failed for unknown reasons: dcml_corpora/annotations/Beethoven-Sonatas/ 07-1\n"
     ]
    },
    {
     "name": "stderr",
     "output_type": "stream",
     "text": [
      "\r",
      " 83%|████████▎ | 704/845 [20:52<01:55,  1.22it/s]"
     ]
    },
    {
     "name": "stdout",
     "output_type": "stream",
     "text": [
      "failed for unknown reasons: dcml_corpora/annotations/Beethoven-Sonatas/ 08-3\n"
     ]
    },
    {
     "name": "stderr",
     "output_type": "stream",
     "text": [
      "\r",
      " 83%|████████▎ | 705/845 [20:53<01:46,  1.32it/s]"
     ]
    },
    {
     "name": "stdout",
     "output_type": "stream",
     "text": [
      "failed for unknown reasons: dcml_corpora/annotations/Beethoven-Sonatas/ 16-2\n"
     ]
    },
    {
     "name": "stderr",
     "output_type": "stream",
     "text": [
      "\r",
      " 84%|████████▎ | 706/845 [20:53<01:25,  1.62it/s]"
     ]
    },
    {
     "name": "stdout",
     "output_type": "stream",
     "text": [
      "failed for unknown reasons: dcml_corpora/annotations/Beethoven-Sonatas/ 26-2\n"
     ]
    },
    {
     "name": "stderr",
     "output_type": "stream",
     "text": [
      "\r",
      " 84%|████████▎ | 707/845 [20:54<01:18,  1.75it/s]"
     ]
    },
    {
     "name": "stdout",
     "output_type": "stream",
     "text": [
      "failed for unknown reasons: dcml_corpora/annotations/Beethoven-Sonatas/ 05-2\n"
     ]
    },
    {
     "name": "stderr",
     "output_type": "stream",
     "text": [
      " 84%|████████▍ | 709/845 [20:56<01:32,  1.47it/s]"
     ]
    },
    {
     "name": "stdout",
     "output_type": "stream",
     "text": [
      "failed for unknown reasons: dcml_corpora/annotations/Beethoven-Sonatas/ 01-1\n"
     ]
    },
    {
     "name": "stderr",
     "output_type": "stream",
     "text": [
      "\r",
      " 84%|████████▍ | 710/845 [20:56<01:12,  1.85it/s]"
     ]
    },
    {
     "name": "stdout",
     "output_type": "stream",
     "text": [
      "file not found for dcml_corpora/annotations/Beethoven-Sonatas/ 04-2\n"
     ]
    },
    {
     "name": "stderr",
     "output_type": "stream",
     "text": [
      "\r",
      " 84%|████████▍ | 711/845 [20:56<01:01,  2.17it/s]"
     ]
    },
    {
     "name": "stdout",
     "output_type": "stream",
     "text": [
      "failed for unknown reasons: dcml_corpora/annotations/Beethoven-Sonatas/ 09-2\n"
     ]
    },
    {
     "name": "stderr",
     "output_type": "stream",
     "text": [
      "\r",
      " 84%|████████▍ | 712/845 [20:56<00:56,  2.34it/s]"
     ]
    },
    {
     "name": "stdout",
     "output_type": "stream",
     "text": [
      "file not found for dcml_corpora/annotations/Beethoven-Sonatas/ 15-4\n"
     ]
    },
    {
     "name": "stderr",
     "output_type": "stream",
     "text": [
      "\r",
      " 84%|████████▍ | 713/845 [20:57<00:49,  2.69it/s]"
     ]
    },
    {
     "name": "stdout",
     "output_type": "stream",
     "text": [
      "failed for unknown reasons: dcml_corpora/annotations/Beethoven-Sonatas/ 06-2\n"
     ]
    },
    {
     "name": "stderr",
     "output_type": "stream",
     "text": [
      "\r",
      " 84%|████████▍ | 714/845 [20:57<00:46,  2.82it/s]"
     ]
    },
    {
     "name": "stdout",
     "output_type": "stream",
     "text": [
      "failed for unknown reasons: dcml_corpora/annotations/Beethoven-Sonatas/ 18-1\n"
     ]
    },
    {
     "name": "stderr",
     "output_type": "stream",
     "text": [
      " 85%|████████▍ | 717/845 [21:00<01:36,  1.32it/s]"
     ]
    },
    {
     "name": "stdout",
     "output_type": "stream",
     "text": [
      "failed for unknown reasons: dcml_corpora/annotations/Beethoven-Sonatas/ 18-2\n"
     ]
    },
    {
     "name": "stderr",
     "output_type": "stream",
     "text": [
      "\r",
      " 85%|████████▍ | 718/845 [21:00<01:19,  1.59it/s]"
     ]
    },
    {
     "name": "stdout",
     "output_type": "stream",
     "text": [
      "failed for unknown reasons: dcml_corpora/annotations/Beethoven-Sonatas/ 16-3\n"
     ]
    },
    {
     "name": "stderr",
     "output_type": "stream",
     "text": [
      " 85%|████████▌ | 720/845 [21:01<00:59,  2.09it/s]"
     ]
    },
    {
     "name": "stdout",
     "output_type": "stream",
     "text": [
      "failed for unknown reasons: dcml_corpora/annotations/Beethoven-Sonatas/ 18-3\n"
     ]
    },
    {
     "name": "stderr",
     "output_type": "stream",
     "text": [
      "\r",
      " 85%|████████▌ | 721/845 [21:01<00:53,  2.32it/s]"
     ]
    },
    {
     "name": "stdout",
     "output_type": "stream",
     "text": [
      "failed for unknown reasons: dcml_corpora/annotations/Beethoven-Sonatas/ 26-1\n",
      "file not found for dcml_corpora/annotations/Beethoven-Sonatas/ 15-3\n"
     ]
    },
    {
     "name": "stderr",
     "output_type": "stream",
     "text": [
      "\r",
      " 86%|████████▌ | 723/845 [21:02<00:47,  2.58it/s]"
     ]
    },
    {
     "name": "stdout",
     "output_type": "stream",
     "text": [
      "failed for unknown reasons: dcml_corpora/annotations/Beethoven-Sonatas/ 30-2\n",
      "failed for unknown reasons: dcml_corpora/annotations/Beethoven-Sonatas/ 21-2\n"
     ]
    },
    {
     "name": "stderr",
     "output_type": "stream",
     "text": [
      "\r",
      " 86%|████████▌ | 725/845 [21:02<00:39,  3.06it/s]"
     ]
    },
    {
     "name": "stdout",
     "output_type": "stream",
     "text": [
      "file not found for dcml_corpora/annotations/Beethoven-Sonatas/ 11-4\n"
     ]
    },
    {
     "name": "stderr",
     "output_type": "stream",
     "text": [
      "\r",
      " 86%|████████▌ | 726/845 [21:03<00:43,  2.75it/s]"
     ]
    },
    {
     "name": "stdout",
     "output_type": "stream",
     "text": [
      "failed for unknown reasons: dcml_corpora/annotations/Beethoven-Sonatas/ 06-3\n"
     ]
    },
    {
     "name": "stderr",
     "output_type": "stream",
     "text": [
      "\r",
      " 86%|████████▌ | 727/845 [21:03<00:37,  3.18it/s]"
     ]
    },
    {
     "name": "stdout",
     "output_type": "stream",
     "text": [
      "file not found for dcml_corpora/annotations/Beethoven-Sonatas/ 04-3\n",
      "file not found for dcml_corpora/annotations/Beethoven-Sonatas/ 12-3\n"
     ]
    },
    {
     "name": "stderr",
     "output_type": "stream",
     "text": [
      "\r",
      " 86%|████████▋ | 729/845 [21:04<00:38,  2.98it/s]"
     ]
    },
    {
     "name": "stdout",
     "output_type": "stream",
     "text": [
      "failed for unknown reasons: dcml_corpora/annotations/Beethoven-Sonatas/ 05-1\n"
     ]
    },
    {
     "name": "stderr",
     "output_type": "stream",
     "text": [
      "\r",
      " 86%|████████▋ | 730/845 [21:04<00:41,  2.79it/s]"
     ]
    },
    {
     "name": "stdout",
     "output_type": "stream",
     "text": [
      "failed for unknown reasons: dcml_corpora/annotations/Beethoven-Sonatas/ 19-2_DG\n"
     ]
    },
    {
     "name": "stderr",
     "output_type": "stream",
     "text": [
      "\r",
      " 87%|████████▋ | 731/845 [21:11<04:19,  2.28s/it]"
     ]
    },
    {
     "name": "stdout",
     "output_type": "stream",
     "text": [
      "failed for unknown reasons: dcml_corpora/annotations/Beethoven-Sonatas/ 32-2\n"
     ]
    },
    {
     "name": "stderr",
     "output_type": "stream",
     "text": [
      " 87%|████████▋ | 733/845 [21:11<02:16,  1.22s/it]"
     ]
    },
    {
     "name": "stdout",
     "output_type": "stream",
     "text": [
      "failed for unknown reasons: dcml_corpora/annotations/Beethoven-Sonatas/ 08-1\n",
      "file not found for dcml_corpora/annotations/Beethoven-Sonatas/ 02-4\n"
     ]
    },
    {
     "name": "stderr",
     "output_type": "stream",
     "text": [
      "\r",
      " 87%|████████▋ | 734/845 [21:11<01:40,  1.10it/s]"
     ]
    },
    {
     "name": "stdout",
     "output_type": "stream",
     "text": [
      "failed for unknown reasons: dcml_corpora/annotations/Beethoven-Sonatas/ 07-3\n"
     ]
    },
    {
     "name": "stderr",
     "output_type": "stream",
     "text": [
      "\r",
      " 87%|████████▋ | 735/845 [21:12<01:23,  1.31it/s]"
     ]
    },
    {
     "name": "stdout",
     "output_type": "stream",
     "text": [
      "failed for unknown reasons: dcml_corpora/annotations/Beethoven-Sonatas/ 19-1_GOW\n"
     ]
    },
    {
     "name": "stderr",
     "output_type": "stream",
     "text": [
      "\r",
      " 87%|████████▋ | 736/845 [21:12<01:15,  1.45it/s]"
     ]
    },
    {
     "name": "stdout",
     "output_type": "stream",
     "text": [
      "failed for unknown reasons: dcml_corpora/annotations/Beethoven-Sonatas/ 20-1\n"
     ]
    },
    {
     "name": "stderr",
     "output_type": "stream",
     "text": [
      "\r",
      " 87%|████████▋ | 737/845 [21:13<01:03,  1.71it/s]"
     ]
    },
    {
     "name": "stdout",
     "output_type": "stream",
     "text": [
      "failed for unknown reasons: dcml_corpora/annotations/Beethoven-Sonatas/ 06-1\n"
     ]
    },
    {
     "name": "stderr",
     "output_type": "stream",
     "text": [
      " 87%|████████▋ | 739/845 [21:13<00:42,  2.47it/s]"
     ]
    },
    {
     "name": "stdout",
     "output_type": "stream",
     "text": [
      "file not found for dcml_corpora/annotations/Beethoven-Sonatas/ 12-1\n",
      "failed for unknown reasons: dcml_corpora/annotations/Beethoven-Sonatas/ 09-1\n"
     ]
    },
    {
     "name": "stderr",
     "output_type": "stream",
     "text": [
      " 88%|████████▊ | 741/845 [21:14<00:38,  2.70it/s]"
     ]
    },
    {
     "name": "stdout",
     "output_type": "stream",
     "text": [
      "file not found for dcml_corpora/annotations/Beethoven-Sonatas/ 04-1\n",
      "failed for unknown reasons: dcml_corpora/annotations/Beethoven-Sonatas/ 03-3\n"
     ]
    },
    {
     "name": "stderr",
     "output_type": "stream",
     "text": [
      "\r",
      " 88%|████████▊ | 742/845 [21:19<03:10,  1.85s/it]"
     ]
    },
    {
     "name": "stdout",
     "output_type": "stream",
     "text": [
      "failed for unknown reasons: dcml_corpora/annotations/Beethoven-Sonatas/ 21-3\n"
     ]
    },
    {
     "name": "stderr",
     "output_type": "stream",
     "text": [
      "\r",
      " 88%|████████▊ | 743/845 [21:20<02:38,  1.55s/it]"
     ]
    },
    {
     "name": "stdout",
     "output_type": "stream",
     "text": [
      "failed for unknown reasons: dcml_corpora/annotations/Beethoven-Sonatas/ 18-4\n"
     ]
    },
    {
     "name": "stderr",
     "output_type": "stream",
     "text": [
      "\r",
      " 88%|████████▊ | 744/845 [21:21<02:04,  1.23s/it]"
     ]
    },
    {
     "name": "stdout",
     "output_type": "stream",
     "text": [
      "failed for unknown reasons: dcml_corpora/annotations/Beethoven-Sonatas/ 07-2\n"
     ]
    },
    {
     "name": "stderr",
     "output_type": "stream",
     "text": [
      "\r",
      " 88%|████████▊ | 745/845 [21:21<01:34,  1.06it/s]"
     ]
    },
    {
     "name": "stdout",
     "output_type": "stream",
     "text": [
      "file not found for dcml_corpora/annotations/Beethoven-Sonatas/ 13-4\n",
      "file not found for dcml_corpora/annotations/Beethoven-Sonatas/ 11-3\n"
     ]
    },
    {
     "name": "stderr",
     "output_type": "stream",
     "text": [
      "\r",
      " 88%|████████▊ | 747/845 [21:22<01:20,  1.22it/s]"
     ]
    },
    {
     "name": "stdout",
     "output_type": "stream",
     "text": [
      "failed for unknown reasons: dcml_corpora/annotations/Beethoven-Sonatas/ 30-1\n"
     ]
    },
    {
     "name": "stderr",
     "output_type": "stream",
     "text": [
      "\r",
      " 89%|████████▊ | 748/845 [21:23<01:31,  1.05it/s]"
     ]
    },
    {
     "name": "stdout",
     "output_type": "stream",
     "text": [
      "failed for unknown reasons: dcml_corpora/annotations/Beethoven-Sonatas/ 10-3\n"
     ]
    },
    {
     "name": "stderr",
     "output_type": "stream",
     "text": [
      " 97%|█████████▋| 820/845 [22:15<00:52,  2.11s/it]"
     ]
    },
    {
     "name": "stdout",
     "output_type": "stream",
     "text": [
      "failed for unknown reasons: dcml_corpora/annotations/WFBach-Sonatas/ Bach_WF_F03_Sonate_D-Dur_03\n"
     ]
    },
    {
     "name": "stderr",
     "output_type": "stream",
     "text": [
      "100%|██████████| 845/845 [22:34<00:00,  1.60s/it]\n"
     ]
    },
    {
     "data": {
      "text/html": [
       "<div>\n",
       "<style scoped>\n",
       "    .dataframe tbody tr th:only-of-type {\n",
       "        vertical-align: middle;\n",
       "    }\n",
       "\n",
       "    .dataframe tbody tr th {\n",
       "        vertical-align: top;\n",
       "    }\n",
       "\n",
       "    .dataframe thead th {\n",
       "        text-align: right;\n",
       "    }\n",
       "</style>\n",
       "<table border=\"1\" class=\"dataframe\">\n",
       "  <thead>\n",
       "    <tr style=\"text-align: right;\">\n",
       "      <th></th>\n",
       "      <th>chordid</th>\n",
       "      <th>label</th>\n",
       "      <th>fifth</th>\n",
       "      <th>type</th>\n",
       "    </tr>\n",
       "  </thead>\n",
       "  <tbody>\n",
       "    <tr>\n",
       "      <th>0</th>\n",
       "      <td>0</td>\n",
       "      <td>m</td>\n",
       "      <td>0</td>\n",
       "      <td>chordtone</td>\n",
       "    </tr>\n",
       "    <tr>\n",
       "      <th>1</th>\n",
       "      <td>0</td>\n",
       "      <td>m</td>\n",
       "      <td>0</td>\n",
       "      <td>chordtone</td>\n",
       "    </tr>\n",
       "    <tr>\n",
       "      <th>2</th>\n",
       "      <td>0</td>\n",
       "      <td>m</td>\n",
       "      <td>0</td>\n",
       "      <td>chordtone</td>\n",
       "    </tr>\n",
       "    <tr>\n",
       "      <th>3</th>\n",
       "      <td>1</td>\n",
       "      <td>M</td>\n",
       "      <td>4</td>\n",
       "      <td>chordtone</td>\n",
       "    </tr>\n",
       "    <tr>\n",
       "      <th>4</th>\n",
       "      <td>2</td>\n",
       "      <td>m</td>\n",
       "      <td>-3</td>\n",
       "      <td>chordtone</td>\n",
       "    </tr>\n",
       "    <tr>\n",
       "      <th>...</th>\n",
       "      <td>...</td>\n",
       "      <td>...</td>\n",
       "      <td>...</td>\n",
       "      <td>...</td>\n",
       "    </tr>\n",
       "    <tr>\n",
       "      <th>879153</th>\n",
       "      <td>137902</td>\n",
       "      <td>M</td>\n",
       "      <td>0</td>\n",
       "      <td>chordtone</td>\n",
       "    </tr>\n",
       "    <tr>\n",
       "      <th>879154</th>\n",
       "      <td>137903</td>\n",
       "      <td>Mm7</td>\n",
       "      <td>4</td>\n",
       "      <td>chordtone</td>\n",
       "    </tr>\n",
       "    <tr>\n",
       "      <th>879155</th>\n",
       "      <td>137903</td>\n",
       "      <td>Mm7</td>\n",
       "      <td>0</td>\n",
       "      <td>unknown</td>\n",
       "    </tr>\n",
       "    <tr>\n",
       "      <th>879156</th>\n",
       "      <td>137903</td>\n",
       "      <td>Mm7</td>\n",
       "      <td>0</td>\n",
       "      <td>unknown</td>\n",
       "    </tr>\n",
       "    <tr>\n",
       "      <th>879157</th>\n",
       "      <td>137903</td>\n",
       "      <td>Mm7</td>\n",
       "      <td>-2</td>\n",
       "      <td>unknown</td>\n",
       "    </tr>\n",
       "  </tbody>\n",
       "</table>\n",
       "<p>879158 rows × 4 columns</p>\n",
       "</div>"
      ],
      "text/plain": [
       "        chordid label  fifth       type\n",
       "0             0     m      0  chordtone\n",
       "1             0     m      0  chordtone\n",
       "2             0     m      0  chordtone\n",
       "3             1     M      4  chordtone\n",
       "4             2     m     -3  chordtone\n",
       "...         ...   ...    ...        ...\n",
       "879153   137902     M      0  chordtone\n",
       "879154   137903   Mm7      4  chordtone\n",
       "879155   137903   Mm7      0    unknown\n",
       "879156   137903   Mm7      0    unknown\n",
       "879157   137903   Mm7     -2    unknown\n",
       "\n",
       "[879158 rows x 4 columns]"
      ]
     },
     "execution_count": 22,
     "metadata": {},
     "output_type": "execute_result"
    }
   ],
   "source": [
    "all_chords = get_chords_from_files(pieces)\n",
    "all_chords"
   ]
  },
  {
   "cell_type": "code",
   "execution_count": 23,
   "metadata": {},
   "outputs": [
    {
     "ename": "AttributeError",
     "evalue": "'DataFrame' object has no attribute 'globalkey'",
     "output_type": "error",
     "traceback": [
      "\u001b[0;31m---------------------------------------------------------------------------\u001b[0m",
      "\u001b[0;31mAttributeError\u001b[0m                            Traceback (most recent call last)",
      "\u001b[0;32m<ipython-input-23-1efd5c4e60f3>\u001b[0m in \u001b[0;36m<module>\u001b[0;34m\u001b[0m\n\u001b[0;32m----> 1\u001b[0;31m \u001b[0mget_chords_from_piece\u001b[0m\u001b[0;34m(\u001b[0m\u001b[0;34m'dcml_corpora/annotations/Chopin-Mazurkas/'\u001b[0m\u001b[0;34m,\u001b[0m \u001b[0;34m'BI18op68-2'\u001b[0m\u001b[0;34m)\u001b[0m\u001b[0;34m\u001b[0m\u001b[0;34m\u001b[0m\u001b[0m\n\u001b[0m",
      "\u001b[0;32m<ipython-input-8-790fc7846fbc>\u001b[0m in \u001b[0;36mget_chords_from_piece\u001b[0;34m(folder, file, id_offset)\u001b[0m\n\u001b[1;32m      1\u001b[0m \u001b[0;32mdef\u001b[0m \u001b[0mget_chords_from_piece\u001b[0m\u001b[0;34m(\u001b[0m\u001b[0mfolder\u001b[0m\u001b[0;34m,\u001b[0m \u001b[0mfile\u001b[0m\u001b[0;34m,\u001b[0m \u001b[0mid_offset\u001b[0m\u001b[0;34m=\u001b[0m\u001b[0;36m0\u001b[0m\u001b[0;34m)\u001b[0m\u001b[0;34m:\u001b[0m\u001b[0;34m\u001b[0m\u001b[0;34m\u001b[0m\u001b[0m\n\u001b[1;32m      2\u001b[0m     \u001b[0mnotes\u001b[0m\u001b[0;34m,\u001b[0m \u001b[0mharmonies\u001b[0m \u001b[0;34m=\u001b[0m \u001b[0mload_dfs\u001b[0m\u001b[0;34m(\u001b[0m\u001b[0mfolder\u001b[0m\u001b[0;34m,\u001b[0m \u001b[0mfile\u001b[0m\u001b[0;34m)\u001b[0m\u001b[0;34m\u001b[0m\u001b[0;34m\u001b[0m\u001b[0m\n\u001b[0;32m----> 3\u001b[0;31m     \u001b[0;32mreturn\u001b[0m \u001b[0mget_chords\u001b[0m\u001b[0;34m(\u001b[0m\u001b[0mnotes\u001b[0m\u001b[0;34m,\u001b[0m \u001b[0mharmonies\u001b[0m\u001b[0;34m,\u001b[0m \u001b[0mid_offset\u001b[0m\u001b[0;34m)\u001b[0m\u001b[0;34m\u001b[0m\u001b[0;34m\u001b[0m\u001b[0m\n\u001b[0m",
      "\u001b[0;32m<ipython-input-7-4d2460bab5bc>\u001b[0m in \u001b[0;36mget_chords\u001b[0;34m(notes, harmonies, id_offset)\u001b[0m\n\u001b[1;32m      1\u001b[0m \u001b[0;32mdef\u001b[0m \u001b[0mget_chords\u001b[0m\u001b[0;34m(\u001b[0m\u001b[0mnotes\u001b[0m\u001b[0;34m,\u001b[0m \u001b[0mharmonies\u001b[0m\u001b[0;34m,\u001b[0m \u001b[0mid_offset\u001b[0m\u001b[0;34m=\u001b[0m\u001b[0;36m0\u001b[0m\u001b[0;34m)\u001b[0m\u001b[0;34m:\u001b[0m\u001b[0;34m\u001b[0m\u001b[0;34m\u001b[0m\u001b[0m\n\u001b[0;32m----> 2\u001b[0;31m     \u001b[0mkey\u001b[0m \u001b[0;34m=\u001b[0m \u001b[0mfm\u001b[0m\u001b[0;34m.\u001b[0m\u001b[0mname2tpc\u001b[0m\u001b[0;34m(\u001b[0m\u001b[0mharmonies\u001b[0m\u001b[0;34m.\u001b[0m\u001b[0mglobalkey\u001b[0m\u001b[0;34m[\u001b[0m\u001b[0;36m0\u001b[0m\u001b[0;34m]\u001b[0m\u001b[0;34m)\u001b[0m\u001b[0;34m\u001b[0m\u001b[0;34m\u001b[0m\u001b[0m\n\u001b[0m\u001b[1;32m      3\u001b[0m \u001b[0;34m\u001b[0m\u001b[0m\n\u001b[1;32m      4\u001b[0m     \u001b[0mchordids\u001b[0m \u001b[0;34m=\u001b[0m \u001b[0mnp\u001b[0m\u001b[0;34m.\u001b[0m\u001b[0mempty\u001b[0m\u001b[0;34m(\u001b[0m\u001b[0;36m0\u001b[0m\u001b[0;34m,\u001b[0m \u001b[0mdtype\u001b[0m\u001b[0;34m=\u001b[0m\u001b[0mint\u001b[0m\u001b[0;34m)\u001b[0m\u001b[0;34m\u001b[0m\u001b[0;34m\u001b[0m\u001b[0m\n\u001b[1;32m      5\u001b[0m     \u001b[0mlabels\u001b[0m   \u001b[0;34m=\u001b[0m \u001b[0mnp\u001b[0m\u001b[0;34m.\u001b[0m\u001b[0mempty\u001b[0m\u001b[0;34m(\u001b[0m\u001b[0;36m0\u001b[0m\u001b[0;34m,\u001b[0m \u001b[0mdtype\u001b[0m\u001b[0;34m=\u001b[0m\u001b[0mstr\u001b[0m\u001b[0;34m)\u001b[0m\u001b[0;34m\u001b[0m\u001b[0;34m\u001b[0m\u001b[0m\n",
      "\u001b[0;32m~/dateien/dev/python/harmony-model/env/lib/python3.8/site-packages/pandas/core/generic.py\u001b[0m in \u001b[0;36m__getattr__\u001b[0;34m(self, name)\u001b[0m\n\u001b[1;32m   5272\u001b[0m             \u001b[0;32mif\u001b[0m \u001b[0mself\u001b[0m\u001b[0;34m.\u001b[0m\u001b[0m_info_axis\u001b[0m\u001b[0;34m.\u001b[0m\u001b[0m_can_hold_identifiers_and_holds_name\u001b[0m\u001b[0;34m(\u001b[0m\u001b[0mname\u001b[0m\u001b[0;34m)\u001b[0m\u001b[0;34m:\u001b[0m\u001b[0;34m\u001b[0m\u001b[0;34m\u001b[0m\u001b[0m\n\u001b[1;32m   5273\u001b[0m                 \u001b[0;32mreturn\u001b[0m \u001b[0mself\u001b[0m\u001b[0;34m[\u001b[0m\u001b[0mname\u001b[0m\u001b[0;34m]\u001b[0m\u001b[0;34m\u001b[0m\u001b[0;34m\u001b[0m\u001b[0m\n\u001b[0;32m-> 5274\u001b[0;31m             \u001b[0;32mreturn\u001b[0m \u001b[0mobject\u001b[0m\u001b[0;34m.\u001b[0m\u001b[0m__getattribute__\u001b[0m\u001b[0;34m(\u001b[0m\u001b[0mself\u001b[0m\u001b[0;34m,\u001b[0m \u001b[0mname\u001b[0m\u001b[0;34m)\u001b[0m\u001b[0;34m\u001b[0m\u001b[0;34m\u001b[0m\u001b[0m\n\u001b[0m\u001b[1;32m   5275\u001b[0m \u001b[0;34m\u001b[0m\u001b[0m\n\u001b[1;32m   5276\u001b[0m     \u001b[0;32mdef\u001b[0m \u001b[0m__setattr__\u001b[0m\u001b[0;34m(\u001b[0m\u001b[0mself\u001b[0m\u001b[0;34m,\u001b[0m \u001b[0mname\u001b[0m\u001b[0;34m:\u001b[0m \u001b[0mstr\u001b[0m\u001b[0;34m,\u001b[0m \u001b[0mvalue\u001b[0m\u001b[0;34m)\u001b[0m \u001b[0;34m->\u001b[0m \u001b[0;32mNone\u001b[0m\u001b[0;34m:\u001b[0m\u001b[0;34m\u001b[0m\u001b[0;34m\u001b[0m\u001b[0m\n",
      "\u001b[0;31mAttributeError\u001b[0m: 'DataFrame' object has no attribute 'globalkey'"
     ]
    }
   ],
   "source": [
    "get_chords_from_piece('dcml_corpora/annotations/Chopin-Mazurkas/', 'BI18op68-2')"
   ]
  },
  {
   "cell_type": "code",
   "execution_count": 24,
   "metadata": {},
   "outputs": [],
   "source": [
    "all_chords.to_csv('data/dcml_harmonies.tsv', sep='\\t', index=False)"
   ]
  },
  {
   "cell_type": "code",
   "execution_count": 87,
   "metadata": {},
   "outputs": [
    {
     "data": {
      "text/plain": [
       "filename  _id\n",
       "op39n08   0      1/16\n",
       "          1      1/16\n",
       "          2       1/8\n",
       "          3       1/8\n",
       "          4       1/8\n",
       "                 ... \n",
       "          757      19\n",
       "          758      19\n",
       "          759      19\n",
       "          760      19\n",
       "          761      19\n",
       "Name: onset, Length: 762, dtype: object"
      ]
     },
     "execution_count": 87,
     "metadata": {},
     "output_type": "execute_result"
    }
   ],
   "source": [
    "notes_dbg = fm.read_tsvs('dcml_corpora/annotations/Schumann-Liederkreis_op39/notes/', ['op39n08'])\n",
    "measures_dbg = fm.read_tsvs('dcml_corpora/annotations/Schumann-Liederkreis_op39/measures/', ['op39n08'])\n",
    "total_onsets(notes_dbg, measures_dbg)"
   ]
  },
  {
   "cell_type": "code",
   "execution_count": 75,
   "metadata": {},
   "outputs": [
    {
     "data": {
      "text/plain": [
       "filename  _id\n",
       "op39n08   0      <NA>\n",
       "          1      <NA>\n",
       "          2      <NA>\n",
       "          3      <NA>\n",
       "          4      <NA>\n",
       "                 ... \n",
       "          757    <NA>\n",
       "          758    <NA>\n",
       "          759      -1\n",
       "          760    <NA>\n",
       "          761      -1\n",
       "Name: tied, Length: 762, dtype: Int64"
      ]
     },
     "execution_count": 75,
     "metadata": {},
     "output_type": "execute_result"
    }
   ],
   "source": [
    "df_dbg.tied"
   ]
  },
  {
   "cell_type": "code",
   "execution_count": null,
   "metadata": {},
   "outputs": [],
   "source": []
  },
  {
   "cell_type": "code",
   "execution_count": null,
   "metadata": {},
   "outputs": [],
   "source": []
  }
 ],
 "metadata": {
  "@webio": {
   "lastCommId": null,
   "lastKernelId": null
  },
  "kernelspec": {
   "display_name": "harmony-model",
   "language": "python",
   "name": "harmony-model"
  },
  "language_info": {
   "codemirror_mode": {
    "name": "ipython",
    "version": 3
   },
   "file_extension": ".py",
   "mimetype": "text/x-python",
   "name": "python",
   "nbconvert_exporter": "python",
   "pygments_lexer": "ipython3",
   "version": "3.8.5"
  }
 },
 "nbformat": 4,
 "nbformat_minor": 4
}
