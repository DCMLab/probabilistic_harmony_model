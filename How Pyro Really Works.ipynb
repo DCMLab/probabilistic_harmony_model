{
 "cells": [
  {
   "cell_type": "markdown",
   "metadata": {},
   "source": [
    "# How Pyro Really Works\n",
    "\n",
    "## or How to Write Yourself a Probabilistic Programming Framwork\n",
    "## or Please Try This at Home\n",
    "\n",
    "Ever wondered how pyro (or probabilistic programming in general) really works? How does it do variational inference, and what is that in the first place? It's conceptually simpler than one might think, because it follows from the combination of a handful of rather simple ideas. In this tutorial we will look at each of them in turn."
   ]
  },
  {
   "cell_type": "markdown",
   "metadata": {},
   "source": [
    "## 0. Joint, Marginal, and Conditional Distributions\n",
    "\n",
    "#### Summary:\n",
    "\n",
    "- If we have a *joint distribution* ($p(A,B)$),\n",
    "  we can express *marginal* ($p(A)$) and *conditional distributions* $p(A \\mid B)$ based on the joint distribution\n",
    "- Conversely, joint distributions can always be *factorized* into a product of conditional and marginal distributions\n",
    "  $$ p(A,B) = p(A \\mid B) p(B) $$\n",
    "- Sampling the variables in some order gives rise to a factorization\n",
    "  $$ p(x_1, \\ldots, x_n) = \\prod_i p(x_i \\mid x_1, \\ldots x_{i-1}) $$\n",
    "  and describes a *generative process*.\n",
    "\n",
    "### Basics\n",
    "\n",
    "Probability distributions may be defined on several random variables (RVs), e.g. $A$, $B$, and $C$. The distribution over all variables $p(A,B,C)$ is called the *joint distribution*, which is normalized such that the sum over all possible RV assignments is 1. (In the continuous case, we integrate instead of summing.)\n",
    "\n",
    "The *marginal distribution* of a subset of the RVs is obtained from the joint distribution by summing (or integrating) over all remaining variables. for example\n",
    "$$ p(A) = \\sum_B \\sum_C p(A,B,C) $$\n",
    "and\n",
    "$$ p(A,B) = \\sum_C p(A,B,C) $$\n",
    "\n",
    "A *conditional distribution* is the distribution of some of the RVs given that other RVs are known to have a certain value, e.g. $p(A,B \\mid C=c)$.\n",
    "If the value of the known RV is arbitrary, we write $p(A,B \\mid C)$.\n",
    "If we are only interested in the distribution of some of the unknown RVs, we can again marginalize out the remaining unknown RVs, e.g.\n",
    "$$ p(A \\mid C) = \\sum_B p(A, B | C) $$\n",
    "\n",
    "We can obtain the conditional distribution from the joint distribution by fixing the value of the known RVs ($p(A,B,C=c)$).\n",
    "Since we now only look at a subset of the RV assignment (e.g. those in which $C=c$), we have to renormalize by the probability to have one of these assignments $p(C=c)$:\n",
    "$$ p(A,B \\mid C=c) = \\dfrac{p(A,B,C=c)}{p(C=c)}$$\n",
    "or more generally\n",
    "$$ p(A,B \\mid C) = \\dfrac{p(A,B,C)}{p(C)} $$\n",
    "\n",
    "### Factorizing a Joint Distribution\n",
    "\n",
    "From the above section it follows that every joint distribution can be factorized into simpler conditional and marginal distributions.\n",
    "For example, we can turn the previous equation around and obtain\n",
    "$$ p(A,B,C) = p(A,B \\mid C) p(C) $$\n",
    "\n",
    "Since $p(A,B \\mid C)$ can be understood as another joint distribution (of $A$ and $B$, given $C$), it can be factorized again (given $C$!), e.g.:\n",
    "$$ p(A,B \\mid C) = p(A \\mid B,C) p(B \\mid C) $$\n",
    "\n",
    "and consequently\n",
    "$$ p(A,B,C) = p(A,B \\mid C) p(C) = p(A \\mid B,C) p(B \\mid C) p(C). $$\n",
    "\n",
    "Note that the order in which we factor out variables doesn't matter, so the following is equivalent:\n",
    "$$ p(A,B,C) = p(B,C \\mid A) p(A) = p(B \\mid C,A) p(C \\mid A) p(A). $$\n",
    "\n",
    "We can understand any factorization as an ordering of the RVs when sampling from the joint distribution.\n",
    "Instead of sampling all of them together, we sample each RV from its conditional distribution, starting with the one that is sampled from its unconditional marginal distribution.\n",
    "For example, in the first factorization above ($p(A \\mid B,C) p(B \\mid C) p(C)$, we first sample $C$ from $p(C)$, which doesn't depend on any of the other RVs.\n",
    "Then, knowing the value $c$ of $C$, we can sample $B$ from $p(B \\mid C=c)$, and finally (knowing $B=b$ and $C=c$) we can sample $A$ from $p(A \\mid B=b, C=c)$.\n",
    "Thus we have turned the joint distribution $p(A,B,C)$ into a *generative process* that produces each RV in turn.\n",
    "\n",
    "### Exercises\n",
    "\n",
    "1. Given the joint distribution $p(A,B,C,D)$, what is the marginal distribution $p(A,C)$?\n",
    "1. Given the same joint distribution $p(A,B,C,D)$, what is the conditional distribution $p(A,B | C)$?\n",
    "   Express it only using the joint distribution.\n",
    "1. Let $p(X,Y,Z) = p(Z \\mid X,Y) p(X) p(Y)$. What is $p(X \\mid Y$? What is $p(Y \\mid Z, X)$?"
   ]
  },
  {
   "cell_type": "markdown",
   "metadata": {},
   "source": [
    "## 1. Bayesian Inference\n",
    "\n",
    "#### Summary\n",
    "\n",
    "- Bayesian models are defined by a *joint distribution* $p(X,Z)$\n",
    "  over observed ($X$) and unobserved variables ($Z$).\n",
    "- Bayesian inference is computing the *posterior distribution* $p(Z \\mid X)$.\n",
    "- Sometimes, the joint distribution is given as factorized into a *likelihood* $p(X \\mid Z)$ and a *prior* $p(Z)$.\n",
    "\n",
    "### Bayesian Models\n",
    "\n",
    "Bayesian inference builds on the \"bayesian\" interpretation of probabilities as talking about the plausibility of statements.\n",
    "BI starts from the assumption that we can define a joint *plausibility distribution* over observed ($X$) and unobserved variables ($Z$): $p(X,Z)$, which assings a plausibility $p(X=x, Z=z)$ to any particular instantiation of $X$ and $Z$.\n",
    "Doing *inference* means to asses the plausibility of latent variable assignments, given that the observed variables take some (observed) value: $p(Z \\mid X=x)$.\n",
    "\n",
    "#### Example\n",
    "\n",
    "While the above may sound very abstract, a common situation in which it is useful is when we have a probabilistic model (i.e. a probability distribution) of some data $d$, i.e. a distribution so that we can interpret the data $d$ as sampled from a random variable $D$.\n",
    "Our distribution over $D$ has some parameters $\\theta$, so we can write it as $p_\\theta(D)$.\n",
    "If we change $\\theta$, we change the distribution.\n",
    "\n",
    "Now we want a good value for $\\theta$.\n",
    "Since the distribution is suppose to \"model\" the data, we want $\\theta$ to be chosen such that $D=d$ has a very high probability under $p_\\theta$.\n",
    "In other words, we want to maximize the function $\\theta \\to p_\\theta(D=d)$.\n",
    "This function is called the *likelihood function* and the optimal value for $\\theta$ is called the *maximum likelihood estimate* (MLE).\n",
    "\n",
    "While we know that the MLE is the \"best\" value of $\\theta$ given $d$, we don't really know how it compares to other possible values, i.e. *how* good it really is.\n",
    "In other words, we want to know how *plausible* it is that some value of $\\theta$ is the \"true\" $\\theta$ that was used to generate the data.\n",
    "We can quantify the plausibility of different $\\theta$ values as a plausibility distribution $p(\\theta \\mid D=d)$.\n",
    "Note the similarity to the general description of bayesian inference above, where we look for $p(Z \\mid X=x)$.\n",
    "Just like in the case above we can derive $p(Z \\mid X=x)$ from $p(X,Z)$, we can now derive $p(\\theta \\mid D=d)$ from the joint distribution $p(D, \\theta)$.\n",
    "This joint distribution describes the plausibility of certain values of $\\theta$ and $D$ occurring together.\n",
    "\n",
    "---\n",
    "\n",
    "#### Definition\n",
    "\n",
    "A **bayesian model** is defined by a joint distribution $p(X,Z)$ over *unobserved (/hidden/latent) variables* $Z$ (e.g. model parameters) and *observed variables* $X$.\n",
    "\n",
    "**Bayesian inference** is about infering a plausibility distribution over the $Z$ given observed values for the $X$: $p(Z \\mid X=x)$.\n",
    "This distribution is called the *posterior distribution*, because it expresses our beliefs about the latent variables *after* knowing the values of the observed variable.\n",
    "\n",
    "---\n",
    "\n",
    "### Inference in Bayesian Models\n",
    "\n",
    "How can we compute $p(Z \\mid X=x)$?\n",
    "We know from the definition of conditional probability that\n",
    "$$ p(Z \\mid X=x) = \\dfrac{p(X,Z)}{p(X)}, $$\n",
    "so we can in principle derive the posterior distribution from the joint distribution.\n",
    "But where does the join distribution come from?\n",
    "\n",
    "Remember that, in many cases, we know (or assume to know) the likelihood, i.e. $p(X \\mid Z)$.\n",
    "We also know that the likelihood relates to the joint distribution by\n",
    "$$ p(X,Z) = p(X \\mid Z) p(Z), $$\n",
    "i.e. the joint distribution *factorizes* into the likelihood and the *prior distribution*,\n",
    "the marginal distribution of the hidden variables.\n",
    "\n",
    "What is the prior distribution?\n",
    "We know that it is the marginal distribution of $Z$, so we can interpret it as describing the plausibility of values for $Z$ given that $X$ could take *any* values (we even sum/integrate over all values for $X$).\n",
    "In other words, $p(Z)$ expresses our beliefs about $Z$ irrespective of $X$, i.e. *before* observing $X$.\n",
    "If we can somehow encode our prior beliefs about $Z$ as a distribution, we can combine it the likelihood to obtain a joint distribution.\n",
    "\n",
    "Combining the likelihood and the prior, we can make our formula for the posterior more precise:\n",
    "$$ p(Z \\mid X=x) = \\dfrac{p(X \\mid Z) p(Z)}{p(X=x)}, $$\n",
    "which is known as *Bayes' theorem*.\n",
    "The marginal probability of the data $p(X=x)$ is called *evidence* and serves to normalize the posterior when expressed in terms of prior and likelihood.\n",
    "While it is often impossible to compute the evidence (because it requires summing/integrating over all $Z$),\n",
    "it is constant for a given dataset ($X=x$), so we might want to write the posterior as\n",
    "$$ p(Z \\mid X=x) \\propto p(X \\mid Z) p(Z). $$\n",
    "\n",
    "#### Side Remark\n",
    "\n",
    "Bayesian inference is often introduced in terms of Bayes' theorem, i.e. distinguishing likelihood and prior,\n",
    "this is just special case.\n",
    "Generally, what is required is only a joint distribution.\n",
    "Since we often know the likelihood and can construct reasonable priors, they just provide a convenient factorization of the joint distribution.\n",
    "\n",
    "### Exercises\n",
    "\n",
    "1. Show that Bayes' theorem follows directly from the possibility to factorize a joint distribution in different ways.\n",
    "2. You have a dataset of measurements $d = [3, 4.5, 5, 3.5]$.\n",
    "   You think that each data point is drawn independently from the same normal distribution with mean $\\mu$ and standard deviation $\\sigma = 1$,\n",
    "   i.e. $p(d) = \\prod_i p(d_i)$ where $d_i \\sim \\text{Normal}(\\mu, 1)$.\n",
    "   \n",
    "   What is the MLE for $\\mu$?\n",
    "   Derive a general formula as well as the MLE for above dataset.\n",
    "   Remember that the density function for the normal distribution is\n",
    "   $$ f(x) = \\dfrac{1}{\\sigma \\sqrt{\\tau}} e^{-\\dfrac{1}{2}\\left(\\dfrac{x-\\mu}{\\sigma}\\right)^2}. $$\n",
    "   Use the fact that maximizing $l(x)$ is the same as maximizing $\\log(l(x))$."
   ]
  },
  {
   "cell_type": "markdown",
   "metadata": {},
   "source": [
    "## 2. Probabilistic Programming 1: Writing Probabilistic Programs\n",
    "\n",
    "#### Summary\n",
    "\n",
    "- Any Python program that samples values defines a probability distribution.\n",
    "- We can obtain a sample from the distribution by running the program and tracking each randomly chosen value\n",
    "  using a `sample` function, which gives the value a name.\n",
    "- Each \"random value\" can be understood as an assignment of a random variable.\n",
    "\n",
    "### Wrting Probabilistic Programs\n",
    "\n",
    "The idea of probabilistic programming is to define a joint probability distribution over several RVs as a generative process, i.e. a programm that draws samples from the joint distribution.\n",
    "The advantage of this is that it's a lot easier to do and a lot more readble than defining a closed formula for the whole joint distribution.\n",
    "The disadvantage is that it it's much more difficult to perform analytic math on a program.\n",
    "FWIW, a program is something that we can execute but not much more, we can't really look inside.\n",
    "But let's first look at the advantages, we'll deal with the disadvantages later.\n",
    "\n",
    "Let's assume that we want to implement our own little probabilistic programming framework.\n",
    "What do we need?\n",
    "First of all, we need a way to write programs that produce some kind of output.\n",
    "Fortunately, programming languages are already very good at letting you write pograms.\n",
    "For example, we can use Python to write a function that computes and returns some kind of result:"
   ]
  },
  {
   "cell_type": "code",
   "execution_count": 1,
   "metadata": {},
   "outputs": [
    {
     "data": {
      "text/plain": [
       "20"
      ]
     },
     "execution_count": 1,
     "metadata": {},
     "output_type": "execute_result"
    }
   ],
   "source": [
    "def my_function():\n",
    "    x = 10\n",
    "    y = x*2\n",
    "    return y\n",
    "\n",
    "my_function()"
   ]
  },
  {
   "cell_type": "markdown",
   "metadata": {},
   "source": [
    "While the above function is a program that computes a deterministic value, a probabilistic program is a mix of deterministic computation and random sampling.\n",
    "For example, the following function flips a coin to determine whether `y` should be `x*2` or `x*3`."
   ]
  },
  {
   "cell_type": "code",
   "execution_count": 2,
   "metadata": {},
   "outputs": [],
   "source": [
    "import random\n",
    "\n",
    "def my_random_function(p=0.5):\n",
    "    x = 10\n",
    "    heads = random.random() < p\n",
    "    y = x*2 if heads else x*3\n",
    "    return y"
   ]
  },
  {
   "cell_type": "markdown",
   "metadata": {},
   "source": [
    "If we run this function several times, it will return different results, sometimes 20 and sometimes 30, depending on the result of the coin flip.\n",
    "We can look at the distribution over the result by running the programm several times and collecting the results:"
   ]
  },
  {
   "cell_type": "code",
   "execution_count": 3,
   "metadata": {},
   "outputs": [
    {
     "data": {
      "image/png": "[encoded data removed]",
      "text/plain": [
       "<Figure size 432x288 with 1 Axes>"
      ]
     },
     "metadata": {
      "needs_background": "light"
     },
     "output_type": "display_data"
    }
   ],
   "source": [
    "import matplotlib.pyplot as plt\n",
    "import numpy as np\n",
    "from collections import Counter\n",
    "\n",
    "results = [my_random_function() for i in range(100)]\n",
    "\n",
    "counts = Counter(results)\n",
    "plt.bar(counts.keys(), counts.values())\n",
    "plt.show()"
   ]
  },
  {
   "cell_type": "markdown",
   "metadata": {},
   "source": [
    "If we provide a different coin probability, the result distribution will be different as well:"
   ]
  },
  {
   "cell_type": "code",
   "execution_count": 4,
   "metadata": {},
   "outputs": [
    {
     "data": {
      "image/png": "[encoded data removed]",
      "text/plain": [
       "<Figure size 432x288 with 1 Axes>"
      ]
     },
     "metadata": {
      "needs_background": "light"
     },
     "output_type": "display_data"
    }
   ],
   "source": [
    "results = [my_random_function(0.1) for i in range(100)]\n",
    "\n",
    "counts = Counter(results)\n",
    "plt.bar(counts.keys(), counts.values())\n",
    "plt.show()"
   ]
  },
  {
   "cell_type": "markdown",
   "metadata": {},
   "source": [
    "Note that while the function returns `y`, which is randomly distributed,\n",
    "the actual sampling happens when we flip the coin, so we might want to say that `heads` is the actual random variable an `y` is just a deterministic transformation of it.\n",
    "However, since the only thing we can do with `my_random_function` is to execute it, we can't directly look at the distribution of `heads`.\n",
    "Let's change this by \"recording\" the value of `heads` every time we call `my_random_function`.\n",
    "\n",
    "We write a little helper function called `sample` that use to record the values we sampled for random variables.\n",
    "Just like we can use `print` to print any value as a side effect, we can use `sample` to record a random variable as a side effect.\n",
    "We store the RV values in a dictionary."
   ]
  },
  {
   "cell_type": "code",
   "execution_count": 5,
   "metadata": {},
   "outputs": [],
   "source": [
    "rv_dict = dict()\n",
    "\n",
    "def clear_rvs():\n",
    "    global rv_dict\n",
    "    rv_dict = dict()\n",
    "\n",
    "def sample(name, value):\n",
    "    rv_dict[name] = value\n",
    "    return value"
   ]
  },
  {
   "cell_type": "markdown",
   "metadata": {},
   "source": [
    "Now we adapt `my_random_function` to use `sample` to record the value of `heads`:"
   ]
  },
  {
   "cell_type": "code",
   "execution_count": 6,
   "metadata": {},
   "outputs": [
    {
     "name": "stdout",
     "output_type": "stream",
     "text": [
      "30\n",
      "{'heads': False}\n"
     ]
    }
   ],
   "source": [
    "def my_random_function(p=0.5):\n",
    "    x = 10\n",
    "    heads = sample(\"heads\", random.random() < p)\n",
    "    y = x*2 if heads else x*3\n",
    "    return y\n",
    "\n",
    "clear_rvs()\n",
    "result = my_random_function()\n",
    "print(result)\n",
    "print(rv_dict)"
   ]
  },
  {
   "cell_type": "markdown",
   "metadata": {},
   "source": [
    "As you can see, after running `my_random_function` again, the value of `heads` is recorded in `rv_dict` and the return value of `my_random_function` corresponds to the recorded value of heads.\n",
    "\n",
    "What if we want to record several RVs? We can do that too:"
   ]
  },
  {
   "cell_type": "code",
   "execution_count": 7,
   "metadata": {},
   "outputs": [
    {
     "data": {
      "text/plain": [
       "Counter({(False, True): 49,\n",
       "         (True, True): 11,\n",
       "         (False, False): 30,\n",
       "         (True, False): 10})"
      ]
     },
     "execution_count": 7,
     "metadata": {},
     "output_type": "execute_result"
    }
   ],
   "source": [
    "def flip_two_coins(p1=0.5, p2=0.5):\n",
    "    coin1 = sample(\"coin1\", random.random() < p1)\n",
    "    coin2 = sample(\"coin2\", random.random() < p2)\n",
    "\n",
    "results = []\n",
    "for i in range(100):\n",
    "    clear_rvs()              # clear the recorded values\n",
    "    flip_two_coins(0.2, 0.6) # record new values \n",
    "    results.append((rv_dict[\"coin1\"], rv_dict[\"coin2\"]))\n",
    "    \n",
    "counts = Counter(results)\n",
    "counts\n",
    "#plt.bar(counts.keys(), counts.values())"
   ]
  },
  {
   "cell_type": "markdown",
   "metadata": {},
   "source": [
    "Note that creating many samples from this distribution (as we do above) gives us an estimate of how the random variables are distributed.\n",
    "In this case, we get the approximate frequency of every possible variable assignment, which converges to the true probability of every variable assignment when the number of samples goes to infinity.\n",
    "Even in the continuous case we can get an estimate of the shape of the distribution by drawing many samples,\n",
    "but we would have to draw many more samples (depending on the complexity of the shape) and the number of possible configurations grows exponentially with the number of variables, so just sampling is not always a good solution.\n",
    "\n",
    "### Exercises\n",
    "\n",
    "1. Let's go bayesian! Write a probabilistic program that flips a coin with probability $p$,\n",
    "   but first samples the probability $p$ from a uniform distribution $\\text{U}(0,1)$.\n",
    "   Note how this defines a joint distribution over the parameter $p$ and the result of the coin.\n",
    "1. Extend your program to flip not just 1 coin but 100, each with probability $p$.\n",
    "   Make sure that each flipped coin is a recorded as a random variable.\n",
    "   How would you write the probability distribution for the sequence of coin flips mathematically?\n",
    "1. Write a more complex program that simulates how a chord is constructed from a profile.\n",
    "   First, sample the type of the chord $t$ from a categorical distribution over chord types.\n",
    "   Then sample a number of notes $n$ from a poisson distribution (add 1 to the value to avoid 0s).\n",
    "   Finally sample $n$ notes from a multinomial distribution with the weights that correspond to $h$.\n",
    "   The parameters (weights for $h$, rate for $n$ and weights for the notes for each $h$) are given as arguments to the function.\n",
    "1. Extend the previous program to also sample the parameters from a prior distribution.\n",
    "   (Hint: use Dirichlet priors for the weight vectors and a Gamma prior for the rate of the Poisson distribution)\n",
    "1. Extend the previous program to sample a flexible number of chords (provided as an argument)."
   ]
  },
  {
   "cell_type": "markdown",
   "metadata": {},
   "source": [
    "## 3. Probabilistic Programming 2: Evaluating Probabilities\n",
    "\n",
    "#### Summary\n",
    "\n",
    "- We want to be able to evaluate the probability of a given sample from the joint distribution.\n",
    "- We do that by introducing two new things:\n",
    "  - Random values are drawn from `Distribution`s which can\n",
    "    - generate a new random value and\n",
    "    - evaluate the probability of a given value.\n",
    "  - The `sample` function gets an additional interpretation that\n",
    "    - returns the given value of the RV and\n",
    "    - tracks that values local probability under the given distribution.\n",
    "- The joint probability of the sample is the product of all local probabilities.\n",
    "  - The local probabilities are conditional distributions\n",
    "  - The probabilistic program defines a factorization of the joint distribution into local conditional distributions.\n",
    "- Any probabilistic program written using `sample` and `Distributions` can be used to\n",
    "  - draw a sample\n",
    "  - evaluate the probability of a given sample\n",
    "  - despite containing arbitrary Python code with unknown control flow.\n",
    "- Drawing and evaluating samples is sufficient for inference.\n",
    "\n",
    "So far, we have defined a probability distribution implicitly as a program that produces samples from the distribution.\n",
    "We have also seen that by sampling a lot from this distribution, we can estimate it's shape.\n",
    "While this is already useful, it's not quite enough to make serious inference, especially for more complex models.\n",
    "There is one more thing that we need: In addition to sampling from the distribution, we also need to be able to evaluate the probability of a given sample.\n",
    "With these two things, we will be able to do pretty much everything we need for performing bayesian inference.\n",
    "(If it's not clear to you why, don't worry, it will be explained later).\n",
    "\n",
    "In their current form, our probabilistic programs are a bit too implicit to be used for evaluating the probability of a sample.\n",
    "However, we have already introduced a bit of structure by requiring random variables to be registered with the `sample` function.\n",
    "It turns out that if we add a tiny little bit more structure, we can do probability evaluation too,\n",
    "without changing our programs too much.\n",
    "\n",
    "The first thing we need to do is to combine the ability to *sample* a value for a RV with the ability to evaluate its *local probability*.\n",
    "Consider how we sampled the value of our coin in the prevous part:"
   ]
  },
  {
   "cell_type": "code",
   "execution_count": 8,
   "metadata": {},
   "outputs": [
    {
     "name": "stdout",
     "output_type": "stream",
     "text": [
      "{'heads': False}\n"
     ]
    }
   ],
   "source": [
    "def flip_coin(p=0.5):\n",
    "    sample(\"heads\", random.random() < p)\n",
    "\n",
    "clear_rvs()\n",
    "flip_coin()\n",
    "print(rv_dict)"
   ]
  },
  {
   "cell_type": "markdown",
   "metadata": {},
   "source": [
    "Note that for the RV \"heads\" we know exactly from which distribution we sample it.\n",
    "In this case, it's taken from a Bernoulli distribution.\n",
    "Since we know how we sample \"heads\", we also know the probability of each possible value of \"heads\":\n",
    "for `True` it's $p$ and for `False` it's $1-p$.\n",
    "\n",
    "Let's make this connection a bit more formal.\n",
    "We have an object (a probability distribution) that can do two things: provide a sample from it and evaluate the probability of a given sample.\n",
    "In python, we can express this idea using a class with two methods."
   ]
  },
  {
   "cell_type": "code",
   "execution_count": 9,
   "metadata": {},
   "outputs": [],
   "source": [
    "# abstract base class for distributions\n",
    "class Distribution:\n",
    "    \"Return a sample from the distribution.\"\n",
    "    def sample():\n",
    "        pass\n",
    "    \n",
    "    \"Return the log probability of a given sample from the distribution.\"\n",
    "    def log_p(value):\n",
    "        pass"
   ]
  },
  {
   "cell_type": "markdown",
   "metadata": {},
   "source": [
    "Note that the second method returns the log probability instead of the probability.\n",
    "The reason for this is that probabilities sometimes get very small and can become 0 due to representation errors.\n",
    "This doesn't happen so easily in log space,\n",
    "and it's trivial to obtain the log probability when the normal probability is known (and vice versa).\n",
    "\n",
    "We can now implement this class for the Bernoulli distribution that formalizes our coin flip."
   ]
  },
  {
   "cell_type": "code",
   "execution_count": 10,
   "metadata": {},
   "outputs": [
    {
     "name": "stdout",
     "output_type": "stream",
     "text": [
      "True\n",
      "p(True)  = 0.4\n",
      "p(False) = 0.6\n"
     ]
    }
   ],
   "source": [
    "class Bernoulli(Distribution):\n",
    "    def __init__(self, p):\n",
    "        self.p = p\n",
    "    \n",
    "    def sample(self):\n",
    "        return random.random() < self.p\n",
    "    \n",
    "    def log_p(self, heads):\n",
    "        return np.log(self.p if heads else 1-self.p)\n",
    "\n",
    "coin = Bernoulli(0.4)\n",
    "print(coin.sample())\n",
    "print(\"p(True)  =\", np.exp(coin.log_p(True)))\n",
    "print(\"p(False) =\", np.exp(coin.log_p(False)))"
   ]
  },
  {
   "cell_type": "markdown",
   "metadata": {},
   "source": [
    "Now that we have a way to express primitive distributions that can be used for both sampling and evaluating the log probability, we require our probabilistic programs to use them.\n",
    "Let's change the definition of `sample` to take a distribution object and `.sample()` from it:"
   ]
  },
  {
   "cell_type": "code",
   "execution_count": 11,
   "metadata": {},
   "outputs": [],
   "source": [
    "def sample(name, dist):\n",
    "    value = dist.sample()\n",
    "    rv_dict[name] = value\n",
    "    return value"
   ]
  },
  {
   "cell_type": "markdown",
   "metadata": {},
   "source": [
    "Of course, we also have to change our program to make use of the `Bernoulli` distribution and the new way `sample` works:"
   ]
  },
  {
   "cell_type": "code",
   "execution_count": 12,
   "metadata": {},
   "outputs": [
    {
     "name": "stdout",
     "output_type": "stream",
     "text": [
      "{'heads': False}\n"
     ]
    }
   ],
   "source": [
    "def flip_coin(p):\n",
    "    sample(\"heads\", Bernoulli(p))\n",
    "\n",
    "clear_rvs()\n",
    "flip_coin(0.4)\n",
    "print(rv_dict)"
   ]
  },
  {
   "cell_type": "markdown",
   "metadata": {},
   "source": [
    "Works like a charm.\n",
    "\n",
    "We still can't make use of the `log_p` method to evaluate the probability of a value for \"heads\".\n",
    "However, since we require using `sample` to track random variables, we already have access to the place where RVs and distributions meet.\n",
    "We could in principle write a different `sample` function that doesn't actually sample and record a fresh value for some RV, but instead looks up the value from a table that we provide beforehand and records it's log probability under the distribution that is provided!"
   ]
  },
  {
   "cell_type": "code",
   "execution_count": 13,
   "metadata": {},
   "outputs": [],
   "source": [
    "known_values = {}\n",
    "recorded_probs = {}\n",
    "\n",
    "def clear_recorded_probs():\n",
    "    global recorded_probs\n",
    "    recorded_probs = {}\n",
    "\n",
    "# our reimplementation of sample that evaluates probabilities\n",
    "def sample(name, dist):\n",
    "    value = known_values[name]\n",
    "    recorded_probs[name] = dist.log_p(value)\n",
    "    return value"
   ]
  },
  {
   "cell_type": "markdown",
   "metadata": {},
   "source": [
    "If we set `known_values` to contain values for all RVs and run our model again, we should now be able to obtain the local probabilities for each RV."
   ]
  },
  {
   "cell_type": "code",
   "execution_count": 14,
   "metadata": {},
   "outputs": [
    {
     "name": "stdout",
     "output_type": "stream",
     "text": [
      "p(heads = True)  = 0.4\n",
      "p(heads = False) = 0.6\n"
     ]
    }
   ],
   "source": [
    "# run the model for 'heads' = True\n",
    "known_values = {'heads': True}\n",
    "clear_recorded_probs()\n",
    "flip_coin(0.4)\n",
    "print(\"p(heads = True)  =\", np.exp(recorded_probs['heads']))\n",
    "\n",
    "# run the model for 'heads' = False\n",
    "known_values = {'heads': False}\n",
    "clear_recorded_probs()\n",
    "flip_coin(0.4)\n",
    "print(\"p(heads = False) =\", np.exp(recorded_probs['heads']))"
   ]
  },
  {
   "cell_type": "markdown",
   "metadata": {},
   "source": [
    "It's still a bit inconvenient that we have to redefine `sample` depending on whether we want to sample or to evaluate.\n",
    "Ideally, we should be able to abstract over the interpretation of `sample`.\n",
    "For example, we can make it look it's functionality up in a variable that we can change to \"sample\" or \"evaluate\" or some other actual interpretation."
   ]
  },
  {
   "cell_type": "code",
   "execution_count": 15,
   "metadata": {},
   "outputs": [],
   "source": [
    "sample_function = None\n",
    "\n",
    "def sample(name, dist):\n",
    "    return sample_function(name, dist)\n",
    "\n",
    "# implementation of \"sample\" that samples and records a value (standard interpretation)\n",
    "def sample_sample(name, dist):\n",
    "    value = dist.sample()\n",
    "    rv_dict[name] = value\n",
    "    return value\n",
    "\n",
    "# implementation of \"sample\" that returns the already know value for a RV and records its local probability\n",
    "def sample_eval(name, dist):\n",
    "    value = known_values[name]\n",
    "    recorded_probs[name] = dist.log_p(value)\n",
    "    return value\n",
    "\n",
    "# we set sample_function to be sample_sample by default\n",
    "sample_function = sample_sample"
   ]
  },
  {
   "cell_type": "markdown",
   "metadata": {},
   "source": [
    "Now we can freely change the interpretation `sample` to draw samples or evaluate probabilities:"
   ]
  },
  {
   "cell_type": "code",
   "execution_count": 16,
   "metadata": {},
   "outputs": [
    {
     "name": "stdout",
     "output_type": "stream",
     "text": [
      "{'heads': False}\n",
      "{'heads': -0.916290731874155}\n"
     ]
    }
   ],
   "source": [
    "# draw a sample\n",
    "clear_rvs()\n",
    "\n",
    "sample_function = sample_sample\n",
    "flip_coin(0.4)\n",
    "\n",
    "print(rv_dict)\n",
    "\n",
    "# evaluate a sample\n",
    "known_values = {'heads': True}\n",
    "clear_recorded_probs()\n",
    "\n",
    "sample_function = sample_eval\n",
    "flip_coin(0.4)\n",
    "\n",
    "print(recorded_probs) #print the log probs for all RVs"
   ]
  },
  {
   "cell_type": "markdown",
   "metadata": {},
   "source": [
    "Since this is a bit fragile (we could forget to set the correct sample function),\n",
    "let's put the sampling and evaluation procedures into their own functions.\n",
    "To each of these functions we can pass the model and its arguments and it will wrap a call to the model with the necessary setup and teardown.\n",
    "(A more elegant way would be to use `with` statements, which is what pyro does, but functions will do fine here.)"
   ]
  },
  {
   "cell_type": "code",
   "execution_count": 17,
   "metadata": {},
   "outputs": [],
   "source": [
    "def run_model(model, *args, **kwargs):\n",
    "    \"\"\"Runs `model(*args, **kwargs)` in sampling mode.\n",
    "    \n",
    "    Returns the sampled random variables.\n",
    "    \"\"\"\n",
    "    clear_rvs()\n",
    "    global sample_function\n",
    "    sample_function = sample_sample\n",
    "    model(*args, **kwargs)\n",
    "    return rv_dict\n",
    "\n",
    "def eval_model(model, observed, *args, **kwargs):\n",
    "    \"\"\"Runs `model(*args, **kwargs)` in evaluation mode with `observed` as the variable assignment.\n",
    "    \n",
    "    Returns the local probabilities of the random variables.\n",
    "    \"\"\"\n",
    "    clear_recorded_probs()\n",
    "    global sample_function\n",
    "    sample_function = sample_eval\n",
    "    global known_values\n",
    "    known_values = observed\n",
    "    model(*args, **kwargs)\n",
    "    return recorded_probs"
   ]
  },
  {
   "cell_type": "markdown",
   "metadata": {},
   "source": [
    "We can run the same experiment as above but this time it's a lot shorter and we can't make a mistake so easily."
   ]
  },
  {
   "cell_type": "code",
   "execution_count": 18,
   "metadata": {},
   "outputs": [
    {
     "name": "stdout",
     "output_type": "stream",
     "text": [
      "{'heads': True}\n",
      "{'heads': -0.916290731874155}\n"
     ]
    }
   ],
   "source": [
    "# sample\n",
    "rvs = run_model(flip_coin, 0.4)\n",
    "print(rvs)\n",
    "\n",
    "# evaluate\n",
    "probs = eval_model(flip_coin, {'heads': True}, 0.4)\n",
    "print(probs)"
   ]
  },
  {
   "cell_type": "markdown",
   "metadata": {},
   "source": [
    "Let's try the same for a more complex model.\n",
    "We flip two coins, but the probability of the second depends on the outcome of the first.\n",
    "Fortunately, `sample_eval` returns the observed value for the first coin, the when running the model with observed values, it will choose the correct probability parameters for the second coin, just as if the value of the first coin would have been sampled randomly!\n",
    "\n",
    "We can try this out by first drawing a sample and then evaluating the probability of that sample."
   ]
  },
  {
   "cell_type": "code",
   "execution_count": 19,
   "metadata": {},
   "outputs": [
    {
     "name": "stdout",
     "output_type": "stream",
     "text": [
      "{'coin1': True, 'coin2': True}\n",
      "{'coin1': 0.5, 'coin2': 0.8}\n"
     ]
    }
   ],
   "source": [
    "# our shiny two-coin model\n",
    "def flip_two_coins():\n",
    "    coin1 = sample('coin1', Bernoulli(0.5))\n",
    "    coin2 = sample('coin2', Bernoulli(0.8 if coin1 else 0.2))\n",
    "\n",
    "# draw a sample\n",
    "rvs = run_model(flip_two_coins)\n",
    "print(rvs)\n",
    "\n",
    "# evaluate the sample\n",
    "probs = eval_model(flip_two_coins, rvs) # take the sample from the previous run\n",
    "print({name: np.exp(prob) for (name,prob) in probs.items()})"
   ]
  },
  {
   "cell_type": "markdown",
   "metadata": {},
   "source": [
    "Note how the probability of the second coin is evaluated correctly wrt. the first coin!\n",
    "That's because when the model is run again, it picks the parameters for the second Bernoulli distribution according to the observed value of the first coin.\n",
    "The second `sample` call therefore is given the Bernoulli distribution with the correct parameters and can evaluate the probability of the second coin's value correctly.\n",
    "\n",
    "Congratulations, you have now implemented a probabilistic programming language!\n",
    "We already have everything we need to sample from and evaluate samples under joint distributions that are defined as arbitrary Python programs.\n",
    "As long as the actual random decisions are made using `sample` and from a `Distribution`, the remainder of the model can be arbitrary Python code.\n",
    "In fact, `sample` and `Distribution`s are the only \"language\" constructs we needed to add to ordinary Python for writing models.\n",
    "All the inference stuff can now be done outside of the models in a generic, model-independent way.\n",
    "\n",
    "\"But wait,\" you might object \"we only computed the 'local probability' of each RV, not the joint probability of the whole assignment! And what is that 'local probability' even supposed to mean?\"\n",
    "It turns out that the local probablities are all we need to compute the joint probability of the assignment.\n",
    "All we have to do is to multiply them (or rather sum the log probabilities and take the exponential)."
   ]
  },
  {
   "cell_type": "code",
   "execution_count": 20,
   "metadata": {},
   "outputs": [
    {
     "name": "stdout",
     "output_type": "stream",
     "text": [
      "p(coin1 = True , coin2 = True ) =  0.4\n"
     ]
    }
   ],
   "source": [
    "def joint_log_p(rv_log_probs):\n",
    "    return sum(rv_log_probs.values())\n",
    "\n",
    "prob = np.exp(joint_log_p(probs))\n",
    "print(\"p(coin1 =\", rvs['coin1'], \", coin2 =\", rvs['coin2'], \") = \", prob) "
   ]
  },
  {
   "cell_type": "markdown",
   "metadata": {},
   "source": [
    "Why does this work?\n",
    "\n",
    "Remember that any joint probability distribution can be turned into a generative process by factorizing it into a sequence of conditional distributions.\n",
    "For example $p(A,B,C)$ can be factorized into $p(A) p(B \\mid A) p(C \\mid A, B)$,\n",
    "which corresponds to a process that first samples $A$ then, $B$ given $A$, and finally $C$ given $A$ and $B$.\n",
    "\n",
    "A probabilistic program is exactly such a factorization, corresponding to the order in which the RVs are sampled in the program.\n",
    "For example, the model `flip_two_coins` first samples `coin1` from $p(\\text{coin1})$ and then `coin2` from $p(\\text{coin2} \\mid \\text{coin1})$,\n",
    "and we know that $p(\\text{coin1}) p(\\text{coin2} \\mid \\text{coin1}) = p(\\text{coin1}, \\text{coin2})$.\n",
    "Now we can see that the \"local probability\" of a RV actually is the *conditional probability* of that RV given all the RVs that were sampled before!\n",
    "\n",
    "Note that a variable after another variable does not need to depend on that earlier variable.\n",
    "For example, we might sample $A$, $B$, and $C$ in that order, but maybe $B$ is sampled from a distribution that is fixed and independent of $A$, so the distribution factorizes into $p(A) p(B) p(C \\mid A,B)$.\n",
    "However, if $A$ and $B$ are independent, then it holds that $p(B \\mid A) = p(B)$,\n",
    "so $p(A) p(B) p(C \\mid A,B) = p(A) p(B \\mid A) p(C \\mid A,B)$!\n",
    "\n",
    "Finally, the order need not be defined beforehand. Consider, for example the following model:"
   ]
  },
  {
   "cell_type": "code",
   "execution_count": 21,
   "metadata": {},
   "outputs": [
    {
     "name": "stdout",
     "output_type": "stream",
     "text": [
      "{'A': True, 'B': False, 'C': False}\n"
     ]
    }
   ],
   "source": [
    "def weird_model():\n",
    "    a = sample(\"A\", Bernoulli(0.5))\n",
    "    if a:\n",
    "        b = sample(\"B\", Bernoulli(0.3))\n",
    "        c = sample(\"C\", Bernoulli(0.2 if b else 0.6))\n",
    "    else:\n",
    "        c = sample(\"C\", Bernoulli(0.4))\n",
    "        b = sample(\"B\", Bernoulli(0.1 if c else 0.2))\n",
    "\n",
    "rvs = run_model(weird_model)\n",
    "print(rvs)"
   ]
  },
  {
   "cell_type": "markdown",
   "metadata": {},
   "source": [
    "In this model, the factorization depends on $A$.\n",
    "If $A$ is `True`, then $B$ is sampled first and $C$ depends on $B$\n",
    "$$ p(A = \\text{True},B,C) = p(A = \\text{True}) p(B \\mid A = \\text{True}) p(C \\mid A = \\text{True}, B) $$\n",
    "\n",
    "If $A$ is `False`, it's the other way round.\n",
    "$$ p(A = \\text{False},B,C) = p(A = \\text{False}) p(C \\mid A = \\text{False}) p(B \\mid C, A = \\text{False}) $$\n",
    "\n",
    "Since we only want to evaluate complete assignments, it's sufficient to know that the \"local\" probabilities are *a* factorization of the joint distribution."
   ]
  },
  {
   "cell_type": "markdown",
   "metadata": {},
   "source": [
    "### Exercises\n",
    "\n",
    "tbd."
   ]
  },
  {
   "cell_type": "markdown",
   "metadata": {},
   "source": [
    "## 4. Inference\n",
    "\n",
    "#### Summary\n",
    "\n",
    "- we want to know $p(Z \\mid X=x)$ \n",
    "  - can't be derived analytically\n",
    "  - we could sample, but it's expensive\n",
    "- approximation\n",
    "  - choose a variational familiy (\"guide\" in pyro) $q_\\phi(Z)$\n",
    "  - try to optimize $\\phi$ to minimize $\\text{KL}(q(Z) \\parallel p(Z \\mid X=x))$\n",
    "  - we can't compute the KL directly, but we can optimize it via the equivalent \"ELBO\".\n",
    "  - the mean-field family is often a good choice for the guide.\n",
    "\n",
    "In the previous sections we have learned how we can write probabilistic programs in a way that allows us to (a) sample from the joint distribution and (b) evaluate the probability of a sample (i.e. a full variable assingment).\n",
    "But how do we obtain the posterior distribution when conditioning on observations of some RVs, i.e. $p(Z \\mid X=x)$?\n",
    "\n",
    "### Sampling\n",
    "\n",
    "First let's note that while we can use our probabilistic program to sample from the joint distribution, we can't use it directly to sample from the posterior distribution.\n",
    "A naive attempt at doing so could be to add a new implementation of `sample`\n",
    "- samples unobserved RVs normally, and\n",
    "- returns the observed value for observed variables.\n",
    "\n",
    "However, this would not sample from the conditional distribution.\n",
    "To see why, consider the following program:"
   ]
  },
  {
   "cell_type": "code",
   "execution_count": 22,
   "metadata": {},
   "outputs": [],
   "source": [
    "def simple_coins():\n",
    "    c1 = sample(\"c1\", Bernoulli(0.5))\n",
    "    c2 = sample(\"c2\", Bernoulli(0.9 if c1 else 0.1))"
   ]
  },
  {
   "cell_type": "markdown",
   "metadata": {},
   "source": [
    "If we observe that $c_2$ is heads, what do you think $c_1$ was?\n",
    "It's more likely that $c_1$ was heads (`True`) than tails (`False`) since heads for $c_1$ makes heads for $c_2$ much more likely.\n",
    "We can even quantify the distribution $p(c_1 \\mid c_2 = \\text{heads})$ exactly using Bayes' formula:\n",
    "$$\n",
    "  p(c_1 \\mid c_2 = \\text{heads}) = \\dfrac{p(c_2 = \\text{heads} \\mid c_1) p(c_1)}{p(c_2 = \\text{heads})}\\\\\n",
    "  p(c_1 = \\text{heads} \\mid c_2 = \\text{heads}) = \\dfrac{p(c_2 = \\text{heads} \\mid c_1 = \\text{heads}) p(c_1 = \\text{heads})}{p(c_2 = \\text{heads})} = \\dfrac{0.9 \\cdot 0.5}{0.5 \\cdot 0.9 + 0.5 \\cdot 0.1} = 0.9\\\\\n",
    "  p(c_1 = \\text{tails} \\mid c_2 = \\text{heads}) = \\dfrac{p(c_2 = \\text{heads} \\mid c_1 = \\text{tails}) p(c_1 = \\text{tails})}{p(c_2 = \\text{heads})} = \\dfrac{0.1 \\cdot 0.5}{0.5 \\cdot 0.9 + 0.5 \\cdot 0.1} = 0.1\\\\\n",
    "$$\n",
    "But imagine we would sample from `simple_coins` as described above, simply fixing \"c2\" to be heads.\n",
    "We would still sample $c_1$ from $\\text{Bernoulli}(0.5)$, although $c_1 \\mid (c_2 = \\text{heads}) \\sim \\text{Bernoulli}(0.9)$!\n",
    "Generally, there is a difference between \"intervention\" (simply fixing the values of the observed RVs without touching the others) and \"conditioning\" (changing the distribution of the unobserved variables to reflect the conditional distribution).\n",
    "\n",
    "However, there are other methods by which we can use a program like `simple_coins` to sample from the posterior distribution.\n",
    "The most simple and universal one is called *rejection sampling*.\n",
    "It draws normal samples from joint distribution, but since we are only interested in the cases where some \"condition\" holds (e.g. that $c_2 = \\text{heads}$), it \"rejects\" all samples where the condition is not true.\n",
    "This is as simple to implement as it sounds:"
   ]
  },
  {
   "cell_type": "code",
   "execution_count": 23,
   "metadata": {},
   "outputs": [
    {
     "data": {
      "image/png": "[encoded data removed]",
      "text/plain": [
       "<Figure size 432x288 with 1 Axes>"
      ]
     },
     "metadata": {
      "needs_background": "light"
     },
     "output_type": "display_data"
    },
    {
     "name": "stdout",
     "output_type": "stream",
     "text": [
      "Counter({True: 45, False: 4})\n",
      "49\n"
     ]
    }
   ],
   "source": [
    "n = 100\n",
    "samples_c1 = []\n",
    "\n",
    "# draw n samples\n",
    "for _ in range(n):\n",
    "    # draw the sample\n",
    "    rvs = run_model(simple_coins)\n",
    "    # check if the condition is satisfied\n",
    "    if rvs[\"c2\"] == True:\n",
    "        # record the value of c1\n",
    "        samples_c1.append(rvs[\"c1\"])\n",
    "\n",
    "# count and plot the outcome\n",
    "counts_c1 = Counter(samples_c1)\n",
    "plt.bar([str(k) for k in counts_c1.keys()], counts_c1.values())\n",
    "plt.show()\n",
    "print(counts_c1)\n",
    "print(len(samples_c1))"
   ]
  },
  {
   "cell_type": "markdown",
   "metadata": {},
   "source": [
    "As you can see, the samples of $c_1$ are distributed roughly according to the posterior distribution (with $p=0.9$ rather than $0.5$).\n",
    "But you probably have also noticed, that we have to throw away roughly half of our samples\n",
    "since the condition is only satisfied with probability 0.5!\n",
    "As you can imagine, if the probability of the condition becomes less likely, rejection sampling becomes rather inefficient.\n",
    "For example, our condition is normally the observation of a large dataset,\n",
    "and the probability of the condition is the probability to generate exactly that dataset from the model by chance!\n",
    "\n",
    "There are smarter ways of sampling from the conditional distribution such as [Metropolis-Hastings](https://en.wikipedia.org/wiki/Metropolis%E2%80%93Hastings_algorithm) sampling,\n",
    "which requires the ability to evaluate the probability of a sample (which we know how to do).\n",
    "However, sampling methods have some general disadvantages,\n",
    "for example that they don't provide us with a closed formula for (an approximation of) the posterior,\n",
    "unless combined with other methods such as kernel-density estimation.\n",
    "Therefore, we will now focus on a different method called \"variational inference\".\n",
    "It is, however, important to note that our way of defining probabilistic programs using `sample` is in principle sufficient to use advanced sampling algorithms on arbitrary models."
   ]
  },
  {
   "cell_type": "markdown",
   "metadata": {},
   "source": [
    "### Variational Inference\n",
    "\n",
    "(This section is basically a short summary of [Blei et al., 2017](https://www.tandfonline.com/doi/full/10.1080/01621459.2017.1285773))\n",
    "\n",
    "Remember that our goal is to determine the posterior distribution $p(Z \\mid X=x)$.\n",
    "While the posterior distribution can in principle be obtained via Bayes' formula,\n",
    "it requires to compute the normalization factor $p(X=x)$ (the \"evidence\"),\n",
    "which doesn't always have a closed form.\n",
    "\n",
    "Variational inference is based on the idea that instead of computing the posterior $p(Z \\mid X=x)$ directly, we *approximate* it by a different distribution $q(Z)$.\n",
    "We can do this by choosing a *familiy* of distributions $q_\\phi(Z)$,\n",
    "for which we try to find the optimal parameters $\\phi$ so that $q_\\phi(Z)$ is as similar to $p(Z \\mid X=x)$ as possible.\n",
    "What does \"similar\" mean?\n",
    "Since we talk about the similarity of distributions, a useful measure is the Kullback-Leibler divergence,\n",
    "which measures the \"expected\" difference of one distribution from another distribution:\n",
    "\n",
    "$$\n",
    "    \\text{KL}(p_1 \\parallel p_2)\n",
    "    = \\sum_x p_1(X=x) \\log \\left( \\dfrac{p_1(X=x)}{p_2(X=x)} \\right)\n",
    "    = \\mathbb{E}_{p_1}[\\log p_1(X)] - \\mathbb{E}_{p_1}[\\log p_2(X)].\n",
    "$$\n",
    "\n",
    "Note that the KL divergence is not symmetric, since the expected value is taken with respect to $p_1$!\n",
    "\n",
    "If we apply the KL divergence to the variational distribution $q_\\phi(Z)$ and the posterior $p(Z \\mid X=x)$,\n",
    "we get\n",
    "\n",
    "$$\n",
    "    \\text{KL}(q_\\phi(Z) \\parallel p(Z \\mid X=x)) = \\mathbb{E}_{q_\\phi}[\\log q_\\phi(Z)] - \\mathbb{E}_{q_\\phi}[\\log p(Z \\mid X=x)]\n",
    "$$\n",
    "\n",
    "Finding the best $\\phi$ now amounts to minimizing the KL divergence as stated above, so we have an objective function for optimizing $\\phi$!\n",
    "The problem is that we can't evaluate this objective function since we can't evaluate $p(Z \\mid X=x)$;\n",
    "our probabilistic programs only allow us to evaluate probabilities wrt. the joint distribution $p(X,Z)$.\n",
    "However, remember that we can rewrite $p(Z \\mid X=x)$ as\n",
    "$\\dfrac{p(X=x, Z)}{p(X=x)}.$\n",
    "The numerator is given by the joint distribution, so we can evaluate it.\n",
    "The denominator is the \"evidence\"; we can't evaluate it (which creates the whole problem in the first place), but we know that, for a given $x$, $p(X=x)$ is constant, and constants are irrelevant to an optimiziation objective.\n",
    "\n",
    "Let's apply this insight to our objective function:\n",
    "\n",
    "$$\n",
    "\\begin{align*}\n",
    "    \\text{KL}(q_\\phi(Z) \\parallel p(Z \\mid X=x))\n",
    "    &= \\mathbb{E}_{q_\\phi}[\\log q_\\phi(Z)] - \\mathbb{E}_{q_\\phi}[\\log p(X=x, Z) - \\log p(X=x)]\\\\\n",
    "    &= \\mathbb{E}_{q_\\phi}[\\log q_\\phi(Z)] - \\mathbb{E}_{q_\\phi}[\\log p(X=x,Z)] + \\log p(X=x).\n",
    "\\end{align*}\n",
    "$$\n",
    "\n",
    "Since the term $\\log p(X=x)$ is constant, we can ignore it for optimization and define the \"ELBO\" as:\n",
    "\n",
    "$$\n",
    "\\begin{align*}\n",
    "    \\text{ELBO}(q_\\phi) &= \\log p(X=x) - \\text{KL}(q(Z) \\parallel p(Z \\mid X=x))\\\\\n",
    "    &= \\mathbb{E}_{q_\\phi}[\\log p(X=x,Z)] - \\mathbb{E}_{q_\\phi}[\\log q_\\phi(Z)].\n",
    "\\end{align*}\n",
    "$$\n",
    "\n",
    "Note the change of sign: Instead of minimizing the KL divergence, we maximize the the ELBO, but the optimal parameters $\\phi$ are the same for both.\n",
    "ELBO stands for \"evidence lower bound\", because it is a lower bound to the log evidence $\\log p(X=x)$,\n",
    "as we can see from the equation above.\n",
    "If $q_\\phi$ and the posterior distribution are the same,\n",
    "then the KL divergence is 0 and  $\\text{ELBO}(q_\\phi) = \\log p(X=x)$.\n",
    "If $q_\\phi$ is an imperfect approximation of the posterior,\n",
    "then the KL divergence is positive and $\\text{ELBO}(q_\\phi) < \\log p(X=x)$,\n",
    "so generally\n",
    "\n",
    "$$\n",
    "    \\text{ELBO}(q_\\phi) \\leq \\log p(X=x).\n",
    "$$\n",
    "\n",
    "Note that the ELBO requires us to compute expected values wrt. $q_\\phi$.\n",
    "While this may be intractable (because we have to sum/integrate over $Z$),\n",
    "we can estimate these expectation by drawing samples of $Z$ from $q_\\phi$.\n",
    "Fortunately, we already know how express distributions that we can sample from,\n",
    "namely as probabilistic programs.\n",
    "We don't know yet how to optimize them, but that's the topic of the next section.\n",
    "\n",
    "The question remains how we choose the family $q_\\phi$.\n",
    "It needs to be flexible enough to allow for good approximations of the posterior while being simple enough to be optimized efficiently.\n",
    "A common strategy is to use a *mean-field* family, which treats each latent variable as independent.\n",
    "This family is easy to optimize and can capture any marginal distribution of individual variables,\n",
    "but it can't express correlations between latent variables.\n",
    "However, since we are often interested in the marginal posteriors of individual latent variables (e.g. to asses the certainty about an inferred parameter of our model), the mean-field family is very useful.\n",
    "\n",
    "In general, we can write the mean-field family as\n",
    "\n",
    "$$\n",
    "    q(Z) = \\prod_i q_i(Z_i),\n",
    "$$\n",
    "\n",
    "where each $q_i$ comes with its own parameters.\n",
    "We then choose a plausible $q_i$ for each latent variable $Z_i$.\n",
    "If you don't know anything else, the family of the variables conjugate prior is a good choice,\n",
    "but in principle any distribution with the same support as $Z_i$ works."
   ]
  },
  {
   "cell_type": "markdown",
   "metadata": {},
   "source": [
    "### Examples\n",
    "\n",
    "Let's look at some concrete examples now.\n",
    "First, we go back to our problem above, where we tried to infer the outcome of the first coin flip from the second.\n",
    "As a reminder, here is our model again:"
   ]
  },
  {
   "cell_type": "code",
   "execution_count": 24,
   "metadata": {},
   "outputs": [],
   "source": [
    "def simple_coins():\n",
    "    c1 = sample(\"c1\", Bernoulli(0.5))\n",
    "    c2 = sample(\"c2\", Bernoulli(0.9 if c1 else 0.1))"
   ]
  },
  {
   "cell_type": "markdown",
   "metadata": {},
   "source": [
    "So how do we choose our variational family $q_\\phi$?\n",
    "First of all, we know that it only concerns one variable, namely $c_1$, which is a binary variable.\n",
    "We also know that every possible distribution over a single binary varible is a Bernoulli distribution.\n",
    "Therefore, we know that the posterior $p(c_1 \\mid c_2)$ must also be a Bernoulli distribution,\n",
    "so the Bernoulli family is our best choice for $q_\\phi$, with $\\phi$ being the Bernoulli parameter.\n",
    "\n",
    "Since $q_\\phi$ is a family of distributions, we can now express it as a probabilistic program that takes some parameters ($\\phi$).\n",
    "Everytime we call this program with certain parameters, it describes a distribution, a member of the family $q_\\phi$.\n",
    "In pyro, the variational family is called *guide*, so we are going to follow this convention."
   ]
  },
  {
   "cell_type": "code",
   "execution_count": 25,
   "metadata": {},
   "outputs": [],
   "source": [
    "def simple_coins_guide(phi):\n",
    "    sample(\"c1\", Bernoulli(phi))"
   ]
  },
  {
   "cell_type": "markdown",
   "metadata": {},
   "source": [
    "Note how we `sample` $c_1$ just as we do in `simple_coins`.\n",
    "That's because we want to express that the RVs of the guide are the same as the unobserved variables of the model.\n",
    "The goal is now to find a `phi` that optimizes then ELBO between `simple_coins_guide` and the posterior of `simple_coins`.\n",
    "How we can do that will be the topic of the next section.\n",
    "\n",
    "Now let's look at another, slightly more complex example.\n",
    "Imagine that instead of assuming a fixed probability $\\theta$ for the first coin,\n",
    "we would like to infer the probability from observations.\n",
    "As we have learned in the first sections, this means including the probability into our model as a random varibale and define a joint distribution over $\\theta$, $c_1$, and $c_2$.\n",
    "The model `simple_coins` already tells us how to sample $c_1, c_2 \\mid \\theta$, so all we need is a prior for $\\theta$.\n",
    "We are going to go with the [Beta distribution](https://en.wikipedia.org/wiki/Beta_distribution) for $\\theta$, which is conjugate prior to the Bernoulli distribution in which $\\theta$ is used.\n",
    "Instead of defining this distribution ourselves (which we could do!), we are going to take it from `pyro.distributions`."
   ]
  },
  {
   "cell_type": "code",
   "execution_count": 26,
   "metadata": {},
   "outputs": [
    {
     "data": {
      "text/plain": [
       "{'theta': tensor(0.4052), 'c1': tensor(False), 'c2': False}"
      ]
     },
     "execution_count": 26,
     "metadata": {},
     "output_type": "execute_result"
    }
   ],
   "source": [
    "from pyro.distributions import Beta\n",
    "\n",
    "def complicated_coins():\n",
    "    theta = sample(\"theta\", Beta(1,1)) # this is just a uniform distribution between 0 and 1\n",
    "    c1 = sample(\"c1\", Bernoulli(theta))\n",
    "    c2 = sample(\"c2\", Bernoulli(0.9 if c1 else 0.1))\n",
    "\n",
    "run_model(complicated_coins)"
   ]
  },
  {
   "cell_type": "markdown",
   "metadata": {},
   "source": [
    "Huh! For some reason, using the Beta distribution from pyro makes our random values become some kind of `tensor` thing (at least some of them).\n",
    "We will figure out why in the next section, but for now we can ignore it.\n",
    "\n",
    "Now it's very difficult to obtain a reliable estimate of $\\theta$ from a single observation of $c_2$.\n",
    "In practice, we would have a whole dataset of observations that we can use to infer a parameter that underlies all of them.\n",
    "In this case, for example, we could flip $c_1$ and $c_2$ several times, assuming that the fairness of $c_1$ stays the same.\n",
    "Let's include this idea into our model:"
   ]
  },
  {
   "cell_type": "code",
   "execution_count": 27,
   "metadata": {},
   "outputs": [
    {
     "data": {
      "text/plain": [
       "{'theta': tensor(0.6939),\n",
       " 'c1_0': tensor(True),\n",
       " 'c2_0': True,\n",
       " 'c1_1': tensor(True),\n",
       " 'c2_1': True,\n",
       " 'c1_2': tensor(True),\n",
       " 'c2_2': True}"
      ]
     },
     "execution_count": 27,
     "metadata": {},
     "output_type": "execute_result"
    }
   ],
   "source": [
    "def complicated_coins(n):\n",
    "    # sample theta once\n",
    "    theta = sample(\"theta\", Beta(1,1))\n",
    "    for i in range(n):\n",
    "        c1 = sample(\"c1_{}\".format(i), Bernoulli(theta))\n",
    "        c2 = sample(\"c2_{}\".format(i), Bernoulli(0.9 if c1 else 0.1))\n",
    "\n",
    "run_model(complicated_coins, 3)"
   ]
  },
  {
   "cell_type": "markdown",
   "metadata": {},
   "source": [
    "In this version of `complicated_coins` we can provide an additional parameter `n` that tells us how many coin pairs we flip.\n",
    "Since we want to be able to distinguish the outcomes of each pair, we add an index to `c1` and `c2` indicating the trial.\n",
    "\n",
    "Now to the guide.\n",
    "Since we only want to observe the $c_2$s, we need to provide a guide for both $\\theta$ and the $c_1$ of each trial.\n",
    "For the $c_1$s we already know that we want a Bernoulli distribution,\n",
    "and for $\\theta$ we again choose a beta distribution, which has two parameters $\\alpha$ and $\\beta$.\n",
    "According to the mean-field strategy,\n",
    "we assume the $c_1$s and $\\theta$ to be independent in the posterior, so the guide is\n",
    "\n",
    "$$\n",
    "    q_\\phi(\\vec{c_1}, \\theta) = p(\\theta ;  \\alpha, \\beta) \\prod_i p(c_{1i} ; \\varphi_i),\n",
    "$$\n",
    "\n",
    "and $\\phi = (\\alpha, \\beta, \\vec{\\varphi})$.\n",
    "\n",
    "This is easy enough to write as a program:"
   ]
  },
  {
   "cell_type": "code",
   "execution_count": 28,
   "metadata": {},
   "outputs": [],
   "source": [
    "def complicated_coins_guide(n, alpha, beta, c1probs):\n",
    "    sample(\"theta\", Beta(alpha, beta))\n",
    "    for i in range(n):\n",
    "        sample(\"c1_{}\".format(i), Bernoulli(c1probs[i]))"
   ]
  },
  {
   "cell_type": "markdown",
   "metadata": {},
   "source": [
    "One thing that is not so nice is that the number of samples and the parameters of the family both appear as function parameters.\n",
    "While `n` is just used to make the model adaptable to the size of the dataset,\n",
    "`alpha`, `beta`, and `c1probs` are parameters that we want to optimize.\n",
    "To make this explicit (and to allow automatic optimization, which will be discussed later),\n",
    "pyro provides another function called `param`, which takes a parameter name and a starting value.\n",
    "It registers the parameter in a parameter store similar to how `sample` registers random variables.\n",
    "We can rewrite our guide to a form that matches the one used in pyro."
   ]
  },
  {
   "cell_type": "code",
   "execution_count": 41,
   "metadata": {},
   "outputs": [],
   "source": [
    "def param(name, initial_value):\n",
    "    return initial_value # does nothing interesting for now\n",
    "\n",
    "def complicated_coins_guide(n):\n",
    "    # params and distribution for theta\n",
    "    alpha = param(\"alpha\", 1.)\n",
    "    beta  = param(\"beta\",  1.)\n",
    "    sample(\"theta\", Beta(alpha, beta))\n",
    "    # params and distribution for c1\n",
    "    c1probs = param(\"c1probs\", [.5 for _ in n])\n",
    "    for i in range(n):\n",
    "        sample(\"c1_{}\".format(i), Bernoulli(c1probs[i]))"
   ]
  },
  {
   "cell_type": "markdown",
   "metadata": {},
   "source": [
    "Note how `complicated_coins_guide` now has the same signature as `complicated_coins`.\n",
    "This makes it easy to ensure that we always generate the same model structure (e.g. the same number of coin flips) in the model and the guide, by defining their arguments once and passing these arguments to both functions.\n",
    "\n",
    "The only thing that is missing now is how `param` works and how we can use it to optimize the parameters of the guide.\n",
    "This will be the topic of the last two sections."
   ]
  },
  {
   "cell_type": "markdown",
   "metadata": {},
   "source": [
    "#### Exercises\n",
    "\n",
    "tbd."
   ]
  },
  {
   "cell_type": "markdown",
   "metadata": {},
   "source": [
    "## 5. Optimization via PyTorch [WIP]\n",
    "\n",
    "- differentiation of arbitrary functions\n",
    "  - possible if composed out of simpler functions\n",
    "  - chain rule\n",
    "- backpropagation\n",
    "  - smart application of chain rule\n",
    "  - computes gradient at a given point\n",
    "  - forward pass: compute function, track intermediate varibales\n",
    "  - backward pass: compute gradients recursively using forward data\n",
    "- PyTorch\n",
    "  - \"tensors\" track values that come from differentiable computations\n",
    "  - computation similar to vectorized NumPy code\n",
    "  - implements backpropagation on tensors\n",
    "- optimize using gradient descent\n",
    "  - start from some parameter assignment, follow gradient to local minimum\n",
    "  - ready-made optimizers in PyTorch"
   ]
  },
  {
   "cell_type": "markdown",
   "metadata": {},
   "source": [
    "The problem that was left over from the previous section was how to find optimal parameters $\\phi$\n",
    "to maximize the ELBO of our variational distribution (or \"guide\") $q_\\phi$.\n",
    "A very general framework for optimizing some parameters ($\\phi$)\n",
    "wrt. some objective function ($\\text{ELBO}(q_\\phi)$) is *gradient descent*.\n",
    "The idea is to follow the *gradient* of the parameters,\n",
    "i.e. to repeatedly evaluate the derivative of the objective function at the current parameters\n",
    "and update the parameters in descending direction until a local minimum is reached.\n",
    "While gradient methods canonically *minimize* the function, we try to *maximize* the ELBO,\n",
    "but that's not a problem because maximizing the ELBO is the same as minimizing the negative ELBO.\n",
    "\n",
    "There are two caveats to using gradient descent.\n",
    "First, following the gradient only leads to a local minimum,\n",
    "we have no guarantee that we have reached a global minimum or even a \"good\" local minimum.\n",
    "However, finding the global minimum (or some approximation with a guaranteed quality) is generally intractable for the kind of problem that we are trying to solve,\n",
    "so a local minimum is basically the best we can hope for.\n",
    "Second, our objective function needs to be (locally) differentiable.\n",
    "\n",
    "A brief look at the ELBO tells us that we might have a bit of a problem here.\n",
    "\n",
    "$$\n",
    "    \\text{ELBO}(q_\\phi) = \\mathbb{E}_{q_\\phi} [p(Z \\mid X=x)] - \\mathbb{E}_{q_\\phi}[q(Z)]\n",
    "$$\n",
    "\n",
    "In order to optimize $\\phi$, we have to know the derivative of $\\text{ELBO}(q_\\phi)$ wrt. $\\phi$,\n",
    "but this depends on expected values over $q_\\phi$, and $q_\\phi$ is only given as a program, not as a formula that we could analyze.\n",
    "\n",
    "### Automatic Differentiation\n",
    "\n",
    "Pyro solves this program using a technique that's called *automatic differentiation*.\n",
    "In fact, it doesn't do that on its own but instead relies on an existing library, [PyTorch](https://pytorch.org/).\n",
    "The idea behind automatic differentiation is very similar to the idea behind probabilistic programming:\n",
    "We allow the programmer to define more or less arbitrary programs while imposing just enough restrictions on these programs to be able to do what we want (i.e. differentiation and probabilistic inference, respectively).\n",
    "\n",
    "So how does automatic differentiation work?\n",
    "It's most important ingredient is called the *chain rule*, which describes how derivation behaves under function composition, i.e. when two differentiable functions are combined by feeding the result of the first function into the second:\n",
    "\n",
    "$$\n",
    "    h = g \\circ f \\Longleftrightarrow h(x) = g(f(x)).\n",
    "$$\n",
    "\n",
    "Function composition $g \\circ f$ (read: \"$g$ after $f$\") is the most simple and universal form in which functions can be constructed out of simpler functions.\n",
    "The chain rule tells us how to obtain the derivative of the composed function from the derivatives of the simpler functions:\n",
    "\n",
    "$$\n",
    "    h' = (g \\circ f)' = (g' \\circ f) \\cdot f'\\\\\n",
    "    \\Longleftrightarrow\\\\\n",
    "    h'(x) = g'(f(x)) \\cdot f'(x)\n",
    "$$\n",
    "\n",
    "The chain rule allows us to compute the derivative of any function as long as it can be expressed as a composition of simpler functions, for which we know the derivative.\n",
    "Let's look at an example\n",
    "\n",
    "$$\n",
    "    h(x) = (x + 1)^2\n",
    "$$\n",
    "\n",
    "We can decompose $h$ into two functions $f$ and $g$ such that $h = g \\circ f$ by setting\n",
    "\n",
    "$$\n",
    "\\begin{align*}\n",
    "  f(x) &= x + 1\\\\\n",
    "  g(y) &= y^2\\\\\n",
    "  g(f(x)) &= f(x)^2 = (x+1)^2.\n",
    "\\end{align*}\n",
    "$$\n",
    "\n",
    "The chain rule tells us how to take the derivative of $h$ using the derivatives of $f$ and $g$:\n",
    "\n",
    "$$\n",
    "\\begin{align*}\n",
    "  f'(x) &= 1\\\\\n",
    "  g'(y) &= 2y\\\\\n",
    "  h'(x) &= g'(f(x)) \\cdot f'(x) = 2(x+1) \\cdot 1.\n",
    "\\end{align*}\n",
    "$$\n",
    "\n",
    "We can evaluate this derivative at a certain point to get the gradient of $h$ at that point, for example:\n",
    "\n",
    "$$\n",
    "    h'(5) = 2(5+1) \\cdot 1 = 12.\n",
    "$$\n",
    "\n",
    "Torch lets us do all of this automatically if we write functions that are composed of simple functions that have a known derivative.\n",
    "Let's write the above function $h$ as a python function:"
   ]
  },
  {
   "cell_type": "code",
   "execution_count": 30,
   "metadata": {},
   "outputs": [],
   "source": [
    "def h(x):\n",
    "    return (x+1)**2"
   ]
  },
  {
   "cell_type": "markdown",
   "metadata": {},
   "source": [
    "So how do we get the derivative of this function?\n",
    "It turns out we can't really get that, at least not in a symbolic form,\n",
    "but we get something that is as good for our purpose:\n",
    "Whenever we feed $h$ with a concrete value, we can obtain the gradient at that value.\n",
    "Here is how:"
   ]
  },
  {
   "cell_type": "code",
   "execution_count": 31,
   "metadata": {},
   "outputs": [
    {
     "data": {
      "text/plain": [
       "tensor(12.)"
      ]
     },
     "execution_count": 31,
     "metadata": {},
     "output_type": "execute_result"
    }
   ],
   "source": [
    "import torch\n",
    "\n",
    "x = torch.tensor(5., requires_grad=True)\n",
    "z = h(x)\n",
    "z.backward()\n",
    "x.grad"
   ]
  },
  {
   "cell_type": "markdown",
   "metadata": {},
   "source": [
    "So what is going on here?\n",
    "First, let's note that we don't feed $h$ with a number,\n",
    "but we first wrap the number into a `tensor`.\n",
    "Tensors are what allows PyTorch to track the functions that are called to compute the final result.\n",
    "They are very similar to NumPy arrays in that they overload all the basic arithmetic functions,\n",
    "which allows the programmer to use normal python operators but provides different implementation to them.\n",
    "While NumPy provides efficient implementations for numeric arrays,\n",
    "PyTorch adds the tracking that is required for automatic differentiation.\n",
    "\n",
    "(PyTorch tensors can be multidimensional arrays, as the name indicates, in the example above we just used a zero-dimensional array, i.e. a scalar value.\n",
    "You can even convert NumPy arrays and PyTorch tensors into each other.)\n",
    "\n",
    "So what kind of additional information is needed for differentiation?\n",
    "Consider the order in which the operations are applied to the input to generate the output:\n",
    "\n",
    "$$\n",
    "\\begin{align*}\n",
    "  x &&&= 5\\\\\n",
    "  y &= x+1 &&= 6\\\\\n",
    "  z &= y^2 &&= 36. \\\\\n",
    "\\end{align*}\n",
    "$$\n",
    "\n",
    "This computation is called the *forward pass*.\n",
    "Each of these variables needs to know three things:\n",
    "- its value (e.g. $36$ for $z$)\n",
    "- its inputs (e.g. $y$)\n",
    "- the function that computes its value from the inputs (e.g. $g(y) = x^2$)\n",
    "\n",
    "This information is also what PyTorch tensors track, but they do so in a slightly indirect way that's not so easy to inspect.\n",
    "However, we can still see that $z$ is the result of a power function:"
   ]
  },
  {
   "cell_type": "code",
   "execution_count": 32,
   "metadata": {},
   "outputs": [
    {
     "data": {
      "text/plain": [
       "<PowBackward0 at 0x7f4d6fe953a0>"
      ]
     },
     "execution_count": 32,
     "metadata": {},
     "output_type": "execute_result"
    }
   ],
   "source": [
    "z._grad_fn"
   ]
  },
  {
   "cell_type": "markdown",
   "metadata": {},
   "source": [
    "The method `backward` now computes the gradient of the input values (i.e. $x$) wrt. the output $z = h(x)$.\n",
    "It does so by starting at $z$ and recursively computing the gradient of each tensor\n",
    "using the information collected in the forward pass.\n",
    "\n",
    "$$\n",
    "\\begin{align*}\n",
    "  \\nabla_z z &= 1\\\\\n",
    "  \\nabla_y z &= g'(y) &&= 2 \\cdot 6 &&= 12\\\\\n",
    "  \\nabla_x z &= g'(f(x)) \\cdot f'(x) &&= (2 \\cdot (5+1)) \\cdot 1 &&= 12\n",
    "\\end{align*}\n",
    "$$\n",
    "\n",
    "Note how computing the gradients uses information from the forward pass:\n",
    "$\\Delta y$ depends on $y$ and $\\Delta x$ depends on both $x$ and $f(x) = y$!\n",
    "However, we also reuse information from the previous step of the backward pass.\n",
    "That's easy to see in the last step, where we use $g'(f(x)) = g(y) = \\Delta y$.\n",
    "In the second step it's not so obvious,\n",
    "because the gradient of $z$ wrt. $z$ is the gradient of the identity function, which is 1 everywhere.\n",
    "However, we can rewrite the above calculation to reveal the pattern at each point:\n",
    "\n",
    "$$\n",
    "\\begin{align*}\n",
    "  \\nabla_z z &= id'(z) &&&&= 1\\\\\n",
    "  \\nabla_y z &= id'(g(y)) \\cdot g'(y) &&= \\nabla_z z \\cdot g'(y) &&= 12\\\\\n",
    "  \\nabla_x z &= id'(g(f(x)) \\cdot g'(f(x)) \\cdot f'(x) &&= \\nabla_y z \\cdot f'(x) &&= 12\n",
    "\\end{align*}\n",
    "$$\n",
    "\n",
    "From the second column we can see how the gradient results from an application of the chain rule.\n",
    "The third column, however, reveals how each gradient can be easily computed from the previous gradient and the local information in the forward pass.\n",
    "This algorithm is known as *backpropagation*, and it's exactly what the `backward` method does:\n",
    "Compute all the local gradients recursively down to the input tensors.\n",
    "\n",
    "They key for this algorithm to work is that the derivatives of the individual component functions (here $f$ and $g$) are known.\n",
    "PyTorch solves this using a `Function` class which has a `forward` and a `backward` method.\n",
    "The `forward` method returns the result of the function when provided with an input.\n",
    "The `backward` method takes the gradient of the output and the results of the forward pass and returns the gradient of the input.\n",
    "Notice the similarity to the `Distribution` class with it's `sample` and `log_p` methods, where one is used for running the probabilistic program (\"forward\") and the other is used for inference over a program using existing values (kind of analogous to \"backward\").\n",
    "The main difference is that the differentiable tensors need to be connected explicitly (by using one as an input of the other), while the random variables in a probabilistic program can more indirectly depend on each other."
   ]
  },
  {
   "cell_type": "markdown",
   "metadata": {},
   "source": [
    "### Optimization using Gradient Descent\n",
    "\n",
    "Now that we know the gradient for a function's parameter at some point, how can we use it to optimize the function?\n",
    "We use an algorithm that is called *gradient descent* and does exactly that:\n",
    "It follows the gradient until it finds a local minimum.\n",
    "How does it do that?\n",
    "\n",
    "First of all, the gradient tells us the direction towards a minimum.\n",
    "If the gradient is positive, the minimum is to the left; if it's negative, the minimum is to the right.\n",
    "So we know the direction in which we have to go, but not how far.\n",
    "However, we know that the gradient is exactly $0$ at the minimum but larger (absolutely) between a minimum and the next maximum or saddle point.\n",
    "Therefore, the magnitude of the gradient can be taken as a rough estimate of how far away we are from the minimum.\n",
    "The larger the magnitude, the bigger the step that we want to take.\n",
    "However, since we don't know reliably how far the minimum is actually away and we don't want to overshoot it (potentially ending up farther away from it then before), we scale the gradient by a small factor, called the *learning rate* $\\lambda$.\n",
    "\n",
    "In total, we end up with the following formula for updating our parameter $x$:\n",
    "$$\n",
    "    x' = x - \\lambda \\cdot \\nabla_x h(x).\n",
    "$$\n",
    "\n",
    "This parameter update is repeated either for a fixed number of iterations or until we get a very small gradient, indicating that we are close to a minimum.\n",
    "\n",
    "Let's see how this algorithm can be applied to our function $h$.\n",
    "Note that we add a bit of code so that we can inspect what happens during optimization."
   ]
  },
  {
   "cell_type": "code",
   "execution_count": 33,
   "metadata": {},
   "outputs": [
    {
     "name": "stdout",
     "output_type": "stream",
     "text": [
      "optimal x    = -0.9999998807907104\n",
      "optimal h(x) = 1.4210854715202004e-14\n"
     ]
    },
    {
     "data": {
      "image/png": "[encoded data removed]",
      "text/plain": [
       "<Figure size 432x288 with 1 Axes>"
      ]
     },
     "metadata": {
      "needs_background": "light"
     },
     "output_type": "display_data"
    },
    {
     "data": {
      "image/png": "[encoded data removed]",
      "text/plain": [
       "<Figure size 432x288 with 1 Axes>"
      ]
     },
     "metadata": {
      "needs_background": "light"
     },
     "output_type": "display_data"
    },
    {
     "data": {
      "image/png": "[encoded data removed]",
      "text/plain": [
       "<Figure size 432x288 with 1 Axes>"
      ]
     },
     "metadata": {
      "needs_background": "light"
     },
     "output_type": "display_data"
    }
   ],
   "source": [
    "## gradient descent\n",
    "n = 100  # number of iterations\n",
    "zs = []  # for tracking the value of z=h(x)\n",
    "xs = []  # for tracking the value of x\n",
    "lr = 0.1 # learning rate\n",
    "\n",
    "# initial value of x\n",
    "x = torch.tensor(5., requires_grad=True)\n",
    "\n",
    "for _ in range(n):\n",
    "    z = h(x)                   # forward\n",
    "    z.backward()               # backward pass\n",
    "    zs.append(z.item())        # record z value\n",
    "    xs.append(x.item())        # record x value\n",
    "    x.data -= lr * x.grad.data # parameter update\n",
    "    x.grad.zero_() # reset the gradient, this is required because PyTorch adds to the existing gradient\n",
    "\n",
    "# output\n",
    "print(\"optimal x    =\", x.item())\n",
    "print(\"optimal h(x) =\", h(x.item()))\n",
    "\n",
    "# plots the histories of z and x\n",
    "\n",
    "plt.plot(zs)\n",
    "plt.title(\"value of z over time\")\n",
    "plt.xlabel(\"iteration\")\n",
    "plt.ylabel(\"z\")\n",
    "plt.show()\n",
    "\n",
    "plt.plot(xs)\n",
    "plt.title(\"value of x over time\")\n",
    "plt.xlabel(\"iteration\")\n",
    "plt.ylabel(\"x\")\n",
    "plt.show()\n",
    "\n",
    "pltxs = np.linspace(-6.,6.,100)\n",
    "pltzs = h(pltxs)\n",
    "plt.plot(pltxs, pltzs)\n",
    "plt.scatter(xs,zs)\n",
    "#plt.annotate(xy=())\n",
    "for i in range(n-1):\n",
    "    plt.annotate(\"\", xy=(xs[i+1], zs[i+1]), xytext=(xs[i], zs[i]),\n",
    "                 arrowprops=dict(arrowstyle=\"->\"))\n",
    "plt.title(\"exploration of h\")\n",
    "plt.xlabel(\"x\")\n",
    "plt.ylabel(\"z\")\n",
    "plt.show()"
   ]
  },
  {
   "cell_type": "markdown",
   "metadata": {},
   "source": [
    "As you can see above, the value of $x$ quickly approaches the optimum of $-1$.\n",
    "However, we also picked a particularly simple problem.\n",
    "In more complex situations, vanilla gradient descent might be too slow,\n",
    "especially if we have to pick a smaller learning rate (0.1 is rather large).\n",
    "Fortunately, we can substitute our update rule for [smarter methods such as Adam or RMSProp](https://ruder.io/optimizing-gradient-descent/index.html).\n",
    "All of those still just update the parameters using the gradient,\n",
    "but they might use some form of memory over the past gradients to change the update in clever ways.\n",
    "\n",
    "You don't even have to implement any of these yourself, as PyTorch provides them it its [torch.optim module](https://pytorch.org/docs/stable/optim.html):"
   ]
  },
  {
   "cell_type": "code",
   "execution_count": 34,
   "metadata": {},
   "outputs": [
    {
     "name": "stdout",
     "output_type": "stream",
     "text": [
      "optimal x    = -0.9999998807907104\n",
      "optimal h(x) = 1.4210854715202004e-14\n"
     ]
    },
    {
     "data": {
      "image/png": "[encoded data removed]",
      "text/plain": [
       "<Figure size 432x288 with 1 Axes>"
      ]
     },
     "metadata": {
      "needs_background": "light"
     },
     "output_type": "display_data"
    },
    {
     "data": {
      "image/png": "[encoded data removed]",
      "text/plain": [
       "<Figure size 432x288 with 1 Axes>"
      ]
     },
     "metadata": {
      "needs_background": "light"
     },
     "output_type": "display_data"
    },
    {
     "data": {
      "image/png": "[encoded data removed]",
      "text/plain": [
       "<Figure size 432x288 with 1 Axes>"
      ]
     },
     "metadata": {
      "needs_background": "light"
     },
     "output_type": "display_data"
    }
   ],
   "source": [
    "# example using optimizers\n",
    "import torch.optim\n",
    "\n",
    "x = torch.tensor(5., requires_grad=True)\n",
    "optimizer = torch.optim.SGD([x], lr=0.1) # stochastic gradient descent, equivalent to GD in our case.\n",
    "\n",
    "n = 100\n",
    "xs = []\n",
    "zs = []\n",
    "for _ in range(n):\n",
    "    optimizer.zero_grad() # automatically clears all gradients\n",
    "    z = h(x)\n",
    "    z.backward()\n",
    "    xs.append(x.item())\n",
    "    zs.append(z.item())\n",
    "    optimizer.step() # performs the parameter updates\n",
    "\n",
    "print(\"optimal x    =\", x.item())\n",
    "print(\"optimal h(x) =\", z.item())\n",
    "\n",
    "plt.plot(xs)\n",
    "plt.show()\n",
    "\n",
    "plt.plot(zs)\n",
    "plt.show()\n",
    "\n",
    "plt.plot(pltxs, pltzs)\n",
    "plt.scatter(xs, zs)\n",
    "for i in range(n-1):\n",
    "    plt.annotate(\"\", xy=(xs[i+1], zs[i+1]), xytext=(xs[i], zs[i]),\n",
    "                 arrowprops=dict(arrowstyle=\"->\"))\n",
    "plt.show()"
   ]
  },
  {
   "cell_type": "markdown",
   "metadata": {},
   "source": [
    "So how does PyTorch fit into our own little pyro implementation?\n",
    "Remember that what we try to do is to find the optimal parameters of our guide distribution $q_\\phi$ with respect to the ELBO loss function.\n",
    "We express both the model and the quide as probabilistic programs that can be used to compute the probability of a sample under the model or guide distribution, respectively.\n",
    "The full path from the ELBO loss to the parameters of the guide will be detailed in the next section,\n",
    "but it's important to see how PyTorch's automatic differentiation and pyro's distributions interact.\n",
    "\n",
    "It turns out that they already work together perfectly!\n",
    "Due to operator overloading, all we have to do is use tensors instead of raw numbers is distribution parameters.\n",
    "This even works for our own distribution implementations as long as they use operations that are supported by PyTorch, which means that we might have to replace some NumPy functions with the corresponding PyTorch functions."
   ]
  },
  {
   "cell_type": "code",
   "execution_count": 35,
   "metadata": {},
   "outputs": [
    {
     "name": "stdout",
     "output_type": "stream",
     "text": [
      "log prob      = -0.9162907004356384\n",
      "prob          = 0.4000000059604645\n",
      "gradient of p = 2.5\n"
     ]
    }
   ],
   "source": [
    "class Bernoulli(Distribution):\n",
    "    def __init__(self, p):\n",
    "        self.p = p\n",
    "    \n",
    "    def sample(self):\n",
    "        return random.random() < self.p\n",
    "    \n",
    "    def log_p(self, heads):\n",
    "        return torch.log(self.p if heads else 1-self.p)\n",
    "\n",
    "p = torch.tensor(0.4, requires_grad=True)\n",
    "dist = Bernoulli(p)\n",
    "logprob = dist.log_p(True)\n",
    "\n",
    "print(\"log prob      =\", logprob.item())\n",
    "print(\"prob          =\", torch.exp(logprob).item())\n",
    "\n",
    "logprob.backward()\n",
    "print(\"gradient of p =\", p.grad.item())"
   ]
  },
  {
   "cell_type": "markdown",
   "metadata": {},
   "source": [
    "Now we could, for example, go on and try to optimize $p$ wrt. the (log) probability of $X=\\text{heads}$.\n",
    "We would have to be careful though to keep $p$ between 0 and 1!"
   ]
  },
  {
   "cell_type": "markdown",
   "metadata": {},
   "source": [
    "### Optimizing the ELBO\n",
    "\n",
    "- ELBO can be MC estimated\n",
    "- can't take gradient of the naive ELBO estimate\n",
    "  - dependency to parameters is \"realized\" with randomness\n",
    "  - better: MC estimate of the gradient!"
   ]
  },
  {
   "cell_type": "markdown",
   "metadata": {},
   "source": [
    "## 6. Lighting the Whole Thing Up\n",
    "\n",
    "- torch + \"sample\" + distributions = pyro"
   ]
  },
  {
   "cell_type": "code",
   "execution_count": 39,
   "metadata": {},
   "outputs": [],
   "source": [
    "def stochastic_elbo(model, guide, observations, args, kwargs):\n",
    "    # obtain a sample from the guide\n",
    "    run_model(guide, *args, **kwargs)\n",
    "    \n",
    "    # evaluate the sample under the model\n",
    "    observed = {**observations, **sample}\n",
    "    model_probs = eval_model(model, observed, *args, **kwargs)\n",
    "    log_p = joint_log_p(model_probs)\n",
    "    \n",
    "    # evaluate the sample under the guide\n",
    "    guide_probs = eval_model(guide, sample, *args, **kwargs)\n",
    "    log_q = joint_log_p\n",
    "    \n",
    "    # compute the elbo\n",
    "    elbo = log_p - log_q\n",
    "    \n",
    "    return -elbo # ELBO must be maximized, but torch wants to minimize"
   ]
  },
  {
   "cell_type": "code",
   "execution_count": 40,
   "metadata": {},
   "outputs": [],
   "source": [
    "def differentiable_stochastic_elbo(model, guide, observations, args, kwargs):\n",
    "    # obtain a sample from the guide\n",
    "    run_model(guide, *args, **kwargs)\n",
    "    \n",
    "    # evaluate the sample under the model\n",
    "    observed = {**observations, **sample}\n",
    "    model_probs = eval_model(model, observed, *args, **kwargs)\n",
    "    log_p = joint_log_p(model_probs)\n",
    "    \n",
    "    # evaluate the sample under the guide\n",
    "    guide_probs = eval_model(guide, sample, *args, **kwargs)\n",
    "    log_q = joint_log_p(guide_probs)\n",
    "    \n",
    "    # compute the differentiable elbo\n",
    "    r = log_p - log_q\n",
    "    diff_elbo = log_q                * r.detach()\n",
    "    #           ^ this is autodiffed   ^ this is treated as a constant that scales the gradient\n",
    "    #                                  .detach() prevents the parameters from being included via r\n",
    "    \n",
    "    return -elbo # ELBO is maximized, -ELBO is minimized"
   ]
  },
  {
   "cell_type": "code",
   "execution_count": 45,
   "metadata": {},
   "outputs": [],
   "source": [
    "param_store = {}\n",
    "\n",
    "def clear_param_store():\n",
    "    global param_store\n",
    "    param_store = {}\n",
    "\n",
    "def get_param_store():\n",
    "    return param_store.copy()\n",
    "\n",
    "def param(name, initial_value):\n",
    "    \"\"\"Register a parameter in the parameter store.\n",
    "    \n",
    "    Returns the value of the parameter or `initial_value` if the parameter does not exist.\"\"\"\n",
    "    return para_store.setdefault(name, initial_value)"
   ]
  },
  {
   "cell_type": "code",
   "execution_count": 46,
   "metadata": {},
   "outputs": [],
   "source": [
    "class Optimizer:\n",
    "    def __init__(self, opt, *args, **kwargs):\n",
    "        self.opt = opt\n",
    "        self.args = args\n",
    "        self.kwargs = kwargs\n",
    "        self.param_opts = {} # stores a separate optimizer instance for each parameter\n",
    "    \n",
    "    def step(self, params):\n",
    "        for name, param in params.items():\n",
    "            # optimize each parameter\n",
    "            if name in self.param_dict:\n",
    "                # already seen? then just retrieve its optimizer\n",
    "                param_opt = self.param_opts[name]\n",
    "            else:\n",
    "                # not seen yet? then create a new optimizer and store it\n",
    "                param_opt = self.opt([param], *self.args, **self.kwargs)\n",
    "                self.param_opts[name] = param_opt\n",
    "            \n",
    "            # use the optimizer to perfom the parameter update\n",
    "            param_opt.step()\n",
    "            param_opt.zero_grad()"
   ]
  },
  {
   "cell_type": "code",
   "execution_count": 47,
   "metadata": {},
   "outputs": [],
   "source": [
    "class SVI:\n",
    "    def __init__(self, model, guide, obs, opt, loss):\n",
    "        self.model = model\n",
    "        self.guide = guide\n",
    "        self.obs   = obs\n",
    "        self.opt   = opt\n",
    "        self.loss  = loss\n",
    "        \n",
    "        # for simplicity we assume a fixed set of parameters that we get by running the guide once.\n",
    "        self.guide()\n",
    "    \n",
    "    def step(self, *args, **kwargs):\n",
    "        # run the loss function and trace the parameters\n",
    "        clear_param_store()\n",
    "        loss = self.loss(self.model, self.guide, self.obs, args, kwargs)\n",
    "        params = get_param_store()\n",
    "        \n",
    "        # compute the gradient\n",
    "        loss.backward()\n",
    "        \n",
    "        # run the optimizer\n",
    "        self.opt.step()\n",
    "        \n",
    "        # return the loss value\n",
    "        return loss.item()"
   ]
  },
  {
   "cell_type": "code",
   "execution_count": null,
   "metadata": {},
   "outputs": [],
   "source": []
  }
 ],
 "metadata": {
  "@webio": {
   "lastCommId": null,
   "lastKernelId": null
  },
  "kernelspec": {
   "display_name": "harmony-model",
   "language": "python",
   "name": "harmony-model"
  },
  "language_info": {
   "codemirror_mode": {
    "name": "ipython",
    "version": 3
   },
   "file_extension": ".py",
   "mimetype": "text/x-python",
   "name": "python",
   "nbconvert_exporter": "python",
   "pygments_lexer": "ipython3",
   "version": "3.8.3"
  }
 },
 "nbformat": 4,
 "nbformat_minor": 2
}
